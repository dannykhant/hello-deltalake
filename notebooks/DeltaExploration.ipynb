{
 "cells": [
  {
   "cell_type": "code",
   "execution_count": 0,
   "metadata": {
    "application/vnd.databricks.v1+cell": {
     "cellMetadata": {
      "byteLimit": 2048000,
      "rowLimit": 10000
     },
     "inputWidgets": {},
     "nuid": "f4509761-cbeb-4cf9-bc1e-43b8a4a06ee7",
     "showTitle": false,
     "tableResultSettingsMap": {},
     "title": ""
    }
   },
   "outputs": [],
   "source": [
    "df = spark.read.format(\"csv\")\\\n",
    "            .option(\"header\", \"true\")\\\n",
    "            .option(\"inferSchema\", \"true\")\\\n",
    "            .load(\"/Volumes/workspace/my_delta/filestore/source_data/sales_data_first.csv\")"
   ]
  },
  {
   "cell_type": "markdown",
   "metadata": {
    "application/vnd.databricks.v1+cell": {
     "cellMetadata": {},
     "inputWidgets": {},
     "nuid": "d1ec77b0-9a7a-4afc-86bb-48583eff4a8c",
     "showTitle": false,
     "tableResultSettingsMap": {},
     "title": ""
    }
   },
   "source": [
    "#### Writing Delta Format"
   ]
  },
  {
   "cell_type": "code",
   "execution_count": 0,
   "metadata": {
    "application/vnd.databricks.v1+cell": {
     "cellMetadata": {
      "byteLimit": 2048000,
      "rowLimit": 10000
     },
     "inputWidgets": {},
     "nuid": "95f7a87a-7a5b-41a9-94e7-2fc236adb2e5",
     "showTitle": false,
     "tableResultSettingsMap": {},
     "title": ""
    }
   },
   "outputs": [],
   "source": [
    "df.write.format(\"delta\")\\\n",
    "        .option(\"path\", \"/Volumes/workspace/my_delta/filestore/sink_data/my_1st_delta\")\\\n",
    "        .save()"
   ]
  },
  {
   "cell_type": "code",
   "execution_count": 0,
   "metadata": {
    "application/vnd.databricks.v1+cell": {
     "cellMetadata": {
      "byteLimit": 2048000,
      "rowLimit": 10000
     },
     "inputWidgets": {},
     "nuid": "fbfc856a-8950-42a3-ba7c-82ed167a645a",
     "showTitle": false,
     "tableResultSettingsMap": {},
     "title": ""
    }
   },
   "outputs": [
    {
     "output_type": "display_data",
     "data": {
      "text/html": [
       "<style scoped>\n",
       "  .table-result-container {\n",
       "    max-height: 300px;\n",
       "    overflow: auto;\n",
       "  }\n",
       "  table, th, td {\n",
       "    border: 1px solid black;\n",
       "    border-collapse: collapse;\n",
       "  }\n",
       "  th, td {\n",
       "    padding: 5px;\n",
       "  }\n",
       "  th {\n",
       "    text-align: left;\n",
       "  }\n",
       "</style><div class='table-result-container'><table class='table-result'><thead style='background-color: white'><tr><th>Branch_ID</th><th>Dealer_ID</th><th>Model_ID</th><th>Revenue</th><th>Units_Sold</th><th>Date_ID</th><th>Month</th><th>Year</th><th>BranchName</th><th>DealerName</th><th>Product_Name</th><th>Date</th></tr></thead><tbody><tr><td>BR0006</td><td>DLR0168</td><td>Ren-M128</td><td>12971088</td><td>3</td><td>DT01236</td><td>5</td><td>2020</td><td>AC Cars Motors</td><td>Saab Motors</td><td>Renault</td><td>5/20/2020 0:00</td></tr><tr><td>BR0011</td><td>DLR0069</td><td>Vol-M256</td><td>14181510</td><td>3</td><td>DT01225</td><td>5</td><td>2020</td><td>Acura Motors</td><td>Geo Motors</td><td>Volkswagen</td><td>5/9/2020 0:00</td></tr><tr><td>BR0021</td><td>DLR0070</td><td>Vol-M257</td><td>7738896</td><td>1</td><td>DT01226</td><td>5</td><td>2020</td><td>Aixam-Mega (including Arola) Motors</td><td>Gilbern Motors</td><td>Volkswagen</td><td>5/10/2020 0:00</td></tr><tr><td>BR0031</td><td>DLR0071</td><td>Vol-M258</td><td>10067596</td><td>2</td><td>DT01227</td><td>5</td><td>2020</td><td>Alfa Romeo Motors</td><td>Ginetta Motors</td><td>Volkswagen</td><td>5/11/2020 0:00</td></tr><tr><td>BR0041</td><td>DLR0072</td><td>Vol-M259</td><td>13055810</td><td>2</td><td>DT01228</td><td>5</td><td>2020</td><td>Alpine Motors</td><td>Glas Motors</td><td>Volkswagen</td><td>5/12/2020 0:00</td></tr><tr><td>BR0051</td><td>DLR0073</td><td>Vol-M260</td><td>2224368</td><td>1</td><td>DT01229</td><td>5</td><td>2020</td><td>Alvis Motors</td><td>GMC Motors</td><td>Volkswagen</td><td>5/13/2020 0:00</td></tr><tr><td>BR0061</td><td>DLR0074</td><td>Nis-M261</td><td>11270580</td><td>3</td><td>DT01230</td><td>5</td><td>2020</td><td>AMC, Eagle Motors</td><td>GTA Spano Motors</td><td>Nissan</td><td>5/14/2020 0:00</td></tr><tr><td>BR0066</td><td>DLR0169</td><td>Ren-M129</td><td>693559</td><td>1</td><td>DT01237</td><td>5</td><td>2020</td><td>Acura Motors</td><td>SAIC Motor Motors</td><td>Renault</td><td>5/21/2020 0:00</td></tr><tr><td>BR0071</td><td>DLR0075</td><td>Nis-M262</td><td>18784710</td><td>3</td><td>DT01231</td><td>5</td><td>2020</td><td>Anadol Motors</td><td>Gumpert Motors</td><td>Nissan</td><td>5/15/2020 0:00</td></tr><tr><td>BR0081</td><td>DLR0076</td><td>Nis-M263</td><td>2354637</td><td>3</td><td>DT01232</td><td>5</td><td>2020</td><td>Ariel Motors</td><td>Healey Motors</td><td>Nissan</td><td>5/16/2020 0:00</td></tr><tr><td>BR0121</td><td>DLR0080</td><td>Nis-M267</td><td>5421046</td><td>2</td><td>DT01236</td><td>5</td><td>2020</td><td>Aston Martin Motors</td><td>Hindustan Motors</td><td>Nissan</td><td>5/20/2020 0:00</td></tr><tr><td>BR0126</td><td>DLR0170</td><td>Ren-M130</td><td>8445560</td><td>2</td><td>DT01238</td><td>5</td><td>2020</td><td>Aixam-Mega (including Arola) Motors</td><td>Saleen Motors</td><td>Renault</td><td>5/22/2020 0:00</td></tr><tr><td>BR0131</td><td>DLR0081</td><td>Nis-M268</td><td>28034733</td><td>3</td><td>DT01237</td><td>5</td><td>2020</td><td>Audi Motors</td><td>Holden Motors</td><td>Nissan</td><td>5/21/2020 0:00</td></tr><tr><td>BR0141</td><td>DLR0082</td><td>Nis-M269</td><td>17522592</td><td>2</td><td>DT01238</td><td>5</td><td>2020</td><td>Autobianchi Motors</td><td>Honda Motors</td><td>Nissan</td><td>5/22/2020 0:00</td></tr><tr><td>BR0151</td><td>DLR0083</td><td>Nis-M270</td><td>25901364</td><td>3</td><td>DT01239</td><td>5</td><td>2020</td><td>Auto-Union Motors</td><td>Honda India Motors</td><td>Nissan</td><td>5/23/2020 0:00</td></tr><tr><td>BR0181</td><td>DLR0086</td><td>Sko-M273</td><td>7915343</td><td>1</td><td>DT01242</td><td>5</td><td>2020</td><td>Bitter Motors</td><td>Hummer Motors</td><td>Skoda</td><td>5/26/2020 0:00</td></tr><tr><td>BR0186</td><td>DLR0171</td><td>Ren-M131</td><td>7078128</td><td>1</td><td>DT01239</td><td>5</td><td>2020</td><td>Alfa Romeo Motors</td><td>Samsung Motors</td><td>Renault</td><td>5/23/2020 0:00</td></tr><tr><td>BR0191</td><td>DLR0087</td><td>Sko-M274</td><td>24183663</td><td>3</td><td>DT01243</td><td>5</td><td>2020</td><td>BMW Motors</td><td>Hyundai Motors</td><td>Skoda</td><td>5/27/2020 0:00</td></tr><tr><td>BR0201</td><td>DLR0088</td><td>Mit-M275</td><td>847952</td><td>2</td><td>DT01244</td><td>5</td><td>2020</td><td>Bond Motors</td><td>IFA (including Trabant, Wartburg, Barkas) Motors</td><td>Mitsubishi</td><td>5/28/2020 0:00</td></tr><tr><td>BR0211</td><td>DLR0089</td><td>Mit-M276</td><td>2887860</td><td>1</td><td>DT01245</td><td>5</td><td>2020</td><td>Borgward (including Goliath and Lloyd) Motors</td><td>Infiniti Motors</td><td>Mitsubishi</td><td>5/29/2020 0:00</td></tr><tr><td>BR0221</td><td>DLR0090</td><td>Mit-M277</td><td>24243636</td><td>3</td><td>DT01246</td><td>5</td><td>2020</td><td>Bristol Motors</td><td>null</td><td>Mitsubishi</td><td>5/30/2020 0:00</td></tr><tr><td>BR0306</td><td>DLR0173</td><td>Toy-M133</td><td>12612492</td><td>3</td><td>DT01241</td><td>5</td><td>2020</td><td>Alvis Motors</td><td>Santa Matilde Motors</td><td>Toyota</td><td>5/25/2020 0:00</td></tr><tr><td>BR0426</td><td>DLR0175</td><td>Vol-M135</td><td>7718804</td><td>1</td><td>DT01243</td><td>5</td><td>2020</td><td>Anadol Motors</td><td>Saturn Motors</td><td>Volkswagen</td><td>5/27/2020 0:00</td></tr><tr><td>BR0486</td><td>DLR0176</td><td>Vol-M136</td><td>9950264</td><td>1</td><td>DT01244</td><td>5</td><td>2020</td><td>Ariel Motors</td><td>Scion Motors</td><td>Volkswagen</td><td>5/28/2020 0:00</td></tr><tr><td>BR0546</td><td>DLR0177</td><td>Mar-M137</td><td>11543998</td><td>2</td><td>DT01245</td><td>5</td><td>2020</td><td>ARO Motors</td><td>Seat Motors</td><td>Maruti Suzuki</td><td>5/29/2020 0:00</td></tr><tr><td>BR0606</td><td>DLR0178</td><td>Mar-M138</td><td>14029425</td><td>3</td><td>DT01246</td><td>5</td><td>2020</td><td>Artega Motors</td><td>Shelby SuperCars Motors</td><td>Maruti Suzuki</td><td>5/30/2020 0:00</td></tr><tr><td>BR0666</td><td>DLR0179</td><td>Mar-M139</td><td>16170344</td><td>2</td><td>DT01247</td><td>5</td><td>2020</td><td>Asia Motors Motors</td><td>Simca Motors</td><td>Maruti Suzuki</td><td>5/31/2020 0:00</td></tr><tr><td>BR1075</td><td>DLR0028</td><td>Nis-M265</td><td>946626</td><td>1</td><td>DT01096</td><td>1</td><td>2020</td><td>Lexus Motors</td><td>Buick Motors</td><td>Nissan</td><td>1/1/2020 0:00</td></tr><tr><td>BR1105</td><td>DLR0031</td><td>Nis-M268</td><td>2349414</td><td>3</td><td>DT01099</td><td>1</td><td>2020</td><td>Lotus Motors</td><td>Caterham Motors</td><td>Nissan</td><td>1/4/2020 0:00</td></tr><tr><td>BR1125</td><td>DLR0033</td><td>Nis-M270</td><td>5501066</td><td>2</td><td>DT01101</td><td>1</td><td>2020</td><td>LuAZ Motors</td><td>Chevrolet Motors</td><td>Nissan</td><td>1/6/2020 0:00</td></tr><tr><td>BR1135</td><td>DLR0034</td><td>Sko-M271</td><td>15299630</td><td>2</td><td>DT01102</td><td>1</td><td>2020</td><td>Lynx Motors</td><td>Chevrolet India Motors</td><td>Skoda</td><td>1/7/2020 0:00</td></tr><tr><td>BR1145</td><td>DLR0035</td><td>Sko-M272</td><td>573260</td><td>1</td><td>DT01103</td><td>1</td><td>2020</td><td>Mahindra Motors</td><td>Chrysler Motors</td><td>Skoda</td><td>1/8/2020 0:00</td></tr><tr><td>BR1155</td><td>DLR0036</td><td>Sko-M273</td><td>6991308</td><td>2</td><td>DT01104</td><td>1</td><td>2020</td><td>Marcos Motors</td><td>Chrysler Europe Motors</td><td>Skoda</td><td>1/9/2020 0:00</td></tr><tr><td>BR1165</td><td>DLR0037</td><td>Sko-M274</td><td>4594208</td><td>1</td><td>DT01105</td><td>1</td><td>2020</td><td>Marlin Motors</td><td>Citroën Motors</td><td>Skoda</td><td>1/10/2020 0:00</td></tr><tr><td>BR1175</td><td>DLR0038</td><td>Mit-M275</td><td>6379479</td><td>3</td><td>DT01106</td><td>1</td><td>2020</td><td>Maruti Motors</td><td>Cizeta-Moroder Motors</td><td>Mitsubishi</td><td>1/11/2020 0:00</td></tr><tr><td>BR1195</td><td>DLR0040</td><td>Mit-M277</td><td>12731434</td><td>2</td><td>DT01108</td><td>1</td><td>2020</td><td>Mastretta Motors</td><td>Daewoo, Saehan, Chevrolet Korea Motors</td><td>Mitsubishi</td><td>1/13/2020 0:00</td></tr><tr><td>BR1200</td><td>DLR0207</td><td>Ren-M127</td><td>5217794</td><td>1</td><td>DT01096</td><td>1</td><td>2020</td><td>Mastretta Motors</td><td>Westfield Motors</td><td>Renault</td><td>1/1/2020 0:00</td></tr><tr><td>BR1205</td><td>DLR0041</td><td>BMW-M1</td><td>20119176</td><td>3</td><td>DT01109</td><td>1</td><td>2020</td><td>Matra (including Deutsch-Bonnet, René Bonnet) Motors</td><td>DAF Motors</td><td>BMW</td><td>1/14/2020 0:00</td></tr><tr><td>BR1210</td><td>DLR0208</td><td>Ren-M128</td><td>9250976</td><td>2</td><td>DT01097</td><td>1</td><td>2020</td><td>Matra (including Deutsch-Bonnet, René Bonnet) Motors</td><td>Wiesmann Motors</td><td>Renault</td><td>1/2/2020 0:00</td></tr><tr><td>BR1215</td><td>DLR0042</td><td>BMW-M2</td><td>12564672</td><td>3</td><td>DT01110</td><td>1</td><td>2020</td><td>Mazda Motors</td><td>Daihatsu Motors</td><td>BMW</td><td>1/15/2020 0:00</td></tr><tr><td>BR1220</td><td>DLR0209</td><td>Ren-M129</td><td>3678913</td><td>1</td><td>DT01098</td><td>1</td><td>2020</td><td>Mazda Motors</td><td>Zastava Motors</td><td>Renault</td><td>1/3/2020 0:00</td></tr><tr><td>BR1230</td><td>DLR0210</td><td>Ren-M130</td><td>16850778</td><td>2</td><td>DT01099</td><td>1</td><td>2020</td><td>Mazzanti Motors</td><td>ZAZ Motors</td><td>Renault</td><td>1/4/2020 0:00</td></tr><tr><td>BR1235</td><td>DLR0044</td><td>BMW-M4</td><td>7034814</td><td>2</td><td>DT01112</td><td>1</td><td>2020</td><td>McLaren Motors</td><td>null</td><td>BMW</td><td>1/17/2020 0:00</td></tr><tr><td>BR1240</td><td>DLR0211</td><td>Ren-M131</td><td>2717264</td><td>1</td><td>DT01100</td><td>1</td><td>2020</td><td>McLaren Motors</td><td>ZIL Motors</td><td>Renault</td><td>1/5/2020 0:00</td></tr><tr><td>BR1245</td><td>DLR0045</td><td>BMW-M5</td><td>3141089</td><td>1</td><td>DT01113</td><td>1</td><td>2020</td><td>Mercedes-Benz (including Maybach) Motors</td><td>Delahaye Motors</td><td>BMW</td><td>1/18/2020 0:00</td></tr><tr><td>BR1255</td><td>DLR0046</td><td>Mer-M6</td><td>4815214</td><td>2</td><td>DT01114</td><td>1</td><td>2020</td><td>Mercury Motors</td><td>DeLorean Motors</td><td>Mercedes-Benz</td><td>1/19/2020 0:00</td></tr><tr><td>BR1270</td><td>DLR0214</td><td>Toy-M134</td><td>22982112</td><td>3</td><td>DT01103</td><td>1</td><td>2020</td><td>Merkur Motors</td><td>Horch Motors</td><td>Toyota</td><td>1/8/2020 0:00</td></tr><tr><td>BR1275</td><td>DLR0048</td><td>Mer-M8</td><td>1681622</td><td>1</td><td>DT01116</td><td>1</td><td>2020</td><td>Messerschmitt Motors</td><td>De Tomaso Motors</td><td>Mercedes-Benz</td><td>1/21/2020 0:00</td></tr><tr><td>BR1290</td><td>DLR0216</td><td>Vol-M136</td><td>19641387</td><td>3</td><td>DT01105</td><td>1</td><td>2020</td><td>Mia Motors</td><td>Maybach  Motors</td><td>Volkswagen</td><td>1/10/2020 0:00</td></tr><tr><td>BR1295</td><td>DLR0050</td><td>Jee-M10</td><td>14558850</td><td>2</td><td>DT01118</td><td>1</td><td>2020</td><td>Micro Motors</td><td>Donkervoort Motors</td><td>Jeep</td><td>1/23/2020 0:00</td></tr><tr><td>BR1300</td><td>DLR0217</td><td>Mar-M137</td><td>8749140</td><td>3</td><td>DT01106</td><td>1</td><td>2020</td><td>Micro Motors</td><td>Izh  Motors</td><td>Maruti Suzuki</td><td>1/11/2020 0:00</td></tr><tr><td>BR1305</td><td>DLR0051</td><td>Jee-M11</td><td>4375707</td><td>3</td><td>DT01119</td><td>1</td><td>2020</td><td>Mini Motors</td><td>Edsel Motors</td><td>Jeep</td><td>1/24/2020 0:00</td></tr><tr><td>BR1310</td><td>DLR0218</td><td>Mar-M138</td><td>1791030</td><td>1</td><td>DT01107</td><td>1</td><td>2020</td><td>Mini Motors</td><td>Lagonda  Motors</td><td>Maruti Suzuki</td><td>1/12/2020 0:00</td></tr><tr><td>BR1315</td><td>DLR0052</td><td>Jee-M12</td><td>6981696</td><td>3</td><td>DT01120</td><td>1</td><td>2020</td><td>Mitsubishi Motors</td><td>e.GO Mobile Motors</td><td>Jeep</td><td>1/25/2020 0:00</td></tr><tr><td>BR1320</td><td>DLR0219</td><td>Mar-M139</td><td>15720604</td><td>2</td><td>DT01108</td><td>1</td><td>2020</td><td>Mitsubishi Motors</td><td>MG  Motors</td><td>Maruti Suzuki</td><td>1/13/2020 0:00</td></tr><tr><td>BR1325</td><td>DLR0053</td><td>Jee-M13</td><td>11820578</td><td>2</td><td>DT01121</td><td>1</td><td>2020</td><td>Monica Motors</td><td>Eicher Polaris Motors</td><td>Jeep</td><td>1/26/2020 0:00</td></tr><tr><td>BR1330</td><td>DLR0220</td><td>Mar-M140</td><td>4505054</td><td>2</td><td>DT01109</td><td>1</td><td>2020</td><td>Monica Motors</td><td>Morris  Motors</td><td>Maruti Suzuki</td><td>1/14/2020 0:00</td></tr><tr><td>BR1340</td><td>DLR0221</td><td>Mar-M141</td><td>7636791</td><td>1</td><td>DT01110</td><td>1</td><td>2020</td><td>Monteverdi Motors</td><td>Austin  Motors</td><td>Maruti Suzuki</td><td>1/15/2020 0:00</td></tr><tr><td>BR1360</td><td>DLR0223</td><td>Mar-M143</td><td>10719476</td><td>2</td><td>DT01112</td><td>1</td><td>2020</td><td>Moskwitch Motors</td><td>Wolseley  Motors</td><td>Maruti Suzuki</td><td>1/17/2020 0:00</td></tr><tr><td>BR1365</td><td>DLR0057</td><td>For-M17</td><td>1729269</td><td>1</td><td>DT01125</td><td>1</td><td>2020</td><td>Nash Motors</td><td>Fiat Motors</td><td>Ford</td><td>1/30/2020 0:00</td></tr><tr><td>BR1370</td><td>DLR0224</td><td>Mar-M144</td><td>22596384</td><td>3</td><td>DT01113</td><td>1</td><td>2020</td><td>Nash Motors</td><td>Standard  Motors</td><td>Maruti Suzuki</td><td>1/18/2020 0:00</td></tr><tr><td>BR1380</td><td>DLR0225</td><td>Mar-M145</td><td>5143059</td><td>3</td><td>DT01114</td><td>1</td><td>2020</td><td>Naza Motors</td><td>Talbot  Motors</td><td>Maruti Suzuki</td><td>1/19/2020 0:00</td></tr><tr><td>BR1390</td><td>DLR0226</td><td>Mar-M146</td><td>18375622</td><td>2</td><td>DT01115</td><td>1</td><td>2020</td><td>Nissan Motors</td><td>Das Motors</td><td>Maruti Suzuki</td><td>1/20/2020 0:00</td></tr><tr><td>BR1395</td><td>DLR0060</td><td>For-M20</td><td>3826662</td><td>2</td><td>DT01128</td><td>2</td><td>2020</td><td>Nissan India Motors</td><td>Fisker, Karma Motors</td><td>Ford</td><td>2/2/2020 0:00</td></tr><tr><td>BR1405</td><td>DLR0061</td><td>For-M21</td><td>8119439</td><td>1</td><td>DT01129</td><td>2</td><td>2020</td><td>Noble Motors</td><td>Ford America Motors</td><td>Ford</td><td>2/3/2020 0:00</td></tr><tr><td>BR1410</td><td>DLR0228</td><td>Mar-M148</td><td>22715907</td><td>3</td><td>DT01117</td><td>1</td><td>2020</td><td>Noble Motors</td><td>Deccan Motors</td><td>Maruti Suzuki</td><td>1/22/2020 0:00</td></tr><tr><td>BR1420</td><td>DLR0229</td><td>Mar-M149</td><td>3362029</td><td>1</td><td>DT01118</td><td>1</td><td>2020</td><td>NSU Motors</td><td>Herald Motors</td><td>Maruti Suzuki</td><td>1/23/2020 0:00</td></tr><tr><td>BR1425</td><td>DLR0063</td><td>For-M23</td><td>19571838</td><td>3</td><td>DT01131</td><td>2</td><td>2020</td><td>Oldsmobile Motors</td><td>Ford do Brasil Motors</td><td>Ford</td><td>2/5/2020 0:00</td></tr><tr><td>BR1435</td><td>DLR0064</td><td>For-M24</td><td>8184657</td><td>1</td><td>DT01132</td><td>2</td><td>2020</td><td>Oltcit Motors</td><td>Ford Europe Motors</td><td>Ford</td><td>2/6/2020 0:00</td></tr><tr><td>BR1440</td><td>DLR0231</td><td>Mar-M151</td><td>12650379</td><td>3</td><td>DT01120</td><td>1</td><td>2020</td><td>Oltcit Motors</td><td>Atlantic Motor Company</td><td>Maruti Suzuki</td><td>1/25/2020 0:00</td></tr><tr><td>BR1445</td><td>DLR0065</td><td>For-M25</td><td>17788070</td><td>2</td><td>DT01133</td><td>2</td><td>2020</td><td>Opel Motors</td><td>Ford India Motors</td><td>Ford</td><td>2/7/2020 0:00</td></tr><tr><td>BR1450</td><td>DLR0232</td><td>Mar-M152</td><td>19474533</td><td>3</td><td>DT01121</td><td>1</td><td>2020</td><td>Opel Motors</td><td>2008 NRHP-listed</td><td>Maruti Suzuki</td><td>1/26/2020 0:00</td></tr><tr><td>BR1455</td><td>DLR0066</td><td>For-M26</td><td>5109932</td><td>2</td><td>DT01134</td><td>2</td><td>2020</td><td>Packard Motors</td><td>Freightliner Motors</td><td>Ford</td><td>2/8/2020 0:00</td></tr><tr><td>BR1460</td><td>DLR0233</td><td>Hyu-M153</td><td>5377184</td><td>2</td><td>DT01122</td><td>1</td><td>2020</td><td>Packard Motors</td><td>Blankinship Motor Company Building</td><td>Hyundai</td><td>1/27/2020 0:00</td></tr><tr><td>BR1465</td><td>DLR0067</td><td>Lin-M27</td><td>756130</td><td>2</td><td>DT01135</td><td>2</td><td>2020</td><td>Pagani Motors</td><td>FSO Motors</td><td>Lincoln</td><td>2/9/2020 0:00</td></tr><tr><td>BR1475</td><td>DLR0068</td><td>Lin-M28</td><td>14722240</td><td>2</td><td>DT01136</td><td>2</td><td>2020</td><td>Panhard Motors</td><td>GAZ Motors</td><td>Lincoln</td><td>2/10/2020 0:00</td></tr><tr><td>BR1480</td><td>DLR0235</td><td>Hyu-M155</td><td>16603584</td><td>2</td><td>DT01124</td><td>1</td><td>2020</td><td>Panhard Motors</td><td>Buick Automobile Company Building</td><td>Hyundai</td><td>1/29/2020 0:00</td></tr><tr><td>BR1485</td><td>DLR0069</td><td>Lin-M29</td><td>6430716</td><td>1</td><td>DT01137</td><td>2</td><td>2020</td><td>Panoz Motors</td><td>Geo Motors</td><td>Lincoln</td><td>2/11/2020 0:00</td></tr><tr><td>BR1495</td><td>DLR0070</td><td>Lin-M30</td><td>3396415</td><td>1</td><td>DT01138</td><td>2</td><td>2020</td><td>Panther Motors</td><td>Gilbern Motors</td><td>Lincoln</td><td>2/12/2020 0:00</td></tr><tr><td>BR1510</td><td>DLR0238</td><td>Hyu-M158</td><td>21888990</td><td>3</td><td>DT01127</td><td>2</td><td>2020</td><td>Peel Motors</td><td>Cass Motor Sales</td><td>Hyundai</td><td>2/1/2020 0:00</td></tr><tr><td>BR1515</td><td>DLR0072</td><td>Cad-M32</td><td>14614923</td><td>3</td><td>DT01140</td><td>2</td><td>2020</td><td>Perodua Motors</td><td>Glas Motors</td><td>Cadillac</td><td>2/14/2020 0:00</td></tr><tr><td>BR1520</td><td>DLR0239</td><td>Hyu-M159</td><td>28839432</td><td>3</td><td>DT01128</td><td>2</td><td>2020</td><td>Perodua Motors</td><td>Claremore Auto Dealership</td><td>Hyundai</td><td>2/2/2020 0:00</td></tr><tr><td>BR1525</td><td>DLR0073</td><td>Cad-M33</td><td>5345219</td><td>1</td><td>DT01141</td><td>2</td><td>2020</td><td>Peugeot Motors</td><td>GMC Motors</td><td>Cadillac</td><td>2/15/2020 0:00</td></tr><tr><td>BR1530</td><td>DLR0240</td><td>Hyu-M160</td><td>4257825</td><td>3</td><td>DT01129</td><td>2</td><td>2020</td><td>Peugeot Motors</td><td>Clemens Automobile Company Building</td><td>Hyundai</td><td>2/3/2020 0:00</td></tr><tr><td>BR1540</td><td>DLR0241</td><td>Hyu-M161</td><td>19956204</td><td>3</td><td>DT01130</td><td>2</td><td>2020</td><td>PGO Motors</td><td>Colman Automotive Building</td><td>Hyundai</td><td>2/4/2020 0:00</td></tr><tr><td>BR1545</td><td>DLR0075</td><td>Cad-M35</td><td>11312878</td><td>2</td><td>DT01143</td><td>2</td><td>2020</td><td>Piaggio Motors</td><td>Gumpert Motors</td><td>Cadillac</td><td>2/17/2020 0:00</td></tr><tr><td>BR1555</td><td>DLR0076</td><td>Cad-M36</td><td>20868240</td><td>3</td><td>DT01144</td><td>2</td><td>2020</td><td>Plymouth Motors</td><td>Healey Motors</td><td>Cadillac</td><td>2/18/2020 0:00</td></tr><tr><td>BR1560</td><td>DLR0243</td><td>Hyu-M163</td><td>9443751</td><td>3</td><td>DT01132</td><td>2</td><td>2020</td><td>Plymouth Motors</td><td>Howard Motor Company Building</td><td>Hyundai</td><td>2/6/2020 0:00</td></tr><tr><td>BR1565</td><td>DLR0077</td><td>Cad-M37</td><td>14383581</td><td>3</td><td>DT01145</td><td>2</td><td>2020</td><td>Polestar Motors</td><td>Heinkel Motors</td><td>Cadillac</td><td>2/19/2020 0:00</td></tr><tr><td>BR1570</td><td>DLR0244</td><td>Hyu-M164</td><td>12224948</td><td>2</td><td>DT01133</td><td>2</td><td>2020</td><td>Polestar Motors</td><td>Hupmobile Building</td><td>Hyundai</td><td>2/7/2020 0:00</td></tr><tr><td>BR1575</td><td>DLR0078</td><td>Cad-M38</td><td>8234393</td><td>1</td><td>DT01146</td><td>2</td><td>2020</td><td>Pontiac, Asüna Motors</td><td>Hennessey Motors</td><td>Cadillac</td><td>2/20/2020 0:00</td></tr><tr><td>BR1585</td><td>DLR0079</td><td>Cad-M39</td><td>2785750</td><td>1</td><td>DT01147</td><td>2</td><td>2020</td><td>Porsche Motors</td><td>Hillman Motors</td><td>Cadillac</td><td>2/21/2020 0:00</td></tr><tr><td>BR1590</td><td>DLR0246</td><td>Mah-M166</td><td>4431368</td><td>1</td><td>DT01135</td><td>2</td><td>2020</td><td>Porsche Motors</td><td>Jones Motor Company</td><td>Mahindra</td><td>2/9/2020 0:00</td></tr><tr><td>BR1595</td><td>DLR0080</td><td>Che-M40</td><td>7968813</td><td>1</td><td>DT01148</td><td>2</td><td>2020</td><td>Premier Motors</td><td>Hindustan Motors</td><td>Chevrolet</td><td>2/22/2020 0:00</td></tr><tr><td>BR1600</td><td>DLR0247</td><td>Mah-M167</td><td>112246</td><td>1</td><td>DT01136</td><td>2</td><td>2020</td><td>Premier Motors</td><td>Kindel Building</td><td>Mahindra</td><td>2/10/2020 0:00</td></tr></tbody></table></div>"
      ]
     },
     "metadata": {
      "application/vnd.databricks.v1+output": {
       "addedWidgets": {},
       "aggData": [],
       "aggError": "",
       "aggOverflow": false,
       "aggSchema": [],
       "aggSeriesLimitReached": false,
       "aggType": "",
       "arguments": {},
       "columnCustomDisplayInfos": {},
       "data": [
        [
         "BR0006",
         "DLR0168",
         "Ren-M128",
         12971088,
         3,
         "DT01236",
         5,
         2020,
         "AC Cars Motors",
         "Saab Motors",
         "Renault",
         "5/20/2020 0:00"
        ],
        [
         "BR0011",
         "DLR0069",
         "Vol-M256",
         14181510,
         3,
         "DT01225",
         5,
         2020,
         "Acura Motors",
         "Geo Motors",
         "Volkswagen",
         "5/9/2020 0:00"
        ],
        [
         "BR0021",
         "DLR0070",
         "Vol-M257",
         7738896,
         1,
         "DT01226",
         5,
         2020,
         "Aixam-Mega (including Arola) Motors",
         "Gilbern Motors",
         "Volkswagen",
         "5/10/2020 0:00"
        ],
        [
         "BR0031",
         "DLR0071",
         "Vol-M258",
         10067596,
         2,
         "DT01227",
         5,
         2020,
         "Alfa Romeo Motors",
         "Ginetta Motors",
         "Volkswagen",
         "5/11/2020 0:00"
        ],
        [
         "BR0041",
         "DLR0072",
         "Vol-M259",
         13055810,
         2,
         "DT01228",
         5,
         2020,
         "Alpine Motors",
         "Glas Motors",
         "Volkswagen",
         "5/12/2020 0:00"
        ],
        [
         "BR0051",
         "DLR0073",
         "Vol-M260",
         2224368,
         1,
         "DT01229",
         5,
         2020,
         "Alvis Motors",
         "GMC Motors",
         "Volkswagen",
         "5/13/2020 0:00"
        ],
        [
         "BR0061",
         "DLR0074",
         "Nis-M261",
         11270580,
         3,
         "DT01230",
         5,
         2020,
         "AMC, Eagle Motors",
         "GTA Spano Motors",
         "Nissan",
         "5/14/2020 0:00"
        ],
        [
         "BR0066",
         "DLR0169",
         "Ren-M129",
         693559,
         1,
         "DT01237",
         5,
         2020,
         "Acura Motors",
         "SAIC Motor Motors",
         "Renault",
         "5/21/2020 0:00"
        ],
        [
         "BR0071",
         "DLR0075",
         "Nis-M262",
         18784710,
         3,
         "DT01231",
         5,
         2020,
         "Anadol Motors",
         "Gumpert Motors",
         "Nissan",
         "5/15/2020 0:00"
        ],
        [
         "BR0081",
         "DLR0076",
         "Nis-M263",
         2354637,
         3,
         "DT01232",
         5,
         2020,
         "Ariel Motors",
         "Healey Motors",
         "Nissan",
         "5/16/2020 0:00"
        ],
        [
         "BR0121",
         "DLR0080",
         "Nis-M267",
         5421046,
         2,
         "DT01236",
         5,
         2020,
         "Aston Martin Motors",
         "Hindustan Motors",
         "Nissan",
         "5/20/2020 0:00"
        ],
        [
         "BR0126",
         "DLR0170",
         "Ren-M130",
         8445560,
         2,
         "DT01238",
         5,
         2020,
         "Aixam-Mega (including Arola) Motors",
         "Saleen Motors",
         "Renault",
         "5/22/2020 0:00"
        ],
        [
         "BR0131",
         "DLR0081",
         "Nis-M268",
         28034733,
         3,
         "DT01237",
         5,
         2020,
         "Audi Motors",
         "Holden Motors",
         "Nissan",
         "5/21/2020 0:00"
        ],
        [
         "BR0141",
         "DLR0082",
         "Nis-M269",
         17522592,
         2,
         "DT01238",
         5,
         2020,
         "Autobianchi Motors",
         "Honda Motors",
         "Nissan",
         "5/22/2020 0:00"
        ],
        [
         "BR0151",
         "DLR0083",
         "Nis-M270",
         25901364,
         3,
         "DT01239",
         5,
         2020,
         "Auto-Union Motors",
         "Honda India Motors",
         "Nissan",
         "5/23/2020 0:00"
        ],
        [
         "BR0181",
         "DLR0086",
         "Sko-M273",
         7915343,
         1,
         "DT01242",
         5,
         2020,
         "Bitter Motors",
         "Hummer Motors",
         "Skoda",
         "5/26/2020 0:00"
        ],
        [
         "BR0186",
         "DLR0171",
         "Ren-M131",
         7078128,
         1,
         "DT01239",
         5,
         2020,
         "Alfa Romeo Motors",
         "Samsung Motors",
         "Renault",
         "5/23/2020 0:00"
        ],
        [
         "BR0191",
         "DLR0087",
         "Sko-M274",
         24183663,
         3,
         "DT01243",
         5,
         2020,
         "BMW Motors",
         "Hyundai Motors",
         "Skoda",
         "5/27/2020 0:00"
        ],
        [
         "BR0201",
         "DLR0088",
         "Mit-M275",
         847952,
         2,
         "DT01244",
         5,
         2020,
         "Bond Motors",
         "IFA (including Trabant, Wartburg, Barkas) Motors",
         "Mitsubishi",
         "5/28/2020 0:00"
        ],
        [
         "BR0211",
         "DLR0089",
         "Mit-M276",
         2887860,
         1,
         "DT01245",
         5,
         2020,
         "Borgward (including Goliath and Lloyd) Motors",
         "Infiniti Motors",
         "Mitsubishi",
         "5/29/2020 0:00"
        ],
        [
         "BR0221",
         "DLR0090",
         "Mit-M277",
         24243636,
         3,
         "DT01246",
         5,
         2020,
         "Bristol Motors",
         null,
         "Mitsubishi",
         "5/30/2020 0:00"
        ],
        [
         "BR0306",
         "DLR0173",
         "Toy-M133",
         12612492,
         3,
         "DT01241",
         5,
         2020,
         "Alvis Motors",
         "Santa Matilde Motors",
         "Toyota",
         "5/25/2020 0:00"
        ],
        [
         "BR0426",
         "DLR0175",
         "Vol-M135",
         7718804,
         1,
         "DT01243",
         5,
         2020,
         "Anadol Motors",
         "Saturn Motors",
         "Volkswagen",
         "5/27/2020 0:00"
        ],
        [
         "BR0486",
         "DLR0176",
         "Vol-M136",
         9950264,
         1,
         "DT01244",
         5,
         2020,
         "Ariel Motors",
         "Scion Motors",
         "Volkswagen",
         "5/28/2020 0:00"
        ],
        [
         "BR0546",
         "DLR0177",
         "Mar-M137",
         11543998,
         2,
         "DT01245",
         5,
         2020,
         "ARO Motors",
         "Seat Motors",
         "Maruti Suzuki",
         "5/29/2020 0:00"
        ],
        [
         "BR0606",
         "DLR0178",
         "Mar-M138",
         14029425,
         3,
         "DT01246",
         5,
         2020,
         "Artega Motors",
         "Shelby SuperCars Motors",
         "Maruti Suzuki",
         "5/30/2020 0:00"
        ],
        [
         "BR0666",
         "DLR0179",
         "Mar-M139",
         16170344,
         2,
         "DT01247",
         5,
         2020,
         "Asia Motors Motors",
         "Simca Motors",
         "Maruti Suzuki",
         "5/31/2020 0:00"
        ],
        [
         "BR1075",
         "DLR0028",
         "Nis-M265",
         946626,
         1,
         "DT01096",
         1,
         2020,
         "Lexus Motors",
         "Buick Motors",
         "Nissan",
         "1/1/2020 0:00"
        ],
        [
         "BR1105",
         "DLR0031",
         "Nis-M268",
         2349414,
         3,
         "DT01099",
         1,
         2020,
         "Lotus Motors",
         "Caterham Motors",
         "Nissan",
         "1/4/2020 0:00"
        ],
        [
         "BR1125",
         "DLR0033",
         "Nis-M270",
         5501066,
         2,
         "DT01101",
         1,
         2020,
         "LuAZ Motors",
         "Chevrolet Motors",
         "Nissan",
         "1/6/2020 0:00"
        ],
        [
         "BR1135",
         "DLR0034",
         "Sko-M271",
         15299630,
         2,
         "DT01102",
         1,
         2020,
         "Lynx Motors",
         "Chevrolet India Motors",
         "Skoda",
         "1/7/2020 0:00"
        ],
        [
         "BR1145",
         "DLR0035",
         "Sko-M272",
         573260,
         1,
         "DT01103",
         1,
         2020,
         "Mahindra Motors",
         "Chrysler Motors",
         "Skoda",
         "1/8/2020 0:00"
        ],
        [
         "BR1155",
         "DLR0036",
         "Sko-M273",
         6991308,
         2,
         "DT01104",
         1,
         2020,
         "Marcos Motors",
         "Chrysler Europe Motors",
         "Skoda",
         "1/9/2020 0:00"
        ],
        [
         "BR1165",
         "DLR0037",
         "Sko-M274",
         4594208,
         1,
         "DT01105",
         1,
         2020,
         "Marlin Motors",
         "Citroën Motors",
         "Skoda",
         "1/10/2020 0:00"
        ],
        [
         "BR1175",
         "DLR0038",
         "Mit-M275",
         6379479,
         3,
         "DT01106",
         1,
         2020,
         "Maruti Motors",
         "Cizeta-Moroder Motors",
         "Mitsubishi",
         "1/11/2020 0:00"
        ],
        [
         "BR1195",
         "DLR0040",
         "Mit-M277",
         12731434,
         2,
         "DT01108",
         1,
         2020,
         "Mastretta Motors",
         "Daewoo, Saehan, Chevrolet Korea Motors",
         "Mitsubishi",
         "1/13/2020 0:00"
        ],
        [
         "BR1200",
         "DLR0207",
         "Ren-M127",
         5217794,
         1,
         "DT01096",
         1,
         2020,
         "Mastretta Motors",
         "Westfield Motors",
         "Renault",
         "1/1/2020 0:00"
        ],
        [
         "BR1205",
         "DLR0041",
         "BMW-M1",
         20119176,
         3,
         "DT01109",
         1,
         2020,
         "Matra (including Deutsch-Bonnet, René Bonnet) Motors",
         "DAF Motors",
         "BMW",
         "1/14/2020 0:00"
        ],
        [
         "BR1210",
         "DLR0208",
         "Ren-M128",
         9250976,
         2,
         "DT01097",
         1,
         2020,
         "Matra (including Deutsch-Bonnet, René Bonnet) Motors",
         "Wiesmann Motors",
         "Renault",
         "1/2/2020 0:00"
        ],
        [
         "BR1215",
         "DLR0042",
         "BMW-M2",
         12564672,
         3,
         "DT01110",
         1,
         2020,
         "Mazda Motors",
         "Daihatsu Motors",
         "BMW",
         "1/15/2020 0:00"
        ],
        [
         "BR1220",
         "DLR0209",
         "Ren-M129",
         3678913,
         1,
         "DT01098",
         1,
         2020,
         "Mazda Motors",
         "Zastava Motors",
         "Renault",
         "1/3/2020 0:00"
        ],
        [
         "BR1230",
         "DLR0210",
         "Ren-M130",
         16850778,
         2,
         "DT01099",
         1,
         2020,
         "Mazzanti Motors",
         "ZAZ Motors",
         "Renault",
         "1/4/2020 0:00"
        ],
        [
         "BR1235",
         "DLR0044",
         "BMW-M4",
         7034814,
         2,
         "DT01112",
         1,
         2020,
         "McLaren Motors",
         null,
         "BMW",
         "1/17/2020 0:00"
        ],
        [
         "BR1240",
         "DLR0211",
         "Ren-M131",
         2717264,
         1,
         "DT01100",
         1,
         2020,
         "McLaren Motors",
         "ZIL Motors",
         "Renault",
         "1/5/2020 0:00"
        ],
        [
         "BR1245",
         "DLR0045",
         "BMW-M5",
         3141089,
         1,
         "DT01113",
         1,
         2020,
         "Mercedes-Benz (including Maybach) Motors",
         "Delahaye Motors",
         "BMW",
         "1/18/2020 0:00"
        ],
        [
         "BR1255",
         "DLR0046",
         "Mer-M6",
         4815214,
         2,
         "DT01114",
         1,
         2020,
         "Mercury Motors",
         "DeLorean Motors",
         "Mercedes-Benz",
         "1/19/2020 0:00"
        ],
        [
         "BR1270",
         "DLR0214",
         "Toy-M134",
         22982112,
         3,
         "DT01103",
         1,
         2020,
         "Merkur Motors",
         "Horch Motors",
         "Toyota",
         "1/8/2020 0:00"
        ],
        [
         "BR1275",
         "DLR0048",
         "Mer-M8",
         1681622,
         1,
         "DT01116",
         1,
         2020,
         "Messerschmitt Motors",
         "De Tomaso Motors",
         "Mercedes-Benz",
         "1/21/2020 0:00"
        ],
        [
         "BR1290",
         "DLR0216",
         "Vol-M136",
         19641387,
         3,
         "DT01105",
         1,
         2020,
         "Mia Motors",
         "Maybach  Motors",
         "Volkswagen",
         "1/10/2020 0:00"
        ],
        [
         "BR1295",
         "DLR0050",
         "Jee-M10",
         14558850,
         2,
         "DT01118",
         1,
         2020,
         "Micro Motors",
         "Donkervoort Motors",
         "Jeep",
         "1/23/2020 0:00"
        ],
        [
         "BR1300",
         "DLR0217",
         "Mar-M137",
         8749140,
         3,
         "DT01106",
         1,
         2020,
         "Micro Motors",
         "Izh  Motors",
         "Maruti Suzuki",
         "1/11/2020 0:00"
        ],
        [
         "BR1305",
         "DLR0051",
         "Jee-M11",
         4375707,
         3,
         "DT01119",
         1,
         2020,
         "Mini Motors",
         "Edsel Motors",
         "Jeep",
         "1/24/2020 0:00"
        ],
        [
         "BR1310",
         "DLR0218",
         "Mar-M138",
         1791030,
         1,
         "DT01107",
         1,
         2020,
         "Mini Motors",
         "Lagonda  Motors",
         "Maruti Suzuki",
         "1/12/2020 0:00"
        ],
        [
         "BR1315",
         "DLR0052",
         "Jee-M12",
         6981696,
         3,
         "DT01120",
         1,
         2020,
         "Mitsubishi Motors",
         "e.GO Mobile Motors",
         "Jeep",
         "1/25/2020 0:00"
        ],
        [
         "BR1320",
         "DLR0219",
         "Mar-M139",
         15720604,
         2,
         "DT01108",
         1,
         2020,
         "Mitsubishi Motors",
         "MG  Motors",
         "Maruti Suzuki",
         "1/13/2020 0:00"
        ],
        [
         "BR1325",
         "DLR0053",
         "Jee-M13",
         11820578,
         2,
         "DT01121",
         1,
         2020,
         "Monica Motors",
         "Eicher Polaris Motors",
         "Jeep",
         "1/26/2020 0:00"
        ],
        [
         "BR1330",
         "DLR0220",
         "Mar-M140",
         4505054,
         2,
         "DT01109",
         1,
         2020,
         "Monica Motors",
         "Morris  Motors",
         "Maruti Suzuki",
         "1/14/2020 0:00"
        ],
        [
         "BR1340",
         "DLR0221",
         "Mar-M141",
         7636791,
         1,
         "DT01110",
         1,
         2020,
         "Monteverdi Motors",
         "Austin  Motors",
         "Maruti Suzuki",
         "1/15/2020 0:00"
        ],
        [
         "BR1360",
         "DLR0223",
         "Mar-M143",
         10719476,
         2,
         "DT01112",
         1,
         2020,
         "Moskwitch Motors",
         "Wolseley  Motors",
         "Maruti Suzuki",
         "1/17/2020 0:00"
        ],
        [
         "BR1365",
         "DLR0057",
         "For-M17",
         1729269,
         1,
         "DT01125",
         1,
         2020,
         "Nash Motors",
         "Fiat Motors",
         "Ford",
         "1/30/2020 0:00"
        ],
        [
         "BR1370",
         "DLR0224",
         "Mar-M144",
         22596384,
         3,
         "DT01113",
         1,
         2020,
         "Nash Motors",
         "Standard  Motors",
         "Maruti Suzuki",
         "1/18/2020 0:00"
        ],
        [
         "BR1380",
         "DLR0225",
         "Mar-M145",
         5143059,
         3,
         "DT01114",
         1,
         2020,
         "Naza Motors",
         "Talbot  Motors",
         "Maruti Suzuki",
         "1/19/2020 0:00"
        ],
        [
         "BR1390",
         "DLR0226",
         "Mar-M146",
         18375622,
         2,
         "DT01115",
         1,
         2020,
         "Nissan Motors",
         "Das Motors",
         "Maruti Suzuki",
         "1/20/2020 0:00"
        ],
        [
         "BR1395",
         "DLR0060",
         "For-M20",
         3826662,
         2,
         "DT01128",
         2,
         2020,
         "Nissan India Motors",
         "Fisker, Karma Motors",
         "Ford",
         "2/2/2020 0:00"
        ],
        [
         "BR1405",
         "DLR0061",
         "For-M21",
         8119439,
         1,
         "DT01129",
         2,
         2020,
         "Noble Motors",
         "Ford America Motors",
         "Ford",
         "2/3/2020 0:00"
        ],
        [
         "BR1410",
         "DLR0228",
         "Mar-M148",
         22715907,
         3,
         "DT01117",
         1,
         2020,
         "Noble Motors",
         "Deccan Motors",
         "Maruti Suzuki",
         "1/22/2020 0:00"
        ],
        [
         "BR1420",
         "DLR0229",
         "Mar-M149",
         3362029,
         1,
         "DT01118",
         1,
         2020,
         "NSU Motors",
         "Herald Motors",
         "Maruti Suzuki",
         "1/23/2020 0:00"
        ],
        [
         "BR1425",
         "DLR0063",
         "For-M23",
         19571838,
         3,
         "DT01131",
         2,
         2020,
         "Oldsmobile Motors",
         "Ford do Brasil Motors",
         "Ford",
         "2/5/2020 0:00"
        ],
        [
         "BR1435",
         "DLR0064",
         "For-M24",
         8184657,
         1,
         "DT01132",
         2,
         2020,
         "Oltcit Motors",
         "Ford Europe Motors",
         "Ford",
         "2/6/2020 0:00"
        ],
        [
         "BR1440",
         "DLR0231",
         "Mar-M151",
         12650379,
         3,
         "DT01120",
         1,
         2020,
         "Oltcit Motors",
         "Atlantic Motor Company",
         "Maruti Suzuki",
         "1/25/2020 0:00"
        ],
        [
         "BR1445",
         "DLR0065",
         "For-M25",
         17788070,
         2,
         "DT01133",
         2,
         2020,
         "Opel Motors",
         "Ford India Motors",
         "Ford",
         "2/7/2020 0:00"
        ],
        [
         "BR1450",
         "DLR0232",
         "Mar-M152",
         19474533,
         3,
         "DT01121",
         1,
         2020,
         "Opel Motors",
         "2008 NRHP-listed",
         "Maruti Suzuki",
         "1/26/2020 0:00"
        ],
        [
         "BR1455",
         "DLR0066",
         "For-M26",
         5109932,
         2,
         "DT01134",
         2,
         2020,
         "Packard Motors",
         "Freightliner Motors",
         "Ford",
         "2/8/2020 0:00"
        ],
        [
         "BR1460",
         "DLR0233",
         "Hyu-M153",
         5377184,
         2,
         "DT01122",
         1,
         2020,
         "Packard Motors",
         "Blankinship Motor Company Building",
         "Hyundai",
         "1/27/2020 0:00"
        ],
        [
         "BR1465",
         "DLR0067",
         "Lin-M27",
         756130,
         2,
         "DT01135",
         2,
         2020,
         "Pagani Motors",
         "FSO Motors",
         "Lincoln",
         "2/9/2020 0:00"
        ],
        [
         "BR1475",
         "DLR0068",
         "Lin-M28",
         14722240,
         2,
         "DT01136",
         2,
         2020,
         "Panhard Motors",
         "GAZ Motors",
         "Lincoln",
         "2/10/2020 0:00"
        ],
        [
         "BR1480",
         "DLR0235",
         "Hyu-M155",
         16603584,
         2,
         "DT01124",
         1,
         2020,
         "Panhard Motors",
         "Buick Automobile Company Building",
         "Hyundai",
         "1/29/2020 0:00"
        ],
        [
         "BR1485",
         "DLR0069",
         "Lin-M29",
         6430716,
         1,
         "DT01137",
         2,
         2020,
         "Panoz Motors",
         "Geo Motors",
         "Lincoln",
         "2/11/2020 0:00"
        ],
        [
         "BR1495",
         "DLR0070",
         "Lin-M30",
         3396415,
         1,
         "DT01138",
         2,
         2020,
         "Panther Motors",
         "Gilbern Motors",
         "Lincoln",
         "2/12/2020 0:00"
        ],
        [
         "BR1510",
         "DLR0238",
         "Hyu-M158",
         21888990,
         3,
         "DT01127",
         2,
         2020,
         "Peel Motors",
         "Cass Motor Sales",
         "Hyundai",
         "2/1/2020 0:00"
        ],
        [
         "BR1515",
         "DLR0072",
         "Cad-M32",
         14614923,
         3,
         "DT01140",
         2,
         2020,
         "Perodua Motors",
         "Glas Motors",
         "Cadillac",
         "2/14/2020 0:00"
        ],
        [
         "BR1520",
         "DLR0239",
         "Hyu-M159",
         28839432,
         3,
         "DT01128",
         2,
         2020,
         "Perodua Motors",
         "Claremore Auto Dealership",
         "Hyundai",
         "2/2/2020 0:00"
        ],
        [
         "BR1525",
         "DLR0073",
         "Cad-M33",
         5345219,
         1,
         "DT01141",
         2,
         2020,
         "Peugeot Motors",
         "GMC Motors",
         "Cadillac",
         "2/15/2020 0:00"
        ],
        [
         "BR1530",
         "DLR0240",
         "Hyu-M160",
         4257825,
         3,
         "DT01129",
         2,
         2020,
         "Peugeot Motors",
         "Clemens Automobile Company Building",
         "Hyundai",
         "2/3/2020 0:00"
        ],
        [
         "BR1540",
         "DLR0241",
         "Hyu-M161",
         19956204,
         3,
         "DT01130",
         2,
         2020,
         "PGO Motors",
         "Colman Automotive Building",
         "Hyundai",
         "2/4/2020 0:00"
        ],
        [
         "BR1545",
         "DLR0075",
         "Cad-M35",
         11312878,
         2,
         "DT01143",
         2,
         2020,
         "Piaggio Motors",
         "Gumpert Motors",
         "Cadillac",
         "2/17/2020 0:00"
        ],
        [
         "BR1555",
         "DLR0076",
         "Cad-M36",
         20868240,
         3,
         "DT01144",
         2,
         2020,
         "Plymouth Motors",
         "Healey Motors",
         "Cadillac",
         "2/18/2020 0:00"
        ],
        [
         "BR1560",
         "DLR0243",
         "Hyu-M163",
         9443751,
         3,
         "DT01132",
         2,
         2020,
         "Plymouth Motors",
         "Howard Motor Company Building",
         "Hyundai",
         "2/6/2020 0:00"
        ],
        [
         "BR1565",
         "DLR0077",
         "Cad-M37",
         14383581,
         3,
         "DT01145",
         2,
         2020,
         "Polestar Motors",
         "Heinkel Motors",
         "Cadillac",
         "2/19/2020 0:00"
        ],
        [
         "BR1570",
         "DLR0244",
         "Hyu-M164",
         12224948,
         2,
         "DT01133",
         2,
         2020,
         "Polestar Motors",
         "Hupmobile Building",
         "Hyundai",
         "2/7/2020 0:00"
        ],
        [
         "BR1575",
         "DLR0078",
         "Cad-M38",
         8234393,
         1,
         "DT01146",
         2,
         2020,
         "Pontiac, Asüna Motors",
         "Hennessey Motors",
         "Cadillac",
         "2/20/2020 0:00"
        ],
        [
         "BR1585",
         "DLR0079",
         "Cad-M39",
         2785750,
         1,
         "DT01147",
         2,
         2020,
         "Porsche Motors",
         "Hillman Motors",
         "Cadillac",
         "2/21/2020 0:00"
        ],
        [
         "BR1590",
         "DLR0246",
         "Mah-M166",
         4431368,
         1,
         "DT01135",
         2,
         2020,
         "Porsche Motors",
         "Jones Motor Company",
         "Mahindra",
         "2/9/2020 0:00"
        ],
        [
         "BR1595",
         "DLR0080",
         "Che-M40",
         7968813,
         1,
         "DT01148",
         2,
         2020,
         "Premier Motors",
         "Hindustan Motors",
         "Chevrolet",
         "2/22/2020 0:00"
        ],
        [
         "BR1600",
         "DLR0247",
         "Mah-M167",
         112246,
         1,
         "DT01136",
         2,
         2020,
         "Premier Motors",
         "Kindel Building",
         "Mahindra",
         "2/10/2020 0:00"
        ]
       ],
       "datasetInfos": [],
       "dbfsResultPath": null,
       "isJsonSchema": true,
       "metadata": {},
       "overflow": false,
       "plotOptions": {
        "customPlotOptions": {},
        "displayType": "table",
        "pivotAggregation": null,
        "pivotColumns": null,
        "xColumns": null,
        "yColumns": null
       },
       "removedWidgets": [],
       "schema": [
        {
         "metadata": "{}",
         "name": "Branch_ID",
         "type": "\"string\""
        },
        {
         "metadata": "{}",
         "name": "Dealer_ID",
         "type": "\"string\""
        },
        {
         "metadata": "{}",
         "name": "Model_ID",
         "type": "\"string\""
        },
        {
         "metadata": "{}",
         "name": "Revenue",
         "type": "\"integer\""
        },
        {
         "metadata": "{}",
         "name": "Units_Sold",
         "type": "\"integer\""
        },
        {
         "metadata": "{}",
         "name": "Date_ID",
         "type": "\"string\""
        },
        {
         "metadata": "{}",
         "name": "Month",
         "type": "\"integer\""
        },
        {
         "metadata": "{}",
         "name": "Year",
         "type": "\"integer\""
        },
        {
         "metadata": "{}",
         "name": "BranchName",
         "type": "\"string\""
        },
        {
         "metadata": "{}",
         "name": "DealerName",
         "type": "\"string\""
        },
        {
         "metadata": "{}",
         "name": "Product_Name",
         "type": "\"string\""
        },
        {
         "metadata": "{}",
         "name": "Date",
         "type": "\"string\""
        }
       ],
       "type": "table"
      }
     },
     "output_type": "display_data"
    }
   ],
   "source": [
    "spark.sql(\"select * from delta.`/Volumes/workspace/my_delta/filestore/sink_data/my_1st_delta`;\").display()"
   ]
  },
  {
   "cell_type": "code",
   "execution_count": 0,
   "metadata": {
    "application/vnd.databricks.v1+cell": {
     "cellMetadata": {
      "byteLimit": 2048000,
      "rowLimit": 10000
     },
     "inputWidgets": {},
     "nuid": "096b0810-63f8-4c36-9f07-bcc4a9287230",
     "showTitle": false,
     "tableResultSettingsMap": {},
     "title": ""
    }
   },
   "outputs": [],
   "source": [
    "df = spark.read.format(\"csv\")\\\n",
    "            .option(\"header\", \"true\")\\\n",
    "            .option(\"inferSchema\", \"true\")\\\n",
    "            .load(\"/Volumes/workspace/my_delta/filestore/source_data/sales_data_second.csv\")"
   ]
  },
  {
   "cell_type": "code",
   "execution_count": 0,
   "metadata": {
    "application/vnd.databricks.v1+cell": {
     "cellMetadata": {
      "byteLimit": 2048000,
      "rowLimit": 10000
     },
     "inputWidgets": {},
     "nuid": "2fa22d3a-22db-4dbd-aab4-3310f1b368c2",
     "showTitle": false,
     "tableResultSettingsMap": {},
     "title": ""
    }
   },
   "outputs": [],
   "source": [
    "df.write.format(\"delta\")\\\n",
    "      .mode(\"append\")\\\n",
    "      .option(\"path\", \"/Volumes/workspace/my_delta/filestore/sink_data/my_1st_delta\")\\\n",
    "      .save()"
   ]
  },
  {
   "cell_type": "code",
   "execution_count": 0,
   "metadata": {
    "application/vnd.databricks.v1+cell": {
     "cellMetadata": {
      "byteLimit": 2048000,
      "rowLimit": 10000
     },
     "inputWidgets": {},
     "nuid": "2dbe4aac-4600-4371-9f46-9793a53129a1",
     "showTitle": false,
     "tableResultSettingsMap": {},
     "title": ""
    }
   },
   "outputs": [],
   "source": [
    "df = spark.read.format(\"csv\")\\\n",
    "            .option(\"header\", \"true\")\\\n",
    "            .option(\"inferSchema\", \"true\")\\\n",
    "            .load(\"/Volumes/workspace/my_delta/filestore/source_data/sales_data_third.csv\")"
   ]
  },
  {
   "cell_type": "markdown",
   "metadata": {
    "application/vnd.databricks.v1+cell": {
     "cellMetadata": {},
     "inputWidgets": {},
     "nuid": "908a7f1b-fe2f-43a9-9fe8-5cd0f556931d",
     "showTitle": false,
     "tableResultSettingsMap": {},
     "title": ""
    }
   },
   "source": [
    "#### \"mergeSchema\" Option for Schema Evolution"
   ]
  },
  {
   "cell_type": "code",
   "execution_count": 0,
   "metadata": {
    "application/vnd.databricks.v1+cell": {
     "cellMetadata": {
      "byteLimit": 2048000,
      "rowLimit": 10000
     },
     "inputWidgets": {},
     "nuid": "5d5929eb-fb68-4f19-b055-5e73a418b0b6",
     "showTitle": false,
     "tableResultSettingsMap": {},
     "title": ""
    }
   },
   "outputs": [],
   "source": [
    "df.write.format(\"delta\")\\\n",
    "        .mode(\"append\")\\\n",
    "        .option(\"path\", \"/Volumes/workspace/my_delta/filestore/sink_data/my_1st_delta\")\\\n",
    "        .option(\"mergeSchema\", True)\\\n",
    "        .save()"
   ]
  },
  {
   "cell_type": "code",
   "execution_count": 0,
   "metadata": {
    "application/vnd.databricks.v1+cell": {
     "cellMetadata": {
      "byteLimit": 2048000,
      "rowLimit": 10000
     },
     "inputWidgets": {},
     "nuid": "bf582508-7438-4365-8561-bd69a6d24ef8",
     "showTitle": false,
     "tableResultSettingsMap": {},
     "title": ""
    }
   },
   "outputs": [
    {
     "output_type": "display_data",
     "data": {
      "text/html": [
       "<style scoped>\n",
       "  .table-result-container {\n",
       "    max-height: 300px;\n",
       "    overflow: auto;\n",
       "  }\n",
       "  table, th, td {\n",
       "    border: 1px solid black;\n",
       "    border-collapse: collapse;\n",
       "  }\n",
       "  th, td {\n",
       "    padding: 5px;\n",
       "  }\n",
       "  th {\n",
       "    text-align: left;\n",
       "  }\n",
       "</style><div class='table-result-container'><table class='table-result'><thead style='background-color: white'><tr><th>Branch_ID</th><th>Dealer_ID</th><th>Model_ID</th><th>Revenue</th><th>Units_Sold</th><th>Date_ID</th><th>Month</th><th>Year</th><th>BranchName</th><th>DealerName</th><th>Product_Name</th><th>Date</th><th>ReturnFlag</th></tr></thead><tbody><tr><td>BR0006</td><td>DLR0168</td><td>Ren-M128</td><td>12971088</td><td>3</td><td>DT01236</td><td>5</td><td>2020</td><td>AC Cars Motors</td><td>Saab Motors</td><td>Renault</td><td>5/20/2020 0:00</td><td>null</td></tr><tr><td>BR0011</td><td>DLR0069</td><td>Vol-M256</td><td>14181510</td><td>3</td><td>DT01225</td><td>5</td><td>2020</td><td>Acura Motors</td><td>Geo Motors</td><td>Volkswagen</td><td>5/9/2020 0:00</td><td>null</td></tr><tr><td>BR0021</td><td>DLR0070</td><td>Vol-M257</td><td>7738896</td><td>1</td><td>DT01226</td><td>5</td><td>2020</td><td>Aixam-Mega (including Arola) Motors</td><td>Gilbern Motors</td><td>Volkswagen</td><td>5/10/2020 0:00</td><td>null</td></tr><tr><td>BR0031</td><td>DLR0071</td><td>Vol-M258</td><td>10067596</td><td>2</td><td>DT01227</td><td>5</td><td>2020</td><td>Alfa Romeo Motors</td><td>Ginetta Motors</td><td>Volkswagen</td><td>5/11/2020 0:00</td><td>null</td></tr><tr><td>BR0041</td><td>DLR0072</td><td>Vol-M259</td><td>13055810</td><td>2</td><td>DT01228</td><td>5</td><td>2020</td><td>Alpine Motors</td><td>Glas Motors</td><td>Volkswagen</td><td>5/12/2020 0:00</td><td>null</td></tr></tbody></table></div>"
      ]
     },
     "metadata": {
      "application/vnd.databricks.v1+output": {
       "addedWidgets": {},
       "aggData": [],
       "aggError": "",
       "aggOverflow": false,
       "aggSchema": [],
       "aggSeriesLimitReached": false,
       "aggType": "",
       "arguments": {},
       "columnCustomDisplayInfos": {},
       "data": [
        [
         "BR0006",
         "DLR0168",
         "Ren-M128",
         12971088,
         3,
         "DT01236",
         5,
         2020,
         "AC Cars Motors",
         "Saab Motors",
         "Renault",
         "5/20/2020 0:00",
         null
        ],
        [
         "BR0011",
         "DLR0069",
         "Vol-M256",
         14181510,
         3,
         "DT01225",
         5,
         2020,
         "Acura Motors",
         "Geo Motors",
         "Volkswagen",
         "5/9/2020 0:00",
         null
        ],
        [
         "BR0021",
         "DLR0070",
         "Vol-M257",
         7738896,
         1,
         "DT01226",
         5,
         2020,
         "Aixam-Mega (including Arola) Motors",
         "Gilbern Motors",
         "Volkswagen",
         "5/10/2020 0:00",
         null
        ],
        [
         "BR0031",
         "DLR0071",
         "Vol-M258",
         10067596,
         2,
         "DT01227",
         5,
         2020,
         "Alfa Romeo Motors",
         "Ginetta Motors",
         "Volkswagen",
         "5/11/2020 0:00",
         null
        ],
        [
         "BR0041",
         "DLR0072",
         "Vol-M259",
         13055810,
         2,
         "DT01228",
         5,
         2020,
         "Alpine Motors",
         "Glas Motors",
         "Volkswagen",
         "5/12/2020 0:00",
         null
        ]
       ],
       "datasetInfos": [],
       "dbfsResultPath": null,
       "isJsonSchema": true,
       "metadata": {},
       "overflow": false,
       "plotOptions": {
        "customPlotOptions": {},
        "displayType": "table",
        "pivotAggregation": null,
        "pivotColumns": null,
        "xColumns": null,
        "yColumns": null
       },
       "removedWidgets": [],
       "schema": [
        {
         "metadata": "{}",
         "name": "Branch_ID",
         "type": "\"string\""
        },
        {
         "metadata": "{}",
         "name": "Dealer_ID",
         "type": "\"string\""
        },
        {
         "metadata": "{}",
         "name": "Model_ID",
         "type": "\"string\""
        },
        {
         "metadata": "{}",
         "name": "Revenue",
         "type": "\"integer\""
        },
        {
         "metadata": "{}",
         "name": "Units_Sold",
         "type": "\"integer\""
        },
        {
         "metadata": "{}",
         "name": "Date_ID",
         "type": "\"string\""
        },
        {
         "metadata": "{}",
         "name": "Month",
         "type": "\"integer\""
        },
        {
         "metadata": "{}",
         "name": "Year",
         "type": "\"integer\""
        },
        {
         "metadata": "{}",
         "name": "BranchName",
         "type": "\"string\""
        },
        {
         "metadata": "{}",
         "name": "DealerName",
         "type": "\"string\""
        },
        {
         "metadata": "{}",
         "name": "Product_Name",
         "type": "\"string\""
        },
        {
         "metadata": "{}",
         "name": "Date",
         "type": "\"string\""
        },
        {
         "metadata": "{}",
         "name": "ReturnFlag",
         "type": "\"integer\""
        }
       ],
       "type": "table"
      }
     },
     "output_type": "display_data"
    }
   ],
   "source": [
    "spark.sql(\"select * from delta.`/Volumes/workspace/my_delta/filestore/sink_data/my_1st_delta`;\").limit(5).display()"
   ]
  },
  {
   "cell_type": "markdown",
   "metadata": {
    "application/vnd.databricks.v1+cell": {
     "cellMetadata": {},
     "inputWidgets": {},
     "nuid": "b98028bb-d538-49ce-a4b5-82765ba8af71",
     "showTitle": false,
     "tableResultSettingsMap": {},
     "title": ""
    }
   },
   "source": [
    "#### Delta DDL"
   ]
  },
  {
   "cell_type": "code",
   "execution_count": 0,
   "metadata": {
    "application/vnd.databricks.v1+cell": {
     "cellMetadata": {
      "byteLimit": 2048000,
      "implicitDf": true,
      "rowLimit": 10000
     },
     "inputWidgets": {},
     "nuid": "6250ff05-6ead-4ee3-b173-f095e2f2666f",
     "showTitle": false,
     "tableResultSettingsMap": {},
     "title": ""
    }
   },
   "outputs": [],
   "source": [
    "%sql\n",
    "create catalog my_catalog;"
   ]
  },
  {
   "cell_type": "code",
   "execution_count": 0,
   "metadata": {
    "application/vnd.databricks.v1+cell": {
     "cellMetadata": {
      "byteLimit": 2048000,
      "implicitDf": true,
      "rowLimit": 10000
     },
     "inputWidgets": {},
     "nuid": "1a853ad4-addb-4782-ac01-fe9853ee238d",
     "showTitle": false,
     "tableResultSettingsMap": {},
     "title": ""
    }
   },
   "outputs": [],
   "source": [
    "%sql\n",
    "create schema my_catalog.my_schema;"
   ]
  },
  {
   "cell_type": "code",
   "execution_count": 0,
   "metadata": {
    "application/vnd.databricks.v1+cell": {
     "cellMetadata": {
      "byteLimit": 2048000,
      "implicitDf": true,
      "rowLimit": 10000
     },
     "inputWidgets": {},
     "nuid": "ec78d749-6a33-4b77-b8f1-6c18c7da02b7",
     "showTitle": false,
     "tableResultSettingsMap": {},
     "title": ""
    }
   },
   "outputs": [],
   "source": [
    "%sql\n",
    "create table my_catalog.my_schema.my_delta_one\n",
    "(\n",
    "  id int,\n",
    "  name string,\n",
    "  salary double\n",
    ")\n",
    "using delta;"
   ]
  },
  {
   "cell_type": "markdown",
   "metadata": {
    "application/vnd.databricks.v1+cell": {
     "cellMetadata": {},
     "inputWidgets": {},
     "nuid": "203df0ab-c2f8-473e-bd61-f0749830fbd9",
     "showTitle": false,
     "tableResultSettingsMap": {},
     "title": ""
    }
   },
   "source": [
    "#### Data Versioning"
   ]
  },
  {
   "cell_type": "code",
   "execution_count": 0,
   "metadata": {
    "application/vnd.databricks.v1+cell": {
     "cellMetadata": {
      "byteLimit": 2048000,
      "implicitDf": true,
      "rowLimit": 10000
     },
     "inputWidgets": {},
     "nuid": "20fd3cfc-4270-4e6c-bc83-37bbb2416867",
     "showTitle": false,
     "tableResultSettingsMap": {},
     "title": ""
    }
   },
   "outputs": [
    {
     "output_type": "display_data",
     "data": {
      "text/html": [
       "<style scoped>\n",
       "  .table-result-container {\n",
       "    max-height: 300px;\n",
       "    overflow: auto;\n",
       "  }\n",
       "  table, th, td {\n",
       "    border: 1px solid black;\n",
       "    border-collapse: collapse;\n",
       "  }\n",
       "  th, td {\n",
       "    padding: 5px;\n",
       "  }\n",
       "  th {\n",
       "    text-align: left;\n",
       "  }\n",
       "</style><div class='table-result-container'><table class='table-result'><thead style='background-color: white'><tr><th>version</th><th>timestamp</th><th>userId</th><th>userName</th><th>operation</th><th>operationParameters</th><th>job</th><th>notebook</th><th>clusterId</th><th>readVersion</th><th>isolationLevel</th><th>isBlindAppend</th><th>operationMetrics</th><th>userMetadata</th><th>engineInfo</th></tr></thead><tbody><tr><td>2</td><td>2025-08-14T03:24:18.000Z</td><td>78362573187593</td><td>phyominnthwin@gmail.com</td><td>WRITE</td><td>Map(mode -> Append, statsOnLoad -> false, partitionBy -> [])</td><td>null</td><td>null</td><td>0814-025734-48gcvjd9-v2n</td><td>1</td><td>WriteSerializable</td><td>true</td><td>Map(numFiles -> 1, numOutputRows -> 100, numOutputBytes -> 8239)</td><td>null</td><td>Databricks-Runtime/17.0.x-aarch64-photon-scala2.13</td></tr><tr><td>1</td><td>2025-08-14T03:22:56.000Z</td><td>78362573187593</td><td>phyominnthwin@gmail.com</td><td>WRITE</td><td>Map(mode -> Append, statsOnLoad -> false, partitionBy -> [])</td><td>null</td><td>null</td><td>0814-025734-48gcvjd9-v2n</td><td>0</td><td>WriteSerializable</td><td>true</td><td>Map(numFiles -> 1, numOutputRows -> 31, numOutputBytes -> 4978)</td><td>null</td><td>Databricks-Runtime/17.0.x-aarch64-photon-scala2.13</td></tr><tr><td>0</td><td>2025-08-14T03:07:34.000Z</td><td>78362573187593</td><td>phyominnthwin@gmail.com</td><td>WRITE</td><td>Map(mode -> ErrorIfExists, statsOnLoad -> false, partitionBy -> [])</td><td>null</td><td>null</td><td>0814-025734-48gcvjd9-v2n</td><td>null</td><td>WriteSerializable</td><td>true</td><td>Map(numFiles -> 1, numOutputRows -> 95, numOutputBytes -> 8109)</td><td>null</td><td>Databricks-Runtime/17.0.x-aarch64-photon-scala2.13</td></tr></tbody></table></div>"
      ]
     },
     "metadata": {
      "application/vnd.databricks.v1+output": {
       "addedWidgets": {},
       "aggData": [],
       "aggError": "",
       "aggOverflow": false,
       "aggSchema": [],
       "aggSeriesLimitReached": false,
       "aggType": "",
       "arguments": {},
       "columnCustomDisplayInfos": {},
       "data": [
        [
         2,
         "2025-08-14T03:24:18.000Z",
         "78362573187593",
         "phyominnthwin@gmail.com",
         "WRITE",
         {
          "mode": "Append",
          "partitionBy": "[]",
          "statsOnLoad": "false"
         },
         null,
         null,
         "0814-025734-48gcvjd9-v2n",
         1,
         "WriteSerializable",
         true,
         {
          "numFiles": "1",
          "numOutputBytes": "8239",
          "numOutputRows": "100"
         },
         null,
         "Databricks-Runtime/17.0.x-aarch64-photon-scala2.13"
        ],
        [
         1,
         "2025-08-14T03:22:56.000Z",
         "78362573187593",
         "phyominnthwin@gmail.com",
         "WRITE",
         {
          "mode": "Append",
          "partitionBy": "[]",
          "statsOnLoad": "false"
         },
         null,
         null,
         "0814-025734-48gcvjd9-v2n",
         0,
         "WriteSerializable",
         true,
         {
          "numFiles": "1",
          "numOutputBytes": "4978",
          "numOutputRows": "31"
         },
         null,
         "Databricks-Runtime/17.0.x-aarch64-photon-scala2.13"
        ],
        [
         0,
         "2025-08-14T03:07:34.000Z",
         "78362573187593",
         "phyominnthwin@gmail.com",
         "WRITE",
         {
          "mode": "ErrorIfExists",
          "partitionBy": "[]",
          "statsOnLoad": "false"
         },
         null,
         null,
         "0814-025734-48gcvjd9-v2n",
         null,
         "WriteSerializable",
         true,
         {
          "numFiles": "1",
          "numOutputBytes": "8109",
          "numOutputRows": "95"
         },
         null,
         "Databricks-Runtime/17.0.x-aarch64-photon-scala2.13"
        ]
       ],
       "datasetInfos": [
        {
         "name": "_sqldf",
         "schema": {
          "fields": [
           {
            "metadata": {},
            "name": "version",
            "nullable": true,
            "type": "long"
           },
           {
            "metadata": {},
            "name": "timestamp",
            "nullable": true,
            "type": "timestamp"
           },
           {
            "metadata": {},
            "name": "userId",
            "nullable": true,
            "type": "string"
           },
           {
            "metadata": {},
            "name": "userName",
            "nullable": true,
            "type": "string"
           },
           {
            "metadata": {},
            "name": "operation",
            "nullable": true,
            "type": "string"
           },
           {
            "metadata": {},
            "name": "operationParameters",
            "nullable": true,
            "type": {
             "keyType": "string",
             "type": "map",
             "valueContainsNull": true,
             "valueType": "string"
            }
           },
           {
            "metadata": {},
            "name": "job",
            "nullable": true,
            "type": {
             "fields": [
              {
               "metadata": {},
               "name": "jobId",
               "nullable": true,
               "type": "string"
              },
              {
               "metadata": {},
               "name": "jobName",
               "nullable": true,
               "type": "string"
              },
              {
               "metadata": {},
               "name": "jobRunId",
               "nullable": true,
               "type": "string"
              },
              {
               "metadata": {},
               "name": "runId",
               "nullable": true,
               "type": "string"
              },
              {
               "metadata": {},
               "name": "jobOwnerId",
               "nullable": true,
               "type": "string"
              },
              {
               "metadata": {},
               "name": "triggerType",
               "nullable": true,
               "type": "string"
              }
             ],
             "type": "struct"
            }
           },
           {
            "metadata": {},
            "name": "notebook",
            "nullable": true,
            "type": {
             "fields": [
              {
               "metadata": {},
               "name": "notebookId",
               "nullable": true,
               "type": "string"
              }
             ],
             "type": "struct"
            }
           },
           {
            "metadata": {},
            "name": "clusterId",
            "nullable": true,
            "type": "string"
           },
           {
            "metadata": {},
            "name": "readVersion",
            "nullable": true,
            "type": "long"
           },
           {
            "metadata": {},
            "name": "isolationLevel",
            "nullable": true,
            "type": "string"
           },
           {
            "metadata": {},
            "name": "isBlindAppend",
            "nullable": true,
            "type": "boolean"
           },
           {
            "metadata": {},
            "name": "operationMetrics",
            "nullable": true,
            "type": {
             "keyType": "string",
             "type": "map",
             "valueContainsNull": true,
             "valueType": "string"
            }
           },
           {
            "metadata": {},
            "name": "userMetadata",
            "nullable": true,
            "type": "string"
           },
           {
            "metadata": {},
            "name": "engineInfo",
            "nullable": true,
            "type": "string"
           }
          ],
          "type": "struct"
         },
         "tableIdentifier": null,
         "typeStr": "pyspark.sql.connect.dataframe.DataFrame"
        }
       ],
       "dbfsResultPath": null,
       "isJsonSchema": true,
       "metadata": {
        "createTempViewForImplicitDf": true,
        "dataframeName": "_sqldf",
        "executionCount": 73
       },
       "overflow": false,
       "plotOptions": {
        "customPlotOptions": {},
        "displayType": "table",
        "pivotAggregation": null,
        "pivotColumns": null,
        "xColumns": null,
        "yColumns": null
       },
       "removedWidgets": [],
       "schema": [
        {
         "metadata": "{}",
         "name": "version",
         "type": "\"long\""
        },
        {
         "metadata": "{}",
         "name": "timestamp",
         "type": "\"timestamp\""
        },
        {
         "metadata": "{}",
         "name": "userId",
         "type": "\"string\""
        },
        {
         "metadata": "{}",
         "name": "userName",
         "type": "\"string\""
        },
        {
         "metadata": "{}",
         "name": "operation",
         "type": "\"string\""
        },
        {
         "metadata": "{}",
         "name": "operationParameters",
         "type": "{\"keyType\":\"string\",\"type\":\"map\",\"valueContainsNull\":true,\"valueType\":\"string\"}"
        },
        {
         "metadata": "{}",
         "name": "job",
         "type": "{\"fields\":[{\"metadata\":{},\"name\":\"jobId\",\"nullable\":true,\"type\":\"string\"},{\"metadata\":{},\"name\":\"jobName\",\"nullable\":true,\"type\":\"string\"},{\"metadata\":{},\"name\":\"jobRunId\",\"nullable\":true,\"type\":\"string\"},{\"metadata\":{},\"name\":\"runId\",\"nullable\":true,\"type\":\"string\"},{\"metadata\":{},\"name\":\"jobOwnerId\",\"nullable\":true,\"type\":\"string\"},{\"metadata\":{},\"name\":\"triggerType\",\"nullable\":true,\"type\":\"string\"}],\"type\":\"struct\"}"
        },
        {
         "metadata": "{}",
         "name": "notebook",
         "type": "{\"fields\":[{\"metadata\":{},\"name\":\"notebookId\",\"nullable\":true,\"type\":\"string\"}],\"type\":\"struct\"}"
        },
        {
         "metadata": "{}",
         "name": "clusterId",
         "type": "\"string\""
        },
        {
         "metadata": "{}",
         "name": "readVersion",
         "type": "\"long\""
        },
        {
         "metadata": "{}",
         "name": "isolationLevel",
         "type": "\"string\""
        },
        {
         "metadata": "{}",
         "name": "isBlindAppend",
         "type": "\"boolean\""
        },
        {
         "metadata": "{}",
         "name": "operationMetrics",
         "type": "{\"keyType\":\"string\",\"type\":\"map\",\"valueContainsNull\":true,\"valueType\":\"string\"}"
        },
        {
         "metadata": "{}",
         "name": "userMetadata",
         "type": "\"string\""
        },
        {
         "metadata": "{}",
         "name": "engineInfo",
         "type": "\"string\""
        }
       ],
       "type": "table"
      }
     },
     "output_type": "display_data"
    }
   ],
   "source": [
    "%sql\n",
    "describe history delta.`/Volumes/workspace/my_delta/filestore/sink_data/my_1st_delta`;"
   ]
  },
  {
   "cell_type": "markdown",
   "metadata": {
    "application/vnd.databricks.v1+cell": {
     "cellMetadata": {},
     "inputWidgets": {},
     "nuid": "51afbb05-680e-4e99-ae2c-48e6258fbadd",
     "showTitle": false,
     "tableResultSettingsMap": {},
     "title": ""
    }
   },
   "source": [
    "#### Time Traveling"
   ]
  },
  {
   "cell_type": "code",
   "execution_count": 0,
   "metadata": {
    "application/vnd.databricks.v1+cell": {
     "cellMetadata": {
      "byteLimit": 2048000,
      "implicitDf": true,
      "rowLimit": 10000
     },
     "inputWidgets": {},
     "nuid": "fa909052-c5aa-403b-9f57-065ac95c21f6",
     "showTitle": false,
     "tableResultSettingsMap": {},
     "title": ""
    }
   },
   "outputs": [
    {
     "output_type": "display_data",
     "data": {
      "text/html": [
       "<style scoped>\n",
       "  .table-result-container {\n",
       "    max-height: 300px;\n",
       "    overflow: auto;\n",
       "  }\n",
       "  table, th, td {\n",
       "    border: 1px solid black;\n",
       "    border-collapse: collapse;\n",
       "  }\n",
       "  th, td {\n",
       "    padding: 5px;\n",
       "  }\n",
       "  th {\n",
       "    text-align: left;\n",
       "  }\n",
       "</style><div class='table-result-container'><table class='table-result'><thead style='background-color: white'><tr><th>Branch_ID</th><th>Dealer_ID</th><th>Model_ID</th><th>Revenue</th><th>Units_Sold</th><th>Date_ID</th><th>Month</th><th>Year</th><th>BranchName</th><th>DealerName</th><th>Product_Name</th><th>Date</th></tr></thead><tbody><tr><td>BR0006</td><td>DLR0168</td><td>Ren-M128</td><td>12971088</td><td>3</td><td>DT01236</td><td>5</td><td>2020</td><td>AC Cars Motors</td><td>Saab Motors</td><td>Renault</td><td>5/20/2020 0:00</td></tr><tr><td>BR0011</td><td>DLR0069</td><td>Vol-M256</td><td>14181510</td><td>3</td><td>DT01225</td><td>5</td><td>2020</td><td>Acura Motors</td><td>Geo Motors</td><td>Volkswagen</td><td>5/9/2020 0:00</td></tr><tr><td>BR0021</td><td>DLR0070</td><td>Vol-M257</td><td>7738896</td><td>1</td><td>DT01226</td><td>5</td><td>2020</td><td>Aixam-Mega (including Arola) Motors</td><td>Gilbern Motors</td><td>Volkswagen</td><td>5/10/2020 0:00</td></tr><tr><td>BR0031</td><td>DLR0071</td><td>Vol-M258</td><td>10067596</td><td>2</td><td>DT01227</td><td>5</td><td>2020</td><td>Alfa Romeo Motors</td><td>Ginetta Motors</td><td>Volkswagen</td><td>5/11/2020 0:00</td></tr><tr><td>BR0041</td><td>DLR0072</td><td>Vol-M259</td><td>13055810</td><td>2</td><td>DT01228</td><td>5</td><td>2020</td><td>Alpine Motors</td><td>Glas Motors</td><td>Volkswagen</td><td>5/12/2020 0:00</td></tr><tr><td>BR0051</td><td>DLR0073</td><td>Vol-M260</td><td>2224368</td><td>1</td><td>DT01229</td><td>5</td><td>2020</td><td>Alvis Motors</td><td>GMC Motors</td><td>Volkswagen</td><td>5/13/2020 0:00</td></tr><tr><td>BR0061</td><td>DLR0074</td><td>Nis-M261</td><td>11270580</td><td>3</td><td>DT01230</td><td>5</td><td>2020</td><td>AMC, Eagle Motors</td><td>GTA Spano Motors</td><td>Nissan</td><td>5/14/2020 0:00</td></tr><tr><td>BR0066</td><td>DLR0169</td><td>Ren-M129</td><td>693559</td><td>1</td><td>DT01237</td><td>5</td><td>2020</td><td>Acura Motors</td><td>SAIC Motor Motors</td><td>Renault</td><td>5/21/2020 0:00</td></tr><tr><td>BR0071</td><td>DLR0075</td><td>Nis-M262</td><td>18784710</td><td>3</td><td>DT01231</td><td>5</td><td>2020</td><td>Anadol Motors</td><td>Gumpert Motors</td><td>Nissan</td><td>5/15/2020 0:00</td></tr><tr><td>BR0081</td><td>DLR0076</td><td>Nis-M263</td><td>2354637</td><td>3</td><td>DT01232</td><td>5</td><td>2020</td><td>Ariel Motors</td><td>Healey Motors</td><td>Nissan</td><td>5/16/2020 0:00</td></tr><tr><td>BR0121</td><td>DLR0080</td><td>Nis-M267</td><td>5421046</td><td>2</td><td>DT01236</td><td>5</td><td>2020</td><td>Aston Martin Motors</td><td>Hindustan Motors</td><td>Nissan</td><td>5/20/2020 0:00</td></tr><tr><td>BR0126</td><td>DLR0170</td><td>Ren-M130</td><td>8445560</td><td>2</td><td>DT01238</td><td>5</td><td>2020</td><td>Aixam-Mega (including Arola) Motors</td><td>Saleen Motors</td><td>Renault</td><td>5/22/2020 0:00</td></tr><tr><td>BR0131</td><td>DLR0081</td><td>Nis-M268</td><td>28034733</td><td>3</td><td>DT01237</td><td>5</td><td>2020</td><td>Audi Motors</td><td>Holden Motors</td><td>Nissan</td><td>5/21/2020 0:00</td></tr><tr><td>BR0141</td><td>DLR0082</td><td>Nis-M269</td><td>17522592</td><td>2</td><td>DT01238</td><td>5</td><td>2020</td><td>Autobianchi Motors</td><td>Honda Motors</td><td>Nissan</td><td>5/22/2020 0:00</td></tr><tr><td>BR0151</td><td>DLR0083</td><td>Nis-M270</td><td>25901364</td><td>3</td><td>DT01239</td><td>5</td><td>2020</td><td>Auto-Union Motors</td><td>Honda India Motors</td><td>Nissan</td><td>5/23/2020 0:00</td></tr><tr><td>BR0181</td><td>DLR0086</td><td>Sko-M273</td><td>7915343</td><td>1</td><td>DT01242</td><td>5</td><td>2020</td><td>Bitter Motors</td><td>Hummer Motors</td><td>Skoda</td><td>5/26/2020 0:00</td></tr><tr><td>BR0186</td><td>DLR0171</td><td>Ren-M131</td><td>7078128</td><td>1</td><td>DT01239</td><td>5</td><td>2020</td><td>Alfa Romeo Motors</td><td>Samsung Motors</td><td>Renault</td><td>5/23/2020 0:00</td></tr><tr><td>BR0191</td><td>DLR0087</td><td>Sko-M274</td><td>24183663</td><td>3</td><td>DT01243</td><td>5</td><td>2020</td><td>BMW Motors</td><td>Hyundai Motors</td><td>Skoda</td><td>5/27/2020 0:00</td></tr><tr><td>BR0201</td><td>DLR0088</td><td>Mit-M275</td><td>847952</td><td>2</td><td>DT01244</td><td>5</td><td>2020</td><td>Bond Motors</td><td>IFA (including Trabant, Wartburg, Barkas) Motors</td><td>Mitsubishi</td><td>5/28/2020 0:00</td></tr><tr><td>BR0211</td><td>DLR0089</td><td>Mit-M276</td><td>2887860</td><td>1</td><td>DT01245</td><td>5</td><td>2020</td><td>Borgward (including Goliath and Lloyd) Motors</td><td>Infiniti Motors</td><td>Mitsubishi</td><td>5/29/2020 0:00</td></tr><tr><td>BR0221</td><td>DLR0090</td><td>Mit-M277</td><td>24243636</td><td>3</td><td>DT01246</td><td>5</td><td>2020</td><td>Bristol Motors</td><td>null</td><td>Mitsubishi</td><td>5/30/2020 0:00</td></tr><tr><td>BR0306</td><td>DLR0173</td><td>Toy-M133</td><td>12612492</td><td>3</td><td>DT01241</td><td>5</td><td>2020</td><td>Alvis Motors</td><td>Santa Matilde Motors</td><td>Toyota</td><td>5/25/2020 0:00</td></tr><tr><td>BR0426</td><td>DLR0175</td><td>Vol-M135</td><td>7718804</td><td>1</td><td>DT01243</td><td>5</td><td>2020</td><td>Anadol Motors</td><td>Saturn Motors</td><td>Volkswagen</td><td>5/27/2020 0:00</td></tr><tr><td>BR0486</td><td>DLR0176</td><td>Vol-M136</td><td>9950264</td><td>1</td><td>DT01244</td><td>5</td><td>2020</td><td>Ariel Motors</td><td>Scion Motors</td><td>Volkswagen</td><td>5/28/2020 0:00</td></tr><tr><td>BR0546</td><td>DLR0177</td><td>Mar-M137</td><td>11543998</td><td>2</td><td>DT01245</td><td>5</td><td>2020</td><td>ARO Motors</td><td>Seat Motors</td><td>Maruti Suzuki</td><td>5/29/2020 0:00</td></tr><tr><td>BR0606</td><td>DLR0178</td><td>Mar-M138</td><td>14029425</td><td>3</td><td>DT01246</td><td>5</td><td>2020</td><td>Artega Motors</td><td>Shelby SuperCars Motors</td><td>Maruti Suzuki</td><td>5/30/2020 0:00</td></tr><tr><td>BR0666</td><td>DLR0179</td><td>Mar-M139</td><td>16170344</td><td>2</td><td>DT01247</td><td>5</td><td>2020</td><td>Asia Motors Motors</td><td>Simca Motors</td><td>Maruti Suzuki</td><td>5/31/2020 0:00</td></tr><tr><td>BR1075</td><td>DLR0028</td><td>Nis-M265</td><td>946626</td><td>1</td><td>DT01096</td><td>1</td><td>2020</td><td>Lexus Motors</td><td>Buick Motors</td><td>Nissan</td><td>1/1/2020 0:00</td></tr><tr><td>BR1105</td><td>DLR0031</td><td>Nis-M268</td><td>2349414</td><td>3</td><td>DT01099</td><td>1</td><td>2020</td><td>Lotus Motors</td><td>Caterham Motors</td><td>Nissan</td><td>1/4/2020 0:00</td></tr><tr><td>BR1125</td><td>DLR0033</td><td>Nis-M270</td><td>5501066</td><td>2</td><td>DT01101</td><td>1</td><td>2020</td><td>LuAZ Motors</td><td>Chevrolet Motors</td><td>Nissan</td><td>1/6/2020 0:00</td></tr><tr><td>BR1135</td><td>DLR0034</td><td>Sko-M271</td><td>15299630</td><td>2</td><td>DT01102</td><td>1</td><td>2020</td><td>Lynx Motors</td><td>Chevrolet India Motors</td><td>Skoda</td><td>1/7/2020 0:00</td></tr><tr><td>BR1145</td><td>DLR0035</td><td>Sko-M272</td><td>573260</td><td>1</td><td>DT01103</td><td>1</td><td>2020</td><td>Mahindra Motors</td><td>Chrysler Motors</td><td>Skoda</td><td>1/8/2020 0:00</td></tr><tr><td>BR1155</td><td>DLR0036</td><td>Sko-M273</td><td>6991308</td><td>2</td><td>DT01104</td><td>1</td><td>2020</td><td>Marcos Motors</td><td>Chrysler Europe Motors</td><td>Skoda</td><td>1/9/2020 0:00</td></tr><tr><td>BR1165</td><td>DLR0037</td><td>Sko-M274</td><td>4594208</td><td>1</td><td>DT01105</td><td>1</td><td>2020</td><td>Marlin Motors</td><td>Citroën Motors</td><td>Skoda</td><td>1/10/2020 0:00</td></tr><tr><td>BR1175</td><td>DLR0038</td><td>Mit-M275</td><td>6379479</td><td>3</td><td>DT01106</td><td>1</td><td>2020</td><td>Maruti Motors</td><td>Cizeta-Moroder Motors</td><td>Mitsubishi</td><td>1/11/2020 0:00</td></tr><tr><td>BR1195</td><td>DLR0040</td><td>Mit-M277</td><td>12731434</td><td>2</td><td>DT01108</td><td>1</td><td>2020</td><td>Mastretta Motors</td><td>Daewoo, Saehan, Chevrolet Korea Motors</td><td>Mitsubishi</td><td>1/13/2020 0:00</td></tr><tr><td>BR1200</td><td>DLR0207</td><td>Ren-M127</td><td>5217794</td><td>1</td><td>DT01096</td><td>1</td><td>2020</td><td>Mastretta Motors</td><td>Westfield Motors</td><td>Renault</td><td>1/1/2020 0:00</td></tr><tr><td>BR1205</td><td>DLR0041</td><td>BMW-M1</td><td>20119176</td><td>3</td><td>DT01109</td><td>1</td><td>2020</td><td>Matra (including Deutsch-Bonnet, René Bonnet) Motors</td><td>DAF Motors</td><td>BMW</td><td>1/14/2020 0:00</td></tr><tr><td>BR1210</td><td>DLR0208</td><td>Ren-M128</td><td>9250976</td><td>2</td><td>DT01097</td><td>1</td><td>2020</td><td>Matra (including Deutsch-Bonnet, René Bonnet) Motors</td><td>Wiesmann Motors</td><td>Renault</td><td>1/2/2020 0:00</td></tr><tr><td>BR1215</td><td>DLR0042</td><td>BMW-M2</td><td>12564672</td><td>3</td><td>DT01110</td><td>1</td><td>2020</td><td>Mazda Motors</td><td>Daihatsu Motors</td><td>BMW</td><td>1/15/2020 0:00</td></tr><tr><td>BR1220</td><td>DLR0209</td><td>Ren-M129</td><td>3678913</td><td>1</td><td>DT01098</td><td>1</td><td>2020</td><td>Mazda Motors</td><td>Zastava Motors</td><td>Renault</td><td>1/3/2020 0:00</td></tr><tr><td>BR1230</td><td>DLR0210</td><td>Ren-M130</td><td>16850778</td><td>2</td><td>DT01099</td><td>1</td><td>2020</td><td>Mazzanti Motors</td><td>ZAZ Motors</td><td>Renault</td><td>1/4/2020 0:00</td></tr><tr><td>BR1235</td><td>DLR0044</td><td>BMW-M4</td><td>7034814</td><td>2</td><td>DT01112</td><td>1</td><td>2020</td><td>McLaren Motors</td><td>null</td><td>BMW</td><td>1/17/2020 0:00</td></tr><tr><td>BR1240</td><td>DLR0211</td><td>Ren-M131</td><td>2717264</td><td>1</td><td>DT01100</td><td>1</td><td>2020</td><td>McLaren Motors</td><td>ZIL Motors</td><td>Renault</td><td>1/5/2020 0:00</td></tr><tr><td>BR1245</td><td>DLR0045</td><td>BMW-M5</td><td>3141089</td><td>1</td><td>DT01113</td><td>1</td><td>2020</td><td>Mercedes-Benz (including Maybach) Motors</td><td>Delahaye Motors</td><td>BMW</td><td>1/18/2020 0:00</td></tr><tr><td>BR1255</td><td>DLR0046</td><td>Mer-M6</td><td>4815214</td><td>2</td><td>DT01114</td><td>1</td><td>2020</td><td>Mercury Motors</td><td>DeLorean Motors</td><td>Mercedes-Benz</td><td>1/19/2020 0:00</td></tr><tr><td>BR1270</td><td>DLR0214</td><td>Toy-M134</td><td>22982112</td><td>3</td><td>DT01103</td><td>1</td><td>2020</td><td>Merkur Motors</td><td>Horch Motors</td><td>Toyota</td><td>1/8/2020 0:00</td></tr><tr><td>BR1275</td><td>DLR0048</td><td>Mer-M8</td><td>1681622</td><td>1</td><td>DT01116</td><td>1</td><td>2020</td><td>Messerschmitt Motors</td><td>De Tomaso Motors</td><td>Mercedes-Benz</td><td>1/21/2020 0:00</td></tr><tr><td>BR1290</td><td>DLR0216</td><td>Vol-M136</td><td>19641387</td><td>3</td><td>DT01105</td><td>1</td><td>2020</td><td>Mia Motors</td><td>Maybach  Motors</td><td>Volkswagen</td><td>1/10/2020 0:00</td></tr><tr><td>BR1295</td><td>DLR0050</td><td>Jee-M10</td><td>14558850</td><td>2</td><td>DT01118</td><td>1</td><td>2020</td><td>Micro Motors</td><td>Donkervoort Motors</td><td>Jeep</td><td>1/23/2020 0:00</td></tr><tr><td>BR1300</td><td>DLR0217</td><td>Mar-M137</td><td>8749140</td><td>3</td><td>DT01106</td><td>1</td><td>2020</td><td>Micro Motors</td><td>Izh  Motors</td><td>Maruti Suzuki</td><td>1/11/2020 0:00</td></tr><tr><td>BR1305</td><td>DLR0051</td><td>Jee-M11</td><td>4375707</td><td>3</td><td>DT01119</td><td>1</td><td>2020</td><td>Mini Motors</td><td>Edsel Motors</td><td>Jeep</td><td>1/24/2020 0:00</td></tr><tr><td>BR1310</td><td>DLR0218</td><td>Mar-M138</td><td>1791030</td><td>1</td><td>DT01107</td><td>1</td><td>2020</td><td>Mini Motors</td><td>Lagonda  Motors</td><td>Maruti Suzuki</td><td>1/12/2020 0:00</td></tr><tr><td>BR1315</td><td>DLR0052</td><td>Jee-M12</td><td>6981696</td><td>3</td><td>DT01120</td><td>1</td><td>2020</td><td>Mitsubishi Motors</td><td>e.GO Mobile Motors</td><td>Jeep</td><td>1/25/2020 0:00</td></tr><tr><td>BR1320</td><td>DLR0219</td><td>Mar-M139</td><td>15720604</td><td>2</td><td>DT01108</td><td>1</td><td>2020</td><td>Mitsubishi Motors</td><td>MG  Motors</td><td>Maruti Suzuki</td><td>1/13/2020 0:00</td></tr><tr><td>BR1325</td><td>DLR0053</td><td>Jee-M13</td><td>11820578</td><td>2</td><td>DT01121</td><td>1</td><td>2020</td><td>Monica Motors</td><td>Eicher Polaris Motors</td><td>Jeep</td><td>1/26/2020 0:00</td></tr><tr><td>BR1330</td><td>DLR0220</td><td>Mar-M140</td><td>4505054</td><td>2</td><td>DT01109</td><td>1</td><td>2020</td><td>Monica Motors</td><td>Morris  Motors</td><td>Maruti Suzuki</td><td>1/14/2020 0:00</td></tr><tr><td>BR1340</td><td>DLR0221</td><td>Mar-M141</td><td>7636791</td><td>1</td><td>DT01110</td><td>1</td><td>2020</td><td>Monteverdi Motors</td><td>Austin  Motors</td><td>Maruti Suzuki</td><td>1/15/2020 0:00</td></tr><tr><td>BR1360</td><td>DLR0223</td><td>Mar-M143</td><td>10719476</td><td>2</td><td>DT01112</td><td>1</td><td>2020</td><td>Moskwitch Motors</td><td>Wolseley  Motors</td><td>Maruti Suzuki</td><td>1/17/2020 0:00</td></tr><tr><td>BR1365</td><td>DLR0057</td><td>For-M17</td><td>1729269</td><td>1</td><td>DT01125</td><td>1</td><td>2020</td><td>Nash Motors</td><td>Fiat Motors</td><td>Ford</td><td>1/30/2020 0:00</td></tr><tr><td>BR1370</td><td>DLR0224</td><td>Mar-M144</td><td>22596384</td><td>3</td><td>DT01113</td><td>1</td><td>2020</td><td>Nash Motors</td><td>Standard  Motors</td><td>Maruti Suzuki</td><td>1/18/2020 0:00</td></tr><tr><td>BR1380</td><td>DLR0225</td><td>Mar-M145</td><td>5143059</td><td>3</td><td>DT01114</td><td>1</td><td>2020</td><td>Naza Motors</td><td>Talbot  Motors</td><td>Maruti Suzuki</td><td>1/19/2020 0:00</td></tr><tr><td>BR1390</td><td>DLR0226</td><td>Mar-M146</td><td>18375622</td><td>2</td><td>DT01115</td><td>1</td><td>2020</td><td>Nissan Motors</td><td>Das Motors</td><td>Maruti Suzuki</td><td>1/20/2020 0:00</td></tr><tr><td>BR1395</td><td>DLR0060</td><td>For-M20</td><td>3826662</td><td>2</td><td>DT01128</td><td>2</td><td>2020</td><td>Nissan India Motors</td><td>Fisker, Karma Motors</td><td>Ford</td><td>2/2/2020 0:00</td></tr><tr><td>BR1405</td><td>DLR0061</td><td>For-M21</td><td>8119439</td><td>1</td><td>DT01129</td><td>2</td><td>2020</td><td>Noble Motors</td><td>Ford America Motors</td><td>Ford</td><td>2/3/2020 0:00</td></tr><tr><td>BR1410</td><td>DLR0228</td><td>Mar-M148</td><td>22715907</td><td>3</td><td>DT01117</td><td>1</td><td>2020</td><td>Noble Motors</td><td>Deccan Motors</td><td>Maruti Suzuki</td><td>1/22/2020 0:00</td></tr><tr><td>BR1420</td><td>DLR0229</td><td>Mar-M149</td><td>3362029</td><td>1</td><td>DT01118</td><td>1</td><td>2020</td><td>NSU Motors</td><td>Herald Motors</td><td>Maruti Suzuki</td><td>1/23/2020 0:00</td></tr><tr><td>BR1425</td><td>DLR0063</td><td>For-M23</td><td>19571838</td><td>3</td><td>DT01131</td><td>2</td><td>2020</td><td>Oldsmobile Motors</td><td>Ford do Brasil Motors</td><td>Ford</td><td>2/5/2020 0:00</td></tr><tr><td>BR1435</td><td>DLR0064</td><td>For-M24</td><td>8184657</td><td>1</td><td>DT01132</td><td>2</td><td>2020</td><td>Oltcit Motors</td><td>Ford Europe Motors</td><td>Ford</td><td>2/6/2020 0:00</td></tr><tr><td>BR1440</td><td>DLR0231</td><td>Mar-M151</td><td>12650379</td><td>3</td><td>DT01120</td><td>1</td><td>2020</td><td>Oltcit Motors</td><td>Atlantic Motor Company</td><td>Maruti Suzuki</td><td>1/25/2020 0:00</td></tr><tr><td>BR1445</td><td>DLR0065</td><td>For-M25</td><td>17788070</td><td>2</td><td>DT01133</td><td>2</td><td>2020</td><td>Opel Motors</td><td>Ford India Motors</td><td>Ford</td><td>2/7/2020 0:00</td></tr><tr><td>BR1450</td><td>DLR0232</td><td>Mar-M152</td><td>19474533</td><td>3</td><td>DT01121</td><td>1</td><td>2020</td><td>Opel Motors</td><td>2008 NRHP-listed</td><td>Maruti Suzuki</td><td>1/26/2020 0:00</td></tr><tr><td>BR1455</td><td>DLR0066</td><td>For-M26</td><td>5109932</td><td>2</td><td>DT01134</td><td>2</td><td>2020</td><td>Packard Motors</td><td>Freightliner Motors</td><td>Ford</td><td>2/8/2020 0:00</td></tr><tr><td>BR1460</td><td>DLR0233</td><td>Hyu-M153</td><td>5377184</td><td>2</td><td>DT01122</td><td>1</td><td>2020</td><td>Packard Motors</td><td>Blankinship Motor Company Building</td><td>Hyundai</td><td>1/27/2020 0:00</td></tr><tr><td>BR1465</td><td>DLR0067</td><td>Lin-M27</td><td>756130</td><td>2</td><td>DT01135</td><td>2</td><td>2020</td><td>Pagani Motors</td><td>FSO Motors</td><td>Lincoln</td><td>2/9/2020 0:00</td></tr><tr><td>BR1475</td><td>DLR0068</td><td>Lin-M28</td><td>14722240</td><td>2</td><td>DT01136</td><td>2</td><td>2020</td><td>Panhard Motors</td><td>GAZ Motors</td><td>Lincoln</td><td>2/10/2020 0:00</td></tr><tr><td>BR1480</td><td>DLR0235</td><td>Hyu-M155</td><td>16603584</td><td>2</td><td>DT01124</td><td>1</td><td>2020</td><td>Panhard Motors</td><td>Buick Automobile Company Building</td><td>Hyundai</td><td>1/29/2020 0:00</td></tr><tr><td>BR1485</td><td>DLR0069</td><td>Lin-M29</td><td>6430716</td><td>1</td><td>DT01137</td><td>2</td><td>2020</td><td>Panoz Motors</td><td>Geo Motors</td><td>Lincoln</td><td>2/11/2020 0:00</td></tr><tr><td>BR1495</td><td>DLR0070</td><td>Lin-M30</td><td>3396415</td><td>1</td><td>DT01138</td><td>2</td><td>2020</td><td>Panther Motors</td><td>Gilbern Motors</td><td>Lincoln</td><td>2/12/2020 0:00</td></tr><tr><td>BR1510</td><td>DLR0238</td><td>Hyu-M158</td><td>21888990</td><td>3</td><td>DT01127</td><td>2</td><td>2020</td><td>Peel Motors</td><td>Cass Motor Sales</td><td>Hyundai</td><td>2/1/2020 0:00</td></tr><tr><td>BR1515</td><td>DLR0072</td><td>Cad-M32</td><td>14614923</td><td>3</td><td>DT01140</td><td>2</td><td>2020</td><td>Perodua Motors</td><td>Glas Motors</td><td>Cadillac</td><td>2/14/2020 0:00</td></tr><tr><td>BR1520</td><td>DLR0239</td><td>Hyu-M159</td><td>28839432</td><td>3</td><td>DT01128</td><td>2</td><td>2020</td><td>Perodua Motors</td><td>Claremore Auto Dealership</td><td>Hyundai</td><td>2/2/2020 0:00</td></tr><tr><td>BR1525</td><td>DLR0073</td><td>Cad-M33</td><td>5345219</td><td>1</td><td>DT01141</td><td>2</td><td>2020</td><td>Peugeot Motors</td><td>GMC Motors</td><td>Cadillac</td><td>2/15/2020 0:00</td></tr><tr><td>BR1530</td><td>DLR0240</td><td>Hyu-M160</td><td>4257825</td><td>3</td><td>DT01129</td><td>2</td><td>2020</td><td>Peugeot Motors</td><td>Clemens Automobile Company Building</td><td>Hyundai</td><td>2/3/2020 0:00</td></tr><tr><td>BR1540</td><td>DLR0241</td><td>Hyu-M161</td><td>19956204</td><td>3</td><td>DT01130</td><td>2</td><td>2020</td><td>PGO Motors</td><td>Colman Automotive Building</td><td>Hyundai</td><td>2/4/2020 0:00</td></tr><tr><td>BR1545</td><td>DLR0075</td><td>Cad-M35</td><td>11312878</td><td>2</td><td>DT01143</td><td>2</td><td>2020</td><td>Piaggio Motors</td><td>Gumpert Motors</td><td>Cadillac</td><td>2/17/2020 0:00</td></tr><tr><td>BR1555</td><td>DLR0076</td><td>Cad-M36</td><td>20868240</td><td>3</td><td>DT01144</td><td>2</td><td>2020</td><td>Plymouth Motors</td><td>Healey Motors</td><td>Cadillac</td><td>2/18/2020 0:00</td></tr><tr><td>BR1560</td><td>DLR0243</td><td>Hyu-M163</td><td>9443751</td><td>3</td><td>DT01132</td><td>2</td><td>2020</td><td>Plymouth Motors</td><td>Howard Motor Company Building</td><td>Hyundai</td><td>2/6/2020 0:00</td></tr><tr><td>BR1565</td><td>DLR0077</td><td>Cad-M37</td><td>14383581</td><td>3</td><td>DT01145</td><td>2</td><td>2020</td><td>Polestar Motors</td><td>Heinkel Motors</td><td>Cadillac</td><td>2/19/2020 0:00</td></tr><tr><td>BR1570</td><td>DLR0244</td><td>Hyu-M164</td><td>12224948</td><td>2</td><td>DT01133</td><td>2</td><td>2020</td><td>Polestar Motors</td><td>Hupmobile Building</td><td>Hyundai</td><td>2/7/2020 0:00</td></tr><tr><td>BR1575</td><td>DLR0078</td><td>Cad-M38</td><td>8234393</td><td>1</td><td>DT01146</td><td>2</td><td>2020</td><td>Pontiac, Asüna Motors</td><td>Hennessey Motors</td><td>Cadillac</td><td>2/20/2020 0:00</td></tr><tr><td>BR1585</td><td>DLR0079</td><td>Cad-M39</td><td>2785750</td><td>1</td><td>DT01147</td><td>2</td><td>2020</td><td>Porsche Motors</td><td>Hillman Motors</td><td>Cadillac</td><td>2/21/2020 0:00</td></tr><tr><td>BR1590</td><td>DLR0246</td><td>Mah-M166</td><td>4431368</td><td>1</td><td>DT01135</td><td>2</td><td>2020</td><td>Porsche Motors</td><td>Jones Motor Company</td><td>Mahindra</td><td>2/9/2020 0:00</td></tr><tr><td>BR1595</td><td>DLR0080</td><td>Che-M40</td><td>7968813</td><td>1</td><td>DT01148</td><td>2</td><td>2020</td><td>Premier Motors</td><td>Hindustan Motors</td><td>Chevrolet</td><td>2/22/2020 0:00</td></tr><tr><td>BR1600</td><td>DLR0247</td><td>Mah-M167</td><td>112246</td><td>1</td><td>DT01136</td><td>2</td><td>2020</td><td>Premier Motors</td><td>Kindel Building</td><td>Mahindra</td><td>2/10/2020 0:00</td></tr></tbody></table></div>"
      ]
     },
     "metadata": {
      "application/vnd.databricks.v1+output": {
       "addedWidgets": {},
       "aggData": [],
       "aggError": "",
       "aggOverflow": false,
       "aggSchema": [],
       "aggSeriesLimitReached": false,
       "aggType": "",
       "arguments": {},
       "columnCustomDisplayInfos": {},
       "data": [
        [
         "BR0006",
         "DLR0168",
         "Ren-M128",
         12971088,
         3,
         "DT01236",
         5,
         2020,
         "AC Cars Motors",
         "Saab Motors",
         "Renault",
         "5/20/2020 0:00"
        ],
        [
         "BR0011",
         "DLR0069",
         "Vol-M256",
         14181510,
         3,
         "DT01225",
         5,
         2020,
         "Acura Motors",
         "Geo Motors",
         "Volkswagen",
         "5/9/2020 0:00"
        ],
        [
         "BR0021",
         "DLR0070",
         "Vol-M257",
         7738896,
         1,
         "DT01226",
         5,
         2020,
         "Aixam-Mega (including Arola) Motors",
         "Gilbern Motors",
         "Volkswagen",
         "5/10/2020 0:00"
        ],
        [
         "BR0031",
         "DLR0071",
         "Vol-M258",
         10067596,
         2,
         "DT01227",
         5,
         2020,
         "Alfa Romeo Motors",
         "Ginetta Motors",
         "Volkswagen",
         "5/11/2020 0:00"
        ],
        [
         "BR0041",
         "DLR0072",
         "Vol-M259",
         13055810,
         2,
         "DT01228",
         5,
         2020,
         "Alpine Motors",
         "Glas Motors",
         "Volkswagen",
         "5/12/2020 0:00"
        ],
        [
         "BR0051",
         "DLR0073",
         "Vol-M260",
         2224368,
         1,
         "DT01229",
         5,
         2020,
         "Alvis Motors",
         "GMC Motors",
         "Volkswagen",
         "5/13/2020 0:00"
        ],
        [
         "BR0061",
         "DLR0074",
         "Nis-M261",
         11270580,
         3,
         "DT01230",
         5,
         2020,
         "AMC, Eagle Motors",
         "GTA Spano Motors",
         "Nissan",
         "5/14/2020 0:00"
        ],
        [
         "BR0066",
         "DLR0169",
         "Ren-M129",
         693559,
         1,
         "DT01237",
         5,
         2020,
         "Acura Motors",
         "SAIC Motor Motors",
         "Renault",
         "5/21/2020 0:00"
        ],
        [
         "BR0071",
         "DLR0075",
         "Nis-M262",
         18784710,
         3,
         "DT01231",
         5,
         2020,
         "Anadol Motors",
         "Gumpert Motors",
         "Nissan",
         "5/15/2020 0:00"
        ],
        [
         "BR0081",
         "DLR0076",
         "Nis-M263",
         2354637,
         3,
         "DT01232",
         5,
         2020,
         "Ariel Motors",
         "Healey Motors",
         "Nissan",
         "5/16/2020 0:00"
        ],
        [
         "BR0121",
         "DLR0080",
         "Nis-M267",
         5421046,
         2,
         "DT01236",
         5,
         2020,
         "Aston Martin Motors",
         "Hindustan Motors",
         "Nissan",
         "5/20/2020 0:00"
        ],
        [
         "BR0126",
         "DLR0170",
         "Ren-M130",
         8445560,
         2,
         "DT01238",
         5,
         2020,
         "Aixam-Mega (including Arola) Motors",
         "Saleen Motors",
         "Renault",
         "5/22/2020 0:00"
        ],
        [
         "BR0131",
         "DLR0081",
         "Nis-M268",
         28034733,
         3,
         "DT01237",
         5,
         2020,
         "Audi Motors",
         "Holden Motors",
         "Nissan",
         "5/21/2020 0:00"
        ],
        [
         "BR0141",
         "DLR0082",
         "Nis-M269",
         17522592,
         2,
         "DT01238",
         5,
         2020,
         "Autobianchi Motors",
         "Honda Motors",
         "Nissan",
         "5/22/2020 0:00"
        ],
        [
         "BR0151",
         "DLR0083",
         "Nis-M270",
         25901364,
         3,
         "DT01239",
         5,
         2020,
         "Auto-Union Motors",
         "Honda India Motors",
         "Nissan",
         "5/23/2020 0:00"
        ],
        [
         "BR0181",
         "DLR0086",
         "Sko-M273",
         7915343,
         1,
         "DT01242",
         5,
         2020,
         "Bitter Motors",
         "Hummer Motors",
         "Skoda",
         "5/26/2020 0:00"
        ],
        [
         "BR0186",
         "DLR0171",
         "Ren-M131",
         7078128,
         1,
         "DT01239",
         5,
         2020,
         "Alfa Romeo Motors",
         "Samsung Motors",
         "Renault",
         "5/23/2020 0:00"
        ],
        [
         "BR0191",
         "DLR0087",
         "Sko-M274",
         24183663,
         3,
         "DT01243",
         5,
         2020,
         "BMW Motors",
         "Hyundai Motors",
         "Skoda",
         "5/27/2020 0:00"
        ],
        [
         "BR0201",
         "DLR0088",
         "Mit-M275",
         847952,
         2,
         "DT01244",
         5,
         2020,
         "Bond Motors",
         "IFA (including Trabant, Wartburg, Barkas) Motors",
         "Mitsubishi",
         "5/28/2020 0:00"
        ],
        [
         "BR0211",
         "DLR0089",
         "Mit-M276",
         2887860,
         1,
         "DT01245",
         5,
         2020,
         "Borgward (including Goliath and Lloyd) Motors",
         "Infiniti Motors",
         "Mitsubishi",
         "5/29/2020 0:00"
        ],
        [
         "BR0221",
         "DLR0090",
         "Mit-M277",
         24243636,
         3,
         "DT01246",
         5,
         2020,
         "Bristol Motors",
         null,
         "Mitsubishi",
         "5/30/2020 0:00"
        ],
        [
         "BR0306",
         "DLR0173",
         "Toy-M133",
         12612492,
         3,
         "DT01241",
         5,
         2020,
         "Alvis Motors",
         "Santa Matilde Motors",
         "Toyota",
         "5/25/2020 0:00"
        ],
        [
         "BR0426",
         "DLR0175",
         "Vol-M135",
         7718804,
         1,
         "DT01243",
         5,
         2020,
         "Anadol Motors",
         "Saturn Motors",
         "Volkswagen",
         "5/27/2020 0:00"
        ],
        [
         "BR0486",
         "DLR0176",
         "Vol-M136",
         9950264,
         1,
         "DT01244",
         5,
         2020,
         "Ariel Motors",
         "Scion Motors",
         "Volkswagen",
         "5/28/2020 0:00"
        ],
        [
         "BR0546",
         "DLR0177",
         "Mar-M137",
         11543998,
         2,
         "DT01245",
         5,
         2020,
         "ARO Motors",
         "Seat Motors",
         "Maruti Suzuki",
         "5/29/2020 0:00"
        ],
        [
         "BR0606",
         "DLR0178",
         "Mar-M138",
         14029425,
         3,
         "DT01246",
         5,
         2020,
         "Artega Motors",
         "Shelby SuperCars Motors",
         "Maruti Suzuki",
         "5/30/2020 0:00"
        ],
        [
         "BR0666",
         "DLR0179",
         "Mar-M139",
         16170344,
         2,
         "DT01247",
         5,
         2020,
         "Asia Motors Motors",
         "Simca Motors",
         "Maruti Suzuki",
         "5/31/2020 0:00"
        ],
        [
         "BR1075",
         "DLR0028",
         "Nis-M265",
         946626,
         1,
         "DT01096",
         1,
         2020,
         "Lexus Motors",
         "Buick Motors",
         "Nissan",
         "1/1/2020 0:00"
        ],
        [
         "BR1105",
         "DLR0031",
         "Nis-M268",
         2349414,
         3,
         "DT01099",
         1,
         2020,
         "Lotus Motors",
         "Caterham Motors",
         "Nissan",
         "1/4/2020 0:00"
        ],
        [
         "BR1125",
         "DLR0033",
         "Nis-M270",
         5501066,
         2,
         "DT01101",
         1,
         2020,
         "LuAZ Motors",
         "Chevrolet Motors",
         "Nissan",
         "1/6/2020 0:00"
        ],
        [
         "BR1135",
         "DLR0034",
         "Sko-M271",
         15299630,
         2,
         "DT01102",
         1,
         2020,
         "Lynx Motors",
         "Chevrolet India Motors",
         "Skoda",
         "1/7/2020 0:00"
        ],
        [
         "BR1145",
         "DLR0035",
         "Sko-M272",
         573260,
         1,
         "DT01103",
         1,
         2020,
         "Mahindra Motors",
         "Chrysler Motors",
         "Skoda",
         "1/8/2020 0:00"
        ],
        [
         "BR1155",
         "DLR0036",
         "Sko-M273",
         6991308,
         2,
         "DT01104",
         1,
         2020,
         "Marcos Motors",
         "Chrysler Europe Motors",
         "Skoda",
         "1/9/2020 0:00"
        ],
        [
         "BR1165",
         "DLR0037",
         "Sko-M274",
         4594208,
         1,
         "DT01105",
         1,
         2020,
         "Marlin Motors",
         "Citroën Motors",
         "Skoda",
         "1/10/2020 0:00"
        ],
        [
         "BR1175",
         "DLR0038",
         "Mit-M275",
         6379479,
         3,
         "DT01106",
         1,
         2020,
         "Maruti Motors",
         "Cizeta-Moroder Motors",
         "Mitsubishi",
         "1/11/2020 0:00"
        ],
        [
         "BR1195",
         "DLR0040",
         "Mit-M277",
         12731434,
         2,
         "DT01108",
         1,
         2020,
         "Mastretta Motors",
         "Daewoo, Saehan, Chevrolet Korea Motors",
         "Mitsubishi",
         "1/13/2020 0:00"
        ],
        [
         "BR1200",
         "DLR0207",
         "Ren-M127",
         5217794,
         1,
         "DT01096",
         1,
         2020,
         "Mastretta Motors",
         "Westfield Motors",
         "Renault",
         "1/1/2020 0:00"
        ],
        [
         "BR1205",
         "DLR0041",
         "BMW-M1",
         20119176,
         3,
         "DT01109",
         1,
         2020,
         "Matra (including Deutsch-Bonnet, René Bonnet) Motors",
         "DAF Motors",
         "BMW",
         "1/14/2020 0:00"
        ],
        [
         "BR1210",
         "DLR0208",
         "Ren-M128",
         9250976,
         2,
         "DT01097",
         1,
         2020,
         "Matra (including Deutsch-Bonnet, René Bonnet) Motors",
         "Wiesmann Motors",
         "Renault",
         "1/2/2020 0:00"
        ],
        [
         "BR1215",
         "DLR0042",
         "BMW-M2",
         12564672,
         3,
         "DT01110",
         1,
         2020,
         "Mazda Motors",
         "Daihatsu Motors",
         "BMW",
         "1/15/2020 0:00"
        ],
        [
         "BR1220",
         "DLR0209",
         "Ren-M129",
         3678913,
         1,
         "DT01098",
         1,
         2020,
         "Mazda Motors",
         "Zastava Motors",
         "Renault",
         "1/3/2020 0:00"
        ],
        [
         "BR1230",
         "DLR0210",
         "Ren-M130",
         16850778,
         2,
         "DT01099",
         1,
         2020,
         "Mazzanti Motors",
         "ZAZ Motors",
         "Renault",
         "1/4/2020 0:00"
        ],
        [
         "BR1235",
         "DLR0044",
         "BMW-M4",
         7034814,
         2,
         "DT01112",
         1,
         2020,
         "McLaren Motors",
         null,
         "BMW",
         "1/17/2020 0:00"
        ],
        [
         "BR1240",
         "DLR0211",
         "Ren-M131",
         2717264,
         1,
         "DT01100",
         1,
         2020,
         "McLaren Motors",
         "ZIL Motors",
         "Renault",
         "1/5/2020 0:00"
        ],
        [
         "BR1245",
         "DLR0045",
         "BMW-M5",
         3141089,
         1,
         "DT01113",
         1,
         2020,
         "Mercedes-Benz (including Maybach) Motors",
         "Delahaye Motors",
         "BMW",
         "1/18/2020 0:00"
        ],
        [
         "BR1255",
         "DLR0046",
         "Mer-M6",
         4815214,
         2,
         "DT01114",
         1,
         2020,
         "Mercury Motors",
         "DeLorean Motors",
         "Mercedes-Benz",
         "1/19/2020 0:00"
        ],
        [
         "BR1270",
         "DLR0214",
         "Toy-M134",
         22982112,
         3,
         "DT01103",
         1,
         2020,
         "Merkur Motors",
         "Horch Motors",
         "Toyota",
         "1/8/2020 0:00"
        ],
        [
         "BR1275",
         "DLR0048",
         "Mer-M8",
         1681622,
         1,
         "DT01116",
         1,
         2020,
         "Messerschmitt Motors",
         "De Tomaso Motors",
         "Mercedes-Benz",
         "1/21/2020 0:00"
        ],
        [
         "BR1290",
         "DLR0216",
         "Vol-M136",
         19641387,
         3,
         "DT01105",
         1,
         2020,
         "Mia Motors",
         "Maybach  Motors",
         "Volkswagen",
         "1/10/2020 0:00"
        ],
        [
         "BR1295",
         "DLR0050",
         "Jee-M10",
         14558850,
         2,
         "DT01118",
         1,
         2020,
         "Micro Motors",
         "Donkervoort Motors",
         "Jeep",
         "1/23/2020 0:00"
        ],
        [
         "BR1300",
         "DLR0217",
         "Mar-M137",
         8749140,
         3,
         "DT01106",
         1,
         2020,
         "Micro Motors",
         "Izh  Motors",
         "Maruti Suzuki",
         "1/11/2020 0:00"
        ],
        [
         "BR1305",
         "DLR0051",
         "Jee-M11",
         4375707,
         3,
         "DT01119",
         1,
         2020,
         "Mini Motors",
         "Edsel Motors",
         "Jeep",
         "1/24/2020 0:00"
        ],
        [
         "BR1310",
         "DLR0218",
         "Mar-M138",
         1791030,
         1,
         "DT01107",
         1,
         2020,
         "Mini Motors",
         "Lagonda  Motors",
         "Maruti Suzuki",
         "1/12/2020 0:00"
        ],
        [
         "BR1315",
         "DLR0052",
         "Jee-M12",
         6981696,
         3,
         "DT01120",
         1,
         2020,
         "Mitsubishi Motors",
         "e.GO Mobile Motors",
         "Jeep",
         "1/25/2020 0:00"
        ],
        [
         "BR1320",
         "DLR0219",
         "Mar-M139",
         15720604,
         2,
         "DT01108",
         1,
         2020,
         "Mitsubishi Motors",
         "MG  Motors",
         "Maruti Suzuki",
         "1/13/2020 0:00"
        ],
        [
         "BR1325",
         "DLR0053",
         "Jee-M13",
         11820578,
         2,
         "DT01121",
         1,
         2020,
         "Monica Motors",
         "Eicher Polaris Motors",
         "Jeep",
         "1/26/2020 0:00"
        ],
        [
         "BR1330",
         "DLR0220",
         "Mar-M140",
         4505054,
         2,
         "DT01109",
         1,
         2020,
         "Monica Motors",
         "Morris  Motors",
         "Maruti Suzuki",
         "1/14/2020 0:00"
        ],
        [
         "BR1340",
         "DLR0221",
         "Mar-M141",
         7636791,
         1,
         "DT01110",
         1,
         2020,
         "Monteverdi Motors",
         "Austin  Motors",
         "Maruti Suzuki",
         "1/15/2020 0:00"
        ],
        [
         "BR1360",
         "DLR0223",
         "Mar-M143",
         10719476,
         2,
         "DT01112",
         1,
         2020,
         "Moskwitch Motors",
         "Wolseley  Motors",
         "Maruti Suzuki",
         "1/17/2020 0:00"
        ],
        [
         "BR1365",
         "DLR0057",
         "For-M17",
         1729269,
         1,
         "DT01125",
         1,
         2020,
         "Nash Motors",
         "Fiat Motors",
         "Ford",
         "1/30/2020 0:00"
        ],
        [
         "BR1370",
         "DLR0224",
         "Mar-M144",
         22596384,
         3,
         "DT01113",
         1,
         2020,
         "Nash Motors",
         "Standard  Motors",
         "Maruti Suzuki",
         "1/18/2020 0:00"
        ],
        [
         "BR1380",
         "DLR0225",
         "Mar-M145",
         5143059,
         3,
         "DT01114",
         1,
         2020,
         "Naza Motors",
         "Talbot  Motors",
         "Maruti Suzuki",
         "1/19/2020 0:00"
        ],
        [
         "BR1390",
         "DLR0226",
         "Mar-M146",
         18375622,
         2,
         "DT01115",
         1,
         2020,
         "Nissan Motors",
         "Das Motors",
         "Maruti Suzuki",
         "1/20/2020 0:00"
        ],
        [
         "BR1395",
         "DLR0060",
         "For-M20",
         3826662,
         2,
         "DT01128",
         2,
         2020,
         "Nissan India Motors",
         "Fisker, Karma Motors",
         "Ford",
         "2/2/2020 0:00"
        ],
        [
         "BR1405",
         "DLR0061",
         "For-M21",
         8119439,
         1,
         "DT01129",
         2,
         2020,
         "Noble Motors",
         "Ford America Motors",
         "Ford",
         "2/3/2020 0:00"
        ],
        [
         "BR1410",
         "DLR0228",
         "Mar-M148",
         22715907,
         3,
         "DT01117",
         1,
         2020,
         "Noble Motors",
         "Deccan Motors",
         "Maruti Suzuki",
         "1/22/2020 0:00"
        ],
        [
         "BR1420",
         "DLR0229",
         "Mar-M149",
         3362029,
         1,
         "DT01118",
         1,
         2020,
         "NSU Motors",
         "Herald Motors",
         "Maruti Suzuki",
         "1/23/2020 0:00"
        ],
        [
         "BR1425",
         "DLR0063",
         "For-M23",
         19571838,
         3,
         "DT01131",
         2,
         2020,
         "Oldsmobile Motors",
         "Ford do Brasil Motors",
         "Ford",
         "2/5/2020 0:00"
        ],
        [
         "BR1435",
         "DLR0064",
         "For-M24",
         8184657,
         1,
         "DT01132",
         2,
         2020,
         "Oltcit Motors",
         "Ford Europe Motors",
         "Ford",
         "2/6/2020 0:00"
        ],
        [
         "BR1440",
         "DLR0231",
         "Mar-M151",
         12650379,
         3,
         "DT01120",
         1,
         2020,
         "Oltcit Motors",
         "Atlantic Motor Company",
         "Maruti Suzuki",
         "1/25/2020 0:00"
        ],
        [
         "BR1445",
         "DLR0065",
         "For-M25",
         17788070,
         2,
         "DT01133",
         2,
         2020,
         "Opel Motors",
         "Ford India Motors",
         "Ford",
         "2/7/2020 0:00"
        ],
        [
         "BR1450",
         "DLR0232",
         "Mar-M152",
         19474533,
         3,
         "DT01121",
         1,
         2020,
         "Opel Motors",
         "2008 NRHP-listed",
         "Maruti Suzuki",
         "1/26/2020 0:00"
        ],
        [
         "BR1455",
         "DLR0066",
         "For-M26",
         5109932,
         2,
         "DT01134",
         2,
         2020,
         "Packard Motors",
         "Freightliner Motors",
         "Ford",
         "2/8/2020 0:00"
        ],
        [
         "BR1460",
         "DLR0233",
         "Hyu-M153",
         5377184,
         2,
         "DT01122",
         1,
         2020,
         "Packard Motors",
         "Blankinship Motor Company Building",
         "Hyundai",
         "1/27/2020 0:00"
        ],
        [
         "BR1465",
         "DLR0067",
         "Lin-M27",
         756130,
         2,
         "DT01135",
         2,
         2020,
         "Pagani Motors",
         "FSO Motors",
         "Lincoln",
         "2/9/2020 0:00"
        ],
        [
         "BR1475",
         "DLR0068",
         "Lin-M28",
         14722240,
         2,
         "DT01136",
         2,
         2020,
         "Panhard Motors",
         "GAZ Motors",
         "Lincoln",
         "2/10/2020 0:00"
        ],
        [
         "BR1480",
         "DLR0235",
         "Hyu-M155",
         16603584,
         2,
         "DT01124",
         1,
         2020,
         "Panhard Motors",
         "Buick Automobile Company Building",
         "Hyundai",
         "1/29/2020 0:00"
        ],
        [
         "BR1485",
         "DLR0069",
         "Lin-M29",
         6430716,
         1,
         "DT01137",
         2,
         2020,
         "Panoz Motors",
         "Geo Motors",
         "Lincoln",
         "2/11/2020 0:00"
        ],
        [
         "BR1495",
         "DLR0070",
         "Lin-M30",
         3396415,
         1,
         "DT01138",
         2,
         2020,
         "Panther Motors",
         "Gilbern Motors",
         "Lincoln",
         "2/12/2020 0:00"
        ],
        [
         "BR1510",
         "DLR0238",
         "Hyu-M158",
         21888990,
         3,
         "DT01127",
         2,
         2020,
         "Peel Motors",
         "Cass Motor Sales",
         "Hyundai",
         "2/1/2020 0:00"
        ],
        [
         "BR1515",
         "DLR0072",
         "Cad-M32",
         14614923,
         3,
         "DT01140",
         2,
         2020,
         "Perodua Motors",
         "Glas Motors",
         "Cadillac",
         "2/14/2020 0:00"
        ],
        [
         "BR1520",
         "DLR0239",
         "Hyu-M159",
         28839432,
         3,
         "DT01128",
         2,
         2020,
         "Perodua Motors",
         "Claremore Auto Dealership",
         "Hyundai",
         "2/2/2020 0:00"
        ],
        [
         "BR1525",
         "DLR0073",
         "Cad-M33",
         5345219,
         1,
         "DT01141",
         2,
         2020,
         "Peugeot Motors",
         "GMC Motors",
         "Cadillac",
         "2/15/2020 0:00"
        ],
        [
         "BR1530",
         "DLR0240",
         "Hyu-M160",
         4257825,
         3,
         "DT01129",
         2,
         2020,
         "Peugeot Motors",
         "Clemens Automobile Company Building",
         "Hyundai",
         "2/3/2020 0:00"
        ],
        [
         "BR1540",
         "DLR0241",
         "Hyu-M161",
         19956204,
         3,
         "DT01130",
         2,
         2020,
         "PGO Motors",
         "Colman Automotive Building",
         "Hyundai",
         "2/4/2020 0:00"
        ],
        [
         "BR1545",
         "DLR0075",
         "Cad-M35",
         11312878,
         2,
         "DT01143",
         2,
         2020,
         "Piaggio Motors",
         "Gumpert Motors",
         "Cadillac",
         "2/17/2020 0:00"
        ],
        [
         "BR1555",
         "DLR0076",
         "Cad-M36",
         20868240,
         3,
         "DT01144",
         2,
         2020,
         "Plymouth Motors",
         "Healey Motors",
         "Cadillac",
         "2/18/2020 0:00"
        ],
        [
         "BR1560",
         "DLR0243",
         "Hyu-M163",
         9443751,
         3,
         "DT01132",
         2,
         2020,
         "Plymouth Motors",
         "Howard Motor Company Building",
         "Hyundai",
         "2/6/2020 0:00"
        ],
        [
         "BR1565",
         "DLR0077",
         "Cad-M37",
         14383581,
         3,
         "DT01145",
         2,
         2020,
         "Polestar Motors",
         "Heinkel Motors",
         "Cadillac",
         "2/19/2020 0:00"
        ],
        [
         "BR1570",
         "DLR0244",
         "Hyu-M164",
         12224948,
         2,
         "DT01133",
         2,
         2020,
         "Polestar Motors",
         "Hupmobile Building",
         "Hyundai",
         "2/7/2020 0:00"
        ],
        [
         "BR1575",
         "DLR0078",
         "Cad-M38",
         8234393,
         1,
         "DT01146",
         2,
         2020,
         "Pontiac, Asüna Motors",
         "Hennessey Motors",
         "Cadillac",
         "2/20/2020 0:00"
        ],
        [
         "BR1585",
         "DLR0079",
         "Cad-M39",
         2785750,
         1,
         "DT01147",
         2,
         2020,
         "Porsche Motors",
         "Hillman Motors",
         "Cadillac",
         "2/21/2020 0:00"
        ],
        [
         "BR1590",
         "DLR0246",
         "Mah-M166",
         4431368,
         1,
         "DT01135",
         2,
         2020,
         "Porsche Motors",
         "Jones Motor Company",
         "Mahindra",
         "2/9/2020 0:00"
        ],
        [
         "BR1595",
         "DLR0080",
         "Che-M40",
         7968813,
         1,
         "DT01148",
         2,
         2020,
         "Premier Motors",
         "Hindustan Motors",
         "Chevrolet",
         "2/22/2020 0:00"
        ],
        [
         "BR1600",
         "DLR0247",
         "Mah-M167",
         112246,
         1,
         "DT01136",
         2,
         2020,
         "Premier Motors",
         "Kindel Building",
         "Mahindra",
         "2/10/2020 0:00"
        ]
       ],
       "datasetInfos": [
        {
         "name": "_sqldf",
         "schema": {
          "fields": [
           {
            "metadata": {},
            "name": "Branch_ID",
            "nullable": true,
            "type": "string"
           },
           {
            "metadata": {},
            "name": "Dealer_ID",
            "nullable": true,
            "type": "string"
           },
           {
            "metadata": {},
            "name": "Model_ID",
            "nullable": true,
            "type": "string"
           },
           {
            "metadata": {},
            "name": "Revenue",
            "nullable": true,
            "type": "integer"
           },
           {
            "metadata": {},
            "name": "Units_Sold",
            "nullable": true,
            "type": "integer"
           },
           {
            "metadata": {},
            "name": "Date_ID",
            "nullable": true,
            "type": "string"
           },
           {
            "metadata": {},
            "name": "Month",
            "nullable": true,
            "type": "integer"
           },
           {
            "metadata": {},
            "name": "Year",
            "nullable": true,
            "type": "integer"
           },
           {
            "metadata": {},
            "name": "BranchName",
            "nullable": true,
            "type": "string"
           },
           {
            "metadata": {},
            "name": "DealerName",
            "nullable": true,
            "type": "string"
           },
           {
            "metadata": {},
            "name": "Product_Name",
            "nullable": true,
            "type": "string"
           },
           {
            "metadata": {},
            "name": "Date",
            "nullable": true,
            "type": "string"
           }
          ],
          "type": "struct"
         },
         "tableIdentifier": null,
         "typeStr": "pyspark.sql.connect.dataframe.DataFrame"
        }
       ],
       "dbfsResultPath": null,
       "isJsonSchema": true,
       "metadata": {
        "createTempViewForImplicitDf": true,
        "dataframeName": "_sqldf",
        "executionCount": 75
       },
       "overflow": false,
       "plotOptions": {
        "customPlotOptions": {},
        "displayType": "table",
        "pivotAggregation": null,
        "pivotColumns": null,
        "xColumns": null,
        "yColumns": null
       },
       "removedWidgets": [],
       "schema": [
        {
         "metadata": "{}",
         "name": "Branch_ID",
         "type": "\"string\""
        },
        {
         "metadata": "{}",
         "name": "Dealer_ID",
         "type": "\"string\""
        },
        {
         "metadata": "{}",
         "name": "Model_ID",
         "type": "\"string\""
        },
        {
         "metadata": "{}",
         "name": "Revenue",
         "type": "\"integer\""
        },
        {
         "metadata": "{}",
         "name": "Units_Sold",
         "type": "\"integer\""
        },
        {
         "metadata": "{}",
         "name": "Date_ID",
         "type": "\"string\""
        },
        {
         "metadata": "{}",
         "name": "Month",
         "type": "\"integer\""
        },
        {
         "metadata": "{}",
         "name": "Year",
         "type": "\"integer\""
        },
        {
         "metadata": "{}",
         "name": "BranchName",
         "type": "\"string\""
        },
        {
         "metadata": "{}",
         "name": "DealerName",
         "type": "\"string\""
        },
        {
         "metadata": "{}",
         "name": "Product_Name",
         "type": "\"string\""
        },
        {
         "metadata": "{}",
         "name": "Date",
         "type": "\"string\""
        }
       ],
       "type": "table"
      }
     },
     "output_type": "display_data"
    }
   ],
   "source": [
    "%sql\n",
    "select * from delta.`/Volumes/workspace/my_delta/filestore/sink_data/my_1st_delta` version as of 0;"
   ]
  },
  {
   "cell_type": "markdown",
   "metadata": {
    "application/vnd.databricks.v1+cell": {
     "cellMetadata": {},
     "inputWidgets": {},
     "nuid": "28974660-5866-4b49-8b53-40abb1ff29eb",
     "showTitle": false,
     "tableResultSettingsMap": {},
     "title": ""
    }
   },
   "source": [
    "#### Vaccum"
   ]
  },
  {
   "cell_type": "code",
   "execution_count": 0,
   "metadata": {
    "application/vnd.databricks.v1+cell": {
     "cellMetadata": {
      "byteLimit": 2048000,
      "implicitDf": true,
      "rowLimit": 10000
     },
     "inputWidgets": {},
     "nuid": "e9a166a3-7c6d-414d-b4b6-c4b9ea16238b",
     "showTitle": false,
     "tableResultSettingsMap": {},
     "title": ""
    }
   },
   "outputs": [
    {
     "output_type": "display_data",
     "data": {
      "text/html": [
       "<style scoped>\n",
       "  .table-result-container {\n",
       "    max-height: 300px;\n",
       "    overflow: auto;\n",
       "  }\n",
       "  table, th, td {\n",
       "    border: 1px solid black;\n",
       "    border-collapse: collapse;\n",
       "  }\n",
       "  th, td {\n",
       "    padding: 5px;\n",
       "  }\n",
       "  th {\n",
       "    text-align: left;\n",
       "  }\n",
       "</style><div class='table-result-container'><table class='table-result'><thead style='background-color: white'><tr><th>path</th></tr></thead><tbody></tbody></table></div>"
      ]
     },
     "metadata": {
      "application/vnd.databricks.v1+output": {
       "addedWidgets": {},
       "aggData": [],
       "aggError": "",
       "aggOverflow": false,
       "aggSchema": [],
       "aggSeriesLimitReached": false,
       "aggType": "",
       "arguments": {},
       "columnCustomDisplayInfos": {},
       "data": [],
       "datasetInfos": [
        {
         "name": "_sqldf",
         "schema": {
          "fields": [
           {
            "metadata": {},
            "name": "path",
            "nullable": true,
            "type": "string"
           }
          ],
          "type": "struct"
         },
         "tableIdentifier": null,
         "typeStr": "pyspark.sql.connect.dataframe.DataFrame"
        }
       ],
       "dbfsResultPath": null,
       "isJsonSchema": true,
       "metadata": {
        "createTempViewForImplicitDf": true,
        "dataframeName": "_sqldf",
        "executionCount": 82
       },
       "overflow": false,
       "plotOptions": {
        "customPlotOptions": {},
        "displayType": "table",
        "pivotAggregation": null,
        "pivotColumns": null,
        "xColumns": null,
        "yColumns": null
       },
       "removedWidgets": [],
       "schema": [
        {
         "metadata": "{}",
         "name": "path",
         "type": "\"string\""
        }
       ],
       "type": "table"
      }
     },
     "output_type": "display_data"
    }
   ],
   "source": [
    "%sql\n",
    "vacuum delta.`/Volumes/workspace/my_delta/filestore/sink_data/my_1st_delta` dry run;"
   ]
  },
  {
   "cell_type": "code",
   "execution_count": 0,
   "metadata": {
    "application/vnd.databricks.v1+cell": {
     "cellMetadata": {
      "byteLimit": 2048000,
      "implicitDf": true,
      "rowLimit": 10000
     },
     "inputWidgets": {},
     "nuid": "5e609e77-3679-4f30-bf3c-08b0fd6a22d5",
     "showTitle": false,
     "tableResultSettingsMap": {},
     "title": ""
    }
   },
   "outputs": [
    {
     "output_type": "display_data",
     "data": {
      "text/plain": [
       "\u001B[0;31m---------------------------------------------------------------------------\u001B[0m\n",
       "\u001B[0;31mIllegalArgumentException\u001B[0m                  Traceback (most recent call last)\n",
       "File \u001B[0;32m<command-6168990761602673>, line 1\u001B[0m\n",
       "\u001B[0;32m----> 1\u001B[0m get_ipython()\u001B[38;5;241m.\u001B[39mrun_cell_magic(\u001B[38;5;124m'\u001B[39m\u001B[38;5;124msql\u001B[39m\u001B[38;5;124m'\u001B[39m, \u001B[38;5;124m'\u001B[39m\u001B[38;5;124m'\u001B[39m, \u001B[38;5;124m'\u001B[39m\u001B[38;5;124mvacuum delta.`/Volumes/workspace/my_delta/filestore/sink_data/my_1st_delta` retain 0 hours;\u001B[39m\u001B[38;5;130;01m\\n\u001B[39;00m\u001B[38;5;124m'\u001B[39m)\n",
       "\n",
       "File \u001B[0;32m/databricks/python/lib/python3.11/site-packages/IPython/core/interactiveshell.py:2541\u001B[0m, in \u001B[0;36mInteractiveShell.run_cell_magic\u001B[0;34m(self, magic_name, line, cell)\u001B[0m\n",
       "\u001B[1;32m   2539\u001B[0m \u001B[38;5;28;01mwith\u001B[39;00m \u001B[38;5;28mself\u001B[39m\u001B[38;5;241m.\u001B[39mbuiltin_trap:\n",
       "\u001B[1;32m   2540\u001B[0m     args \u001B[38;5;241m=\u001B[39m (magic_arg_s, cell)\n",
       "\u001B[0;32m-> 2541\u001B[0m     result \u001B[38;5;241m=\u001B[39m fn(\u001B[38;5;241m*\u001B[39margs, \u001B[38;5;241m*\u001B[39m\u001B[38;5;241m*\u001B[39mkwargs)\n",
       "\u001B[1;32m   2543\u001B[0m \u001B[38;5;66;03m# The code below prevents the output from being displayed\u001B[39;00m\n",
       "\u001B[1;32m   2544\u001B[0m \u001B[38;5;66;03m# when using magics with decorator @output_can_be_silenced\u001B[39;00m\n",
       "\u001B[1;32m   2545\u001B[0m \u001B[38;5;66;03m# when the last Python token in the expression is a ';'.\u001B[39;00m\n",
       "\u001B[1;32m   2546\u001B[0m \u001B[38;5;28;01mif\u001B[39;00m \u001B[38;5;28mgetattr\u001B[39m(fn, magic\u001B[38;5;241m.\u001B[39mMAGIC_OUTPUT_CAN_BE_SILENCED, \u001B[38;5;28;01mFalse\u001B[39;00m):\n",
       "\n",
       "File \u001B[0;32m/databricks/python_shell/lib/dbruntime/sql_magic/sql_magic.py:147\u001B[0m, in \u001B[0;36mSqlMagic.sql\u001B[0;34m(self, line, cell)\u001B[0m\n",
       "\u001B[1;32m    143\u001B[0m     \u001B[38;5;28;01mraise\u001B[39;00m \u001B[38;5;167;01mException\u001B[39;00m(\n",
       "\u001B[1;32m    144\u001B[0m         \u001B[38;5;124m\"\u001B[39m\u001B[38;5;124mCannot run \u001B[39m\u001B[38;5;132;01m%s\u001B[39;00m\u001B[38;5;124mql command because spark connect initialization failed and no stacktrace was available.\u001B[39m\u001B[38;5;124m\"\u001B[39m\n",
       "\u001B[1;32m    145\u001B[0m     )\n",
       "\u001B[1;32m    146\u001B[0m \u001B[38;5;28;01mif\u001B[39;00m \u001B[38;5;28mself\u001B[39m\u001B[38;5;241m.\u001B[39muse_py4j:\n",
       "\u001B[0;32m--> 147\u001B[0m     \u001B[38;5;28;01mreturn\u001B[39;00m \u001B[38;5;28mself\u001B[39m\u001B[38;5;241m.\u001B[39mexecute_via_py4j(cell)\n",
       "\u001B[1;32m    149\u001B[0m \u001B[38;5;28;01mreturn\u001B[39;00m \u001B[38;5;28mself\u001B[39m\u001B[38;5;241m.\u001B[39mexecute_via_sql_comm_handler(cell)\n",
       "\n",
       "File \u001B[0;32m/databricks/python_shell/lib/dbruntime/sql_magic/sql_magic.py:231\u001B[0m, in \u001B[0;36mSqlMagic.execute_via_py4j\u001B[0;34m(self, cell)\u001B[0m\n",
       "\u001B[1;32m    228\u001B[0m \u001B[38;5;28;01mexcept\u001B[39;00m \u001B[38;5;167;01mBaseException\u001B[39;00m \u001B[38;5;28;01mas\u001B[39;00m e:\n",
       "\u001B[1;32m    229\u001B[0m     \u001B[38;5;28mself\u001B[39m\u001B[38;5;241m.\u001B[39mdriver_activity_logger\u001B[38;5;241m.\u001B[39mlogExecuteCommandEvent(\u001B[38;5;124m\"\u001B[39m\u001B[38;5;124mSQL_MAGIC_PY4J_FAILED\u001B[39m\u001B[38;5;124m\"\u001B[39m,\n",
       "\u001B[1;32m    230\u001B[0m                                                        json\u001B[38;5;241m.\u001B[39mdumps(get_debug_info(e)))\n",
       "\u001B[0;32m--> 231\u001B[0m     \u001B[38;5;28;01mraise\u001B[39;00m e\n",
       "\u001B[1;32m    232\u001B[0m \u001B[38;5;28mself\u001B[39m\u001B[38;5;241m.\u001B[39mdriver_activity_logger\u001B[38;5;241m.\u001B[39mlogExecuteCommandEvent(\u001B[38;5;124m\"\u001B[39m\u001B[38;5;124mSQL_MAGIC_PY4J_SUCCEEDED\u001B[39m\u001B[38;5;124m\"\u001B[39m)\n",
       "\u001B[1;32m    233\u001B[0m \u001B[38;5;28;01mreturn\u001B[39;00m result\n",
       "\n",
       "File \u001B[0;32m/databricks/python_shell/lib/dbruntime/sql_magic/sql_magic.py:227\u001B[0m, in \u001B[0;36mSqlMagic.execute_via_py4j\u001B[0;34m(self, cell)\u001B[0m\n",
       "\u001B[1;32m    225\u001B[0m         \u001B[38;5;28mprint\u001B[39m(\u001B[38;5;124mf\u001B[39m\u001B[38;5;124m\"\u001B[39m\u001B[38;5;124mExecuting subquery: \u001B[39m\u001B[38;5;132;01m{\u001B[39;00mquery_text\u001B[38;5;132;01m}\u001B[39;00m\u001B[38;5;124m.\u001B[39m\u001B[38;5;124m\"\u001B[39m, file\u001B[38;5;241m=\u001B[39msys\u001B[38;5;241m.\u001B[39m__stdout__)  \u001B[38;5;66;03m# type: ignore\u001B[39;00m\n",
       "\u001B[1;32m    226\u001B[0m         sql_directive \u001B[38;5;241m=\u001B[39m \u001B[38;5;28mself\u001B[39m\u001B[38;5;241m.\u001B[39mentry_point\u001B[38;5;241m.\u001B[39mgetSqlDirective(query_text)\n",
       "\u001B[0;32m--> 227\u001B[0m         result \u001B[38;5;241m=\u001B[39m \u001B[38;5;28mself\u001B[39m\u001B[38;5;241m.\u001B[39mhandle_sql_directive(sql_directive, i \u001B[38;5;241m==\u001B[39m number_of_sub_queries \u001B[38;5;241m-\u001B[39m \u001B[38;5;241m1\u001B[39m)\n",
       "\u001B[1;32m    228\u001B[0m \u001B[38;5;28;01mexcept\u001B[39;00m \u001B[38;5;167;01mBaseException\u001B[39;00m \u001B[38;5;28;01mas\u001B[39;00m e:\n",
       "\u001B[1;32m    229\u001B[0m     \u001B[38;5;28mself\u001B[39m\u001B[38;5;241m.\u001B[39mdriver_activity_logger\u001B[38;5;241m.\u001B[39mlogExecuteCommandEvent(\u001B[38;5;124m\"\u001B[39m\u001B[38;5;124mSQL_MAGIC_PY4J_FAILED\u001B[39m\u001B[38;5;124m\"\u001B[39m,\n",
       "\u001B[1;32m    230\u001B[0m                                                        json\u001B[38;5;241m.\u001B[39mdumps(get_debug_info(e)))\n",
       "\n",
       "File \u001B[0;32m/databricks/python_shell/lib/dbruntime/sql_magic/sql_magic.py:249\u001B[0m, in \u001B[0;36mSqlMagic.handle_sql_directive\u001B[0;34m(self, sql_directive, is_last_query)\u001B[0m\n",
       "\u001B[1;32m    247\u001B[0m     df \u001B[38;5;241m=\u001B[39m \u001B[38;5;28mself\u001B[39m\u001B[38;5;241m.\u001B[39mget_query_request_result(\u001B[38;5;124mf\u001B[39m\u001B[38;5;124m\"\u001B[39m\u001B[38;5;124mSELECT * FROM \u001B[39m\u001B[38;5;132;01m{\u001B[39;00mtable_name\u001B[38;5;132;01m}\u001B[39;00m\u001B[38;5;124m\"\u001B[39m)\n",
       "\u001B[1;32m    248\u001B[0m \u001B[38;5;28;01melif\u001B[39;00m directive_name \u001B[38;5;241m==\u001B[39m \u001B[38;5;124m\"\u001B[39m\u001B[38;5;124mNoDirective\u001B[39m\u001B[38;5;124m\"\u001B[39m:\n",
       "\u001B[0;32m--> 249\u001B[0m     df \u001B[38;5;241m=\u001B[39m \u001B[38;5;28mself\u001B[39m\u001B[38;5;241m.\u001B[39mget_query_request_result(sql_directive\u001B[38;5;241m.\u001B[39msql())\n",
       "\u001B[1;32m    250\u001B[0m     \u001B[38;5;28;01mif\u001B[39;00m df \u001B[38;5;129;01mis\u001B[39;00m \u001B[38;5;28;01mNone\u001B[39;00m \u001B[38;5;129;01mor\u001B[39;00m \u001B[38;5;28mlen\u001B[39m(df\u001B[38;5;241m.\u001B[39mschema) \u001B[38;5;241m==\u001B[39m \u001B[38;5;241m0\u001B[39m:\n",
       "\u001B[1;32m    251\u001B[0m         \u001B[38;5;66;03m# E.g. \"create or replace temp view abc as select 1\" gets us here and we should not return a result in this case.\u001B[39;00m\n",
       "\u001B[1;32m    252\u001B[0m         \u001B[38;5;28;01mreturn\u001B[39;00m \u001B[38;5;28;01mNone\u001B[39;00m\n",
       "\n",
       "File \u001B[0;32m/databricks/python_shell/lib/dbruntime/sql_magic/sql_magic.py:124\u001B[0m, in \u001B[0;36mSqlMagic.get_query_request_result\u001B[0;34m(self, query)\u001B[0m\n",
       "\u001B[1;32m    122\u001B[0m \u001B[38;5;28;01mif\u001B[39;00m \u001B[38;5;28mlen\u001B[39m(widget_bindings \u001B[38;5;241m:=\u001B[39m \u001B[38;5;28mself\u001B[39m\u001B[38;5;241m.\u001B[39mdbutils\u001B[38;5;241m.\u001B[39mwidgets\u001B[38;5;241m.\u001B[39mgetAll()) \u001B[38;5;241m>\u001B[39m \u001B[38;5;241m0\u001B[39m:\n",
       "\u001B[1;32m    123\u001B[0m     \u001B[38;5;28mself\u001B[39m\u001B[38;5;241m.\u001B[39mdriver_activity_logger\u001B[38;5;241m.\u001B[39mlogExecuteCommandEvent(\u001B[38;5;124m\"\u001B[39m\u001B[38;5;124mPARAM_SYNTAX_USAGE\u001B[39m\u001B[38;5;124m\"\u001B[39m)\n",
       "\u001B[0;32m--> 124\u001B[0m df \u001B[38;5;241m=\u001B[39m \u001B[38;5;28mself\u001B[39m\u001B[38;5;241m.\u001B[39masserting_spark\u001B[38;5;241m.\u001B[39msql(query, widget_bindings)\n",
       "\u001B[1;32m    125\u001B[0m \u001B[38;5;28;01mreturn\u001B[39;00m df\n",
       "\n",
       "File \u001B[0;32m/databricks/python/lib/python3.11/site-packages/pyspark/sql/connect/session.py:736\u001B[0m, in \u001B[0;36mSparkSession.sql\u001B[0;34m(self, sqlQuery, args, **kwargs)\u001B[0m\n",
       "\u001B[1;32m    733\u001B[0m         _views\u001B[38;5;241m.\u001B[39mappend(SubqueryAlias(df\u001B[38;5;241m.\u001B[39m_plan, name))\n",
       "\u001B[1;32m    735\u001B[0m cmd \u001B[38;5;241m=\u001B[39m SQL(sqlQuery, _args, _named_args, _views)\n",
       "\u001B[0;32m--> 736\u001B[0m data, properties, ei \u001B[38;5;241m=\u001B[39m \u001B[38;5;28mself\u001B[39m\u001B[38;5;241m.\u001B[39mclient\u001B[38;5;241m.\u001B[39mexecute_command(cmd\u001B[38;5;241m.\u001B[39mcommand(\u001B[38;5;28mself\u001B[39m\u001B[38;5;241m.\u001B[39m_client))\n",
       "\u001B[1;32m    737\u001B[0m \u001B[38;5;28;01mif\u001B[39;00m \u001B[38;5;124m\"\u001B[39m\u001B[38;5;124msql_command_result\u001B[39m\u001B[38;5;124m\"\u001B[39m \u001B[38;5;129;01min\u001B[39;00m properties:\n",
       "\u001B[1;32m    738\u001B[0m     df \u001B[38;5;241m=\u001B[39m DataFrame(CachedRelation(properties[\u001B[38;5;124m\"\u001B[39m\u001B[38;5;124msql_command_result\u001B[39m\u001B[38;5;124m\"\u001B[39m]), \u001B[38;5;28mself\u001B[39m)\n",
       "\n",
       "File \u001B[0;32m/databricks/python/lib/python3.11/site-packages/pyspark/sql/connect/client/core.py:1303\u001B[0m, in \u001B[0;36mSparkConnectClient.execute_command\u001B[0;34m(self, command, observations, extra_request_metadata)\u001B[0m\n",
       "\u001B[1;32m   1301\u001B[0m     req\u001B[38;5;241m.\u001B[39muser_context\u001B[38;5;241m.\u001B[39muser_id \u001B[38;5;241m=\u001B[39m \u001B[38;5;28mself\u001B[39m\u001B[38;5;241m.\u001B[39m_user_id\n",
       "\u001B[1;32m   1302\u001B[0m req\u001B[38;5;241m.\u001B[39mplan\u001B[38;5;241m.\u001B[39mcommand\u001B[38;5;241m.\u001B[39mCopyFrom(command)\n",
       "\u001B[0;32m-> 1303\u001B[0m data, _, metrics, observed_metrics, properties \u001B[38;5;241m=\u001B[39m \u001B[38;5;28mself\u001B[39m\u001B[38;5;241m.\u001B[39m_execute_and_fetch(\n",
       "\u001B[1;32m   1304\u001B[0m     req, observations \u001B[38;5;129;01mor\u001B[39;00m {}, extra_request_metadata\n",
       "\u001B[1;32m   1305\u001B[0m )\n",
       "\u001B[1;32m   1306\u001B[0m \u001B[38;5;66;03m# Create a query execution object.\u001B[39;00m\n",
       "\u001B[1;32m   1307\u001B[0m ei \u001B[38;5;241m=\u001B[39m ExecutionInfo(metrics, observed_metrics)\n",
       "\n",
       "File \u001B[0;32m/databricks/python/lib/python3.11/site-packages/pyspark/sql/connect/client/core.py:1761\u001B[0m, in \u001B[0;36mSparkConnectClient._execute_and_fetch\u001B[0;34m(self, req, observations, extra_request_metadata, self_destruct)\u001B[0m\n",
       "\u001B[1;32m   1758\u001B[0m properties: Dict[\u001B[38;5;28mstr\u001B[39m, Any] \u001B[38;5;241m=\u001B[39m {}\n",
       "\u001B[1;32m   1760\u001B[0m \u001B[38;5;28;01mwith\u001B[39;00m Progress(handlers\u001B[38;5;241m=\u001B[39m\u001B[38;5;28mself\u001B[39m\u001B[38;5;241m.\u001B[39m_progress_handlers, operation_id\u001B[38;5;241m=\u001B[39mreq\u001B[38;5;241m.\u001B[39moperation_id) \u001B[38;5;28;01mas\u001B[39;00m progress:\n",
       "\u001B[0;32m-> 1761\u001B[0m     \u001B[38;5;28;01mfor\u001B[39;00m response \u001B[38;5;129;01min\u001B[39;00m \u001B[38;5;28mself\u001B[39m\u001B[38;5;241m.\u001B[39m_execute_and_fetch_as_iterator(\n",
       "\u001B[1;32m   1762\u001B[0m         req, observations, extra_request_metadata \u001B[38;5;129;01mor\u001B[39;00m [], progress\u001B[38;5;241m=\u001B[39mprogress\n",
       "\u001B[1;32m   1763\u001B[0m     ):\n",
       "\u001B[1;32m   1764\u001B[0m         \u001B[38;5;28;01mif\u001B[39;00m \u001B[38;5;28misinstance\u001B[39m(response, StructType):\n",
       "\u001B[1;32m   1765\u001B[0m             schema \u001B[38;5;241m=\u001B[39m response\n",
       "\n",
       "File \u001B[0;32m/databricks/python/lib/python3.11/site-packages/pyspark/sql/connect/client/core.py:1737\u001B[0m, in \u001B[0;36mSparkConnectClient._execute_and_fetch_as_iterator\u001B[0;34m(self, req, observations, extra_request_metadata, progress)\u001B[0m\n",
       "\u001B[1;32m   1735\u001B[0m     \u001B[38;5;28;01mraise\u001B[39;00m kb\n",
       "\u001B[1;32m   1736\u001B[0m \u001B[38;5;28;01mexcept\u001B[39;00m \u001B[38;5;167;01mException\u001B[39;00m \u001B[38;5;28;01mas\u001B[39;00m error:\n",
       "\u001B[0;32m-> 1737\u001B[0m     \u001B[38;5;28mself\u001B[39m\u001B[38;5;241m.\u001B[39m_handle_error(error)\n",
       "\n",
       "File \u001B[0;32m/databricks/python/lib/python3.11/site-packages/pyspark/sql/connect/client/core.py:2053\u001B[0m, in \u001B[0;36mSparkConnectClient._handle_error\u001B[0;34m(self, error)\u001B[0m\n",
       "\u001B[1;32m   2051\u001B[0m \u001B[38;5;28mself\u001B[39m\u001B[38;5;241m.\u001B[39mthread_local\u001B[38;5;241m.\u001B[39minside_error_handling \u001B[38;5;241m=\u001B[39m \u001B[38;5;28;01mTrue\u001B[39;00m\n",
       "\u001B[1;32m   2052\u001B[0m \u001B[38;5;28;01mif\u001B[39;00m \u001B[38;5;28misinstance\u001B[39m(error, grpc\u001B[38;5;241m.\u001B[39mRpcError):\n",
       "\u001B[0;32m-> 2053\u001B[0m     \u001B[38;5;28mself\u001B[39m\u001B[38;5;241m.\u001B[39m_handle_rpc_error(error)\n",
       "\u001B[1;32m   2054\u001B[0m \u001B[38;5;28;01melif\u001B[39;00m \u001B[38;5;28misinstance\u001B[39m(error, \u001B[38;5;167;01mValueError\u001B[39;00m):\n",
       "\u001B[1;32m   2055\u001B[0m     \u001B[38;5;28;01mif\u001B[39;00m \u001B[38;5;124m\"\u001B[39m\u001B[38;5;124mCannot invoke RPC\u001B[39m\u001B[38;5;124m\"\u001B[39m \u001B[38;5;129;01min\u001B[39;00m \u001B[38;5;28mstr\u001B[39m(error) \u001B[38;5;129;01mand\u001B[39;00m \u001B[38;5;124m\"\u001B[39m\u001B[38;5;124mclosed\u001B[39m\u001B[38;5;124m\"\u001B[39m \u001B[38;5;129;01min\u001B[39;00m \u001B[38;5;28mstr\u001B[39m(error):\n",
       "\n",
       "File \u001B[0;32m/databricks/python/lib/python3.11/site-packages/pyspark/sql/connect/client/core.py:2132\u001B[0m, in \u001B[0;36mSparkConnectClient._handle_rpc_error\u001B[0;34m(self, rpc_error)\u001B[0m\n",
       "\u001B[1;32m   2128\u001B[0m             d\u001B[38;5;241m.\u001B[39mUnpack(info)\n",
       "\u001B[1;32m   2130\u001B[0m             \u001B[38;5;28mself\u001B[39m\u001B[38;5;241m.\u001B[39m_handle_rpc_error_with_error_info(status, info)  \u001B[38;5;66;03m# EDGE\u001B[39;00m\n",
       "\u001B[0;32m-> 2132\u001B[0m             \u001B[38;5;28;01mraise\u001B[39;00m convert_exception(\n",
       "\u001B[1;32m   2133\u001B[0m                 info,\n",
       "\u001B[1;32m   2134\u001B[0m                 status\u001B[38;5;241m.\u001B[39mmessage,\n",
       "\u001B[1;32m   2135\u001B[0m                 \u001B[38;5;28mself\u001B[39m\u001B[38;5;241m.\u001B[39m_fetch_enriched_error(info),\n",
       "\u001B[1;32m   2136\u001B[0m                 \u001B[38;5;28mself\u001B[39m\u001B[38;5;241m.\u001B[39m_display_server_stack_trace(),\n",
       "\u001B[1;32m   2137\u001B[0m             ) \u001B[38;5;28;01mfrom\u001B[39;00m \u001B[38;5;28;01mNone\u001B[39;00m\n",
       "\u001B[1;32m   2139\u001B[0m     \u001B[38;5;28;01mraise\u001B[39;00m SparkConnectGrpcException(\n",
       "\u001B[1;32m   2140\u001B[0m         message\u001B[38;5;241m=\u001B[39mstatus\u001B[38;5;241m.\u001B[39mmessage,\n",
       "\u001B[1;32m   2141\u001B[0m         sql_state\u001B[38;5;241m=\u001B[39mSparkConnectGrpcException\u001B[38;5;241m.\u001B[39mCLIENT_UNEXPECTED_MISSING_SQL_STATE,  \u001B[38;5;66;03m# EDGE\u001B[39;00m\n",
       "\u001B[1;32m   2142\u001B[0m     ) \u001B[38;5;28;01mfrom\u001B[39;00m \u001B[38;5;28;01mNone\u001B[39;00m\n",
       "\u001B[1;32m   2143\u001B[0m \u001B[38;5;28;01melse\u001B[39;00m:\n",
       "\n",
       "\u001B[0;31mIllegalArgumentException\u001B[0m: requirement failed: Are you sure you would like to vacuum files with such a low retention period? If you have\n",
       "writers that are currently writing to this table, there is a risk that you may corrupt the\n",
       "state of your Delta table.\n",
       "\n",
       "If you are certain that there are no operations being performed on this table, such as\n",
       "insert/upsert/delete/optimize, then you may turn off this check by setting:\n",
       "spark.databricks.delta.retentionDurationCheck.enabled = false\n",
       "\n",
       "If you are not sure, please use a value not less than \"168 hours\".\n",
       "       \n",
       "\n",
       "JVM stacktrace:\n",
       "java.lang.IllegalArgumentException\n",
       "\tat scala.Predef$.require(Predef.scala:337)\n",
       "\tat com.databricks.sql.transaction.tahoe.commands.VacuumCommand$.checkRetentionPeriodSafety(VacuumCommand.scala:130)\n",
       "\tat com.databricks.sql.transaction.tahoe.commands.VacuumCommand$.getValidFilesFromSnapshot(VacuumCommand.scala:150)\n",
       "\tat com.databricks.sql.transaction.tahoe.commands.VacuumCommand$.$anonfun$gc$2(VacuumCommand.scala:374)\n",
       "\tat com.databricks.sql.transaction.tahoe.metering.DeltaLogging.withOperationTypeTag(DeltaLogging.scala:325)\n",
       "\tat com.databricks.sql.transaction.tahoe.metering.DeltaLogging.withOperationTypeTag$(DeltaLogging.scala:312)\n",
       "\tat com.databricks.sql.transaction.tahoe.commands.VacuumCommand$.withOperationTypeTag(VacuumCommand.scala:81)\n",
       "\tat com.databricks.sql.transaction.tahoe.metering.DeltaLogging.$anonfun$recordDeltaOperationInternal$2(DeltaLogging.scala:178)\n",
       "\tat com.databricks.spark.util.FrameProfiler$.record(FrameProfiler.scala:94)\n",
       "\tat com.databricks.sql.transaction.tahoe.metering.DeltaLogging.recordFrameProfile(DeltaLogging.scala:418)\n",
       "\tat com.databricks.sql.transaction.tahoe.metering.DeltaLogging.recordFrameProfile$(DeltaLogging.scala:416)\n",
       "\tat com.databricks.sql.transaction.tahoe.commands.VacuumCommand$.recordFrameProfile(VacuumCommand.scala:81)\n",
       "\tat com.databricks.sql.transaction.tahoe.metering.DeltaLogging.$anonfun$recordDeltaOperationInternal$1(DeltaLogging.scala:177)\n",
       "\tat com.databricks.logging.UsageLogging.$anonfun$recordOperation$1(UsageLogging.scala:510)\n",
       "\tat com.databricks.logging.UsageLogging.executeThunkAndCaptureResultTags$1(UsageLogging.scala:616)\n",
       "\tat com.databricks.logging.UsageLogging.$anonfun$recordOperationWithResultTags$4(UsageLogging.scala:643)\n",
       "\tat com.databricks.logging.AttributionContextTracing.$anonfun$withAttributionContext$1(AttributionContextTracing.scala:49)\n",
       "\tat com.databricks.logging.AttributionContext$.$anonfun$withValue$1(AttributionContext.scala:293)\n",
       "\tat scala.util.DynamicVariable.withValue(DynamicVariable.scala:59)\n",
       "\tat com.databricks.logging.AttributionContext$.withValue(AttributionContext.scala:289)\n",
       "\tat com.databricks.logging.AttributionContextTracing.withAttributionContext(AttributionContextTracing.scala:47)\n",
       "\tat com.databricks.logging.AttributionContextTracing.withAttributionContext$(AttributionContextTracing.scala:44)\n",
       "\tat com.databricks.spark.util.PublicDBLogging.withAttributionContext(DatabricksSparkUsageLogger.scala:30)\n",
       "\tat com.databricks.logging.AttributionContextTracing.withAttributionTags(AttributionContextTracing.scala:96)\n",
       "\tat com.databricks.logging.AttributionContextTracing.withAttributionTags$(AttributionContextTracing.scala:77)\n",
       "\tat com.databricks.spark.util.PublicDBLogging.withAttributionTags(DatabricksSparkUsageLogger.scala:30)\n",
       "\tat com.databricks.logging.UsageLogging.recordOperationWithResultTags(UsageLogging.scala:611)\n",
       "\tat com.databricks.logging.UsageLogging.recordOperationWithResultTags$(UsageLogging.scala:519)\n",
       "\tat com.databricks.spark.util.PublicDBLogging.recordOperationWithResultTags(DatabricksSparkUsageLogger.scala:30)\n",
       "\tat com.databricks.logging.UsageLogging.recordOperation(UsageLogging.scala:511)\n",
       "\tat com.databricks.logging.UsageLogging.recordOperation$(UsageLogging.scala:475)\n",
       "\tat com.databricks.spark.util.PublicDBLogging.recordOperation(DatabricksSparkUsageLogger.scala:30)\n",
       "\tat com.databricks.spark.util.PublicDBLogging.recordOperation0(DatabricksSparkUsageLogger.scala:120)\n",
       "\tat com.databricks.spark.util.DatabricksSparkUsageLogger.recordOperation(DatabricksSparkUsageLogger.scala:210)\n",
       "\tat com.databricks.spark.util.UsageLogger.recordOperation(UsageLogger.scala:78)\n",
       "\tat com.databricks.spark.util.UsageLogger.recordOperation$(UsageLogger.scala:65)\n",
       "\tat com.databricks.spark.util.DatabricksSparkUsageLogger.recordOperation(DatabricksSparkUsageLogger.scala:169)\n",
       "\tat com.databricks.spark.util.UsageLogging.recordOperation(UsageLogger.scala:537)\n",
       "\tat com.databricks.spark.util.UsageLogging.recordOperation$(UsageLogger.scala:516)\n",
       "\tat com.databricks.sql.transaction.tahoe.commands.VacuumCommand$.recordOperation(VacuumCommand.scala:81)\n",
       "\tat com.databricks.sql.transaction.tahoe.metering.DeltaLogging.recordDeltaOperationInternal(DeltaLogging.scala:176)\n",
       "\tat com.databricks.sql.transaction.tahoe.metering.DeltaLogging.recordDeltaOperation(DeltaLogging.scala:166)\n",
       "\tat com.databricks.sql.transaction.tahoe.metering.DeltaLogging.recordDeltaOperation$(DeltaLogging.scala:155)\n",
       "\tat com.databricks.sql.transaction.tahoe.commands.VacuumCommand$.recordDeltaOperation(VacuumCommand.scala:81)\n",
       "\tat com.databricks.sql.transaction.tahoe.commands.VacuumCommand$.$anonfun$gc$1(VacuumCommand.scala:267)\n",
       "\tat com.databricks.sql.acl.CheckPermissions$.$anonfun$trusted$1(CheckPermissions.scala:2439)\n",
       "\tat com.databricks.sql.util.ThreadLocalTagger.withTag(QueryTagger.scala:63)\n",
       "\tat com.databricks.sql.util.ThreadLocalTagger.withTag$(QueryTagger.scala:60)\n",
       "\tat com.databricks.sql.util.QueryTagger$.withTag(QueryTagger.scala:220)\n",
       "\tat com.databricks.sql.acl.CheckPermissions$.trusted(CheckPermissions.scala:2439)\n",
       "\tat com.databricks.sql.transaction.tahoe.commands.VacuumCommand$.gc(VacuumCommand.scala:264)\n",
       "\tat com.databricks.sql.transaction.directory.VacuumTableCommand.$anonfun$run$1(VacuumTableCommand.scala:335)\n",
       "\tat com.databricks.sql.acl.CheckPermissions$.$anonfun$trusted$2(CheckPermissions.scala:2459)\n",
       "\tat com.databricks.sql.util.ThreadLocalTagger.withTag(QueryTagger.scala:63)\n",
       "\tat com.databricks.sql.util.ThreadLocalTagger.withTag$(QueryTagger.scala:60)\n",
       "\tat com.databricks.sql.util.QueryTagger$.withTag(QueryTagger.scala:220)\n",
       "\tat com.databricks.sql.acl.CheckPermissions$.trusted(CheckPermissions.scala:2459)\n",
       "\tat com.databricks.sql.transaction.directory.VacuumTableCommand.run(VacuumTableCommand.scala:205)\n",
       "\tat org.apache.spark.sql.execution.command.ExecutedCommandExec.$anonfun$sideEffectResult$2(commands.scala:86)\n",
       "\tat org.apache.spark.sql.execution.SparkPlan.runCommandInAetherOrSpark(SparkPlan.scala:195)\n",
       "\tat org.apache.spark.sql.execution.command.ExecutedCommandExec.$anonfun$sideEffectResult$1(commands.scala:86)\n",
       "\tat com.databricks.spark.util.FrameProfiler$.record(FrameProfiler.scala:94)\n",
       "\tat org.apache.spark.sql.execution.command.ExecutedCommandExec.sideEffectResult$lzycompute(commands.scala:83)\n",
       "\tat org.apache.spark.sql.execution.command.ExecutedCommandExec.sideEffectResult(commands.scala:82)\n",
       "\tat org.apache.spark.sql.execution.command.ExecutedCommandExec.executeCollect(commands.scala:96)\n",
       "\tat org.apache.spark.sql.execution.QueryExecution.$anonfun$eagerlyExecuteCommands$5(QueryExecution.scala:461)\n",
       "\tat com.databricks.util.LexicalThreadLocal$Handle.runWith(LexicalThreadLocal.scala:63)\n",
       "\tat org.apache.spark.sql.execution.QueryExecution.$anonfun$eagerlyExecuteCommands$4(QueryExecution.scala:461)\n",
       "\tat org.apache.spark.sql.catalyst.QueryPlanningTracker$.withTracker(QueryPlanningTracker.scala:246)\n",
       "\tat org.apache.spark.sql.execution.QueryExecution.$anonfun$eagerlyExecuteCommands$3(QueryExecution.scala:460)\n",
       "\tat org.apache.spark.sql.execution.SQLExecution$.$anonfun$withNewExecutionId0$13(SQLExecution.scala:523)\n",
       "\tat com.databricks.sql.util.MemoryTrackerHelper.withMemoryTracking(MemoryTrackerHelper.scala:111)\n",
       "\tat org.apache.spark.sql.execution.SQLExecution$.$anonfun$withNewExecutionId0$12(SQLExecution.scala:443)\n",
       "\tat org.apache.spark.sql.execution.SQLExecution$.withSessionTagsApplied(SQLExecution.scala:817)\n",
       "\tat org.apache.spark.sql.execution.SQLExecution$.$anonfun$withNewExecutionId0$11(SQLExecution.scala:372)\n",
       "\tat org.apache.spark.JobArtifactSet$.withActiveJobArtifactState(JobArtifactSet.scala:97)\n",
       "\tat org.apache.spark.sql.artifact.ArtifactManager.$anonfun$withResources$1(ArtifactManager.scala:121)\n",
       "\tat org.apache.spark.sql.artifact.ArtifactManager.withClassLoaderIfNeeded(ArtifactManager.scala:115)\n",
       "\tat org.apache.spark.sql.artifact.ArtifactManager.withResources(ArtifactManager.scala:120)\n",
       "\tat org.apache.spark.sql.execution.SQLExecution$.$anonfun$withNewExecutionId0$10(SQLExecution.scala:372)\n",
       "\tat org.apache.spark.sql.execution.SQLExecution$.withSQLConfPropagated(SQLExecution.scala:846)\n",
       "\tat org.apache.spark.sql.execution.SQLExecution$.$anonfun$withNewExecutionId0$1(SQLExecution.scala:371)\n",
       "\tat org.apache.spark.sql.SparkSession.withActive(SparkSession.scala:860)\n",
       "\tat org.apache.spark.sql.execution.SQLExecution$.withNewExecutionId0(SQLExecution.scala:237)\n",
       "\tat org.apache.spark.sql.execution.SQLExecution$.withNewExecutionId(SQLExecution.scala:770)\n",
       "\tat org.apache.spark.sql.execution.QueryExecution.$anonfun$eagerlyExecuteCommands$2(QueryExecution.scala:456)\n",
       "\tat org.apache.spark.sql.execution.QueryExecution$.withInternalError(QueryExecution.scala:1339)\n",
       "\tat org.apache.spark.sql.execution.QueryExecution.$anonfun$eagerlyExecuteCommands$1(QueryExecution.scala:452)\n",
       "\tat org.apache.spark.sql.execution.QueryExecution.withMVTagsIfNecessary(QueryExecution.scala:381)\n",
       "\tat org.apache.spark.sql.execution.QueryExecution.org$apache$spark$sql$execution$QueryExecution$$eagerlyExecute$1(QueryExecution.scala:450)\n",
       "\tat org.apache.spark.sql.execution.QueryExecution$$anonfun$$nestedInanonfun$eagerlyExecuteCommands$8$1.applyOrElse(QueryExecution.scala:517)\n",
       "\tat org.apache.spark.sql.execution.QueryExecution$$anonfun$$nestedInanonfun$eagerlyExecuteCommands$8$1.applyOrElse(QueryExecution.scala:509)\n",
       "\tat org.apache.spark.sql.catalyst.trees.TreeNode.$anonfun$transformDownWithPruning$1(TreeNode.scala:521)\n",
       "\tat org.apache.spark.sql.catalyst.trees.CurrentOrigin$.withOrigin(origin.scala:121)\n",
       "\tat org.apache.spark.sql.catalyst.trees.TreeNode.transformDownWithPruning(TreeNode.scala:521)\n",
       "\tat org.apache.spark.sql.catalyst.plans.logical.LogicalPlan.org$apache$spark$sql$catalyst$plans$logical$AnalysisHelper$$super$transformDownWithPruning(LogicalPlan.scala:42)\n",
       "\tat org.apache.spark.sql.catalyst.plans.logical.AnalysisHelper.transformDownWithPruning(AnalysisHelper.scala:361)\n",
       "\tat org.apache.spark.sql.catalyst.plans.logical.AnalysisHelper.transformDownWithPruning$(AnalysisHelper.scala:357)\n",
       "\tat org.apache.spark.sql.catalyst.plans.logical.LogicalPlan.transformDownWithPruning(LogicalPlan.scala:42)\n",
       "\tat org.apache.spark.sql.catalyst.plans.logical.LogicalPlan.transformDownWithPruning(LogicalPlan.scala:42)\n",
       "\tat org.apache.spark.sql.catalyst.trees.TreeNode.transformDown(TreeNode.scala:497)\n",
       "\tat org.apache.spark.sql.execution.QueryExecution.$anonfun$eagerlyExecuteCommands$8(QueryExecution.scala:509)\n",
       "\tat org.apache.spark.sql.catalyst.plans.logical.AnalysisHelper$.allowInvokingTransformsInAnalyzer(AnalysisHelper.scala:418)\n",
       "\tat org.apache.spark.sql.execution.QueryExecution.eagerlyExecuteCommands(QueryExecution.scala:509)\n",
       "\tat org.apache.spark.sql.execution.QueryExecution.$anonfun$lazyCommandExecuted$1(QueryExecution.scala:337)\n",
       "\tat scala.util.Try$.apply(Try.scala:217)\n",
       "\tat org.apache.spark.util.Utils$.doTryWithCallerStacktrace(Utils.scala:1687)\n",
       "\tat org.apache.spark.util.Utils$.getTryWithCallerStacktrace(Utils.scala:1748)\n",
       "\tat org.apache.spark.util.LazyTry.get(LazyTry.scala:58)\n",
       "\tat org.apache.spark.sql.execution.QueryExecution.commandExecuted(QueryExecution.scala:342)\n",
       "\tat org.apache.spark.sql.classic.Dataset.<init>(Dataset.scala:428)\n",
       "\tat org.apache.spark.sql.classic.Dataset$.$anonfun$ofRows$3(Dataset.scala:155)\n",
       "\tat org.apache.spark.sql.SparkSession.withActive(SparkSession.scala:860)\n",
       "\tat org.apache.spark.sql.classic.SparkSession.$anonfun$withActiveAndFrameProfiler$1(SparkSession.scala:1157)\n",
       "\tat com.databricks.spark.util.FrameProfiler$.record(FrameProfiler.scala:94)\n",
       "\tat org.apache.spark.sql.classic.SparkSession.withActiveAndFrameProfiler(SparkSession.scala:1157)\n",
       "\tat org.apache.spark.sql.classic.Dataset$.ofRows(Dataset.scala:146)\n",
       "\tat org.apache.spark.sql.classic.SparkSession.$anonfun$sql$4(SparkSession.scala:936)\n",
       "\tat org.apache.spark.sql.SparkSession.withActive(SparkSession.scala:860)\n",
       "\tat org.apache.spark.sql.classic.SparkSession.sql(SparkSession.scala:888)\n",
       "\tat org.apache.spark.sql.connect.planner.SparkConnectPlanner.executeSQL(SparkConnectPlanner.scala:3382)\n",
       "\tat org.apache.spark.sql.connect.planner.SparkConnectPlanner.handleSqlCommand(SparkConnectPlanner.scala:3211)\n",
       "\tat org.apache.spark.sql.connect.planner.SparkConnectPlanner.process(SparkConnectPlanner.scala:3089)\n",
       "\tat org.apache.spark.sql.connect.execution.ExecuteThreadRunner.handleCommand(ExecuteThreadRunner.scala:419)\n",
       "\tat org.apache.spark.sql.connect.execution.ExecuteThreadRunner.$anonfun$executeInternal$1(ExecuteThreadRunner.scala:316)\n",
       "\tat org.apache.spark.sql.connect.execution.ExecuteThreadRunner.$anonfun$executeInternal$1$adapted(ExecuteThreadRunner.scala:237)\n",
       "\tat org.apache.spark.sql.connect.service.SessionHolder.$anonfun$withSession$2(SessionHolder.scala:466)\n",
       "\tat org.apache.spark.sql.SparkSession.withActive(SparkSession.scala:860)\n",
       "\tat org.apache.spark.sql.connect.service.SessionHolder.$anonfun$withSession$1(SessionHolder.scala:466)\n",
       "\tat org.apache.spark.JobArtifactSet$.withActiveJobArtifactState(JobArtifactSet.scala:97)\n",
       "\tat org.apache.spark.sql.artifact.ArtifactManager.$anonfun$withResources$1(ArtifactManager.scala:121)\n",
       "\tat org.apache.spark.sql.artifact.ArtifactManager.withClassLoaderIfNeeded(ArtifactManager.scala:115)\n",
       "\tat org.apache.spark.sql.artifact.ArtifactManager.withResources(ArtifactManager.scala:120)\n",
       "\tat org.apache.spark.sql.connect.service.SessionHolder.withSession(SessionHolder.scala:465)\n",
       "\tat org.apache.spark.sql.connect.execution.ExecuteThreadRunner.executeInternal(ExecuteThreadRunner.scala:237)\n",
       "\tat org.apache.spark.sql.connect.execution.ExecuteThreadRunner.org$apache$spark$sql$connect$execution$ExecuteThreadRunner$$execute(ExecuteThreadRunner.scala:140)\n",
       "\tat org.apache.spark.sql.connect.execution.ExecuteThreadRunner$ExecutionThread.$anonfun$run$2(ExecuteThreadRunner.scala:620)\n",
       "\tat scala.runtime.java8.JFunction0$mcV$sp.apply(JFunction0$mcV$sp.scala:18)\n",
       "\tat com.databricks.unity.UCSEphemeralState$Handle.runWith(UCSEphemeralState.scala:51)\n",
       "\tat com.databricks.unity.HandleImpl.runWith(UCSHandle.scala:104)\n",
       "\tat com.databricks.unity.HandleImpl.$anonfun$runWithAndClose$1(UCSHandle.scala:109)\n",
       "\tat scala.util.Using$.resource(Using.scala:296)\n",
       "\tat com.databricks.unity.HandleImpl.runWithAndClose(UCSHandle.scala:108)\n",
       "\tat org.apache.spark.sql.connect.execution.ExecuteThreadRunner$ExecutionThread.run(ExecuteThreadRunner.scala:620)"
      ]
     },
     "metadata": {
      "application/vnd.databricks.v1+output": {
       "addedWidgets": {},
       "arguments": {},
       "datasetInfos": [],
       "jupyterProps": {
        "ename": "IllegalArgumentException",
        "evalue": "requirement failed: Are you sure you would like to vacuum files with such a low retention period? If you have\nwriters that are currently writing to this table, there is a risk that you may corrupt the\nstate of your Delta table.\n\nIf you are certain that there are no operations being performed on this table, such as\ninsert/upsert/delete/optimize, then you may turn off this check by setting:\nspark.databricks.delta.retentionDurationCheck.enabled = false\n\nIf you are not sure, please use a value not less than \"168 hours\".\n       \n\nJVM stacktrace:\njava.lang.IllegalArgumentException\n\tat scala.Predef$.require(Predef.scala:337)\n\tat com.databricks.sql.transaction.tahoe.commands.VacuumCommand$.checkRetentionPeriodSafety(VacuumCommand.scala:130)\n\tat com.databricks.sql.transaction.tahoe.commands.VacuumCommand$.getValidFilesFromSnapshot(VacuumCommand.scala:150)\n\tat com.databricks.sql.transaction.tahoe.commands.VacuumCommand$.$anonfun$gc$2(VacuumCommand.scala:374)\n\tat com.databricks.sql.transaction.tahoe.metering.DeltaLogging.withOperationTypeTag(DeltaLogging.scala:325)\n\tat com.databricks.sql.transaction.tahoe.metering.DeltaLogging.withOperationTypeTag$(DeltaLogging.scala:312)\n\tat com.databricks.sql.transaction.tahoe.commands.VacuumCommand$.withOperationTypeTag(VacuumCommand.scala:81)\n\tat com.databricks.sql.transaction.tahoe.metering.DeltaLogging.$anonfun$recordDeltaOperationInternal$2(DeltaLogging.scala:178)\n\tat com.databricks.spark.util.FrameProfiler$.record(FrameProfiler.scala:94)\n\tat com.databricks.sql.transaction.tahoe.metering.DeltaLogging.recordFrameProfile(DeltaLogging.scala:418)\n\tat com.databricks.sql.transaction.tahoe.metering.DeltaLogging.recordFrameProfile$(DeltaLogging.scala:416)\n\tat com.databricks.sql.transaction.tahoe.commands.VacuumCommand$.recordFrameProfile(VacuumCommand.scala:81)\n\tat com.databricks.sql.transaction.tahoe.metering.DeltaLogging.$anonfun$recordDeltaOperationInternal$1(DeltaLogging.scala:177)\n\tat com.databricks.logging.UsageLogging.$anonfun$recordOperation$1(UsageLogging.scala:510)\n\tat com.databricks.logging.UsageLogging.executeThunkAndCaptureResultTags$1(UsageLogging.scala:616)\n\tat com.databricks.logging.UsageLogging.$anonfun$recordOperationWithResultTags$4(UsageLogging.scala:643)\n\tat com.databricks.logging.AttributionContextTracing.$anonfun$withAttributionContext$1(AttributionContextTracing.scala:49)\n\tat com.databricks.logging.AttributionContext$.$anonfun$withValue$1(AttributionContext.scala:293)\n\tat scala.util.DynamicVariable.withValue(DynamicVariable.scala:59)\n\tat com.databricks.logging.AttributionContext$.withValue(AttributionContext.scala:289)\n\tat com.databricks.logging.AttributionContextTracing.withAttributionContext(AttributionContextTracing.scala:47)\n\tat com.databricks.logging.AttributionContextTracing.withAttributionContext$(AttributionContextTracing.scala:44)\n\tat com.databricks.spark.util.PublicDBLogging.withAttributionContext(DatabricksSparkUsageLogger.scala:30)\n\tat com.databricks.logging.AttributionContextTracing.withAttributionTags(AttributionContextTracing.scala:96)\n\tat com.databricks.logging.AttributionContextTracing.withAttributionTags$(AttributionContextTracing.scala:77)\n\tat com.databricks.spark.util.PublicDBLogging.withAttributionTags(DatabricksSparkUsageLogger.scala:30)\n\tat com.databricks.logging.UsageLogging.recordOperationWithResultTags(UsageLogging.scala:611)\n\tat com.databricks.logging.UsageLogging.recordOperationWithResultTags$(UsageLogging.scala:519)\n\tat com.databricks.spark.util.PublicDBLogging.recordOperationWithResultTags(DatabricksSparkUsageLogger.scala:30)\n\tat com.databricks.logging.UsageLogging.recordOperation(UsageLogging.scala:511)\n\tat com.databricks.logging.UsageLogging.recordOperation$(UsageLogging.scala:475)\n\tat com.databricks.spark.util.PublicDBLogging.recordOperation(DatabricksSparkUsageLogger.scala:30)\n\tat com.databricks.spark.util.PublicDBLogging.recordOperation0(DatabricksSparkUsageLogger.scala:120)\n\tat com.databricks.spark.util.DatabricksSparkUsageLogger.recordOperation(DatabricksSparkUsageLogger.scala:210)\n\tat com.databricks.spark.util.UsageLogger.recordOperation(UsageLogger.scala:78)\n\tat com.databricks.spark.util.UsageLogger.recordOperation$(UsageLogger.scala:65)\n\tat com.databricks.spark.util.DatabricksSparkUsageLogger.recordOperation(DatabricksSparkUsageLogger.scala:169)\n\tat com.databricks.spark.util.UsageLogging.recordOperation(UsageLogger.scala:537)\n\tat com.databricks.spark.util.UsageLogging.recordOperation$(UsageLogger.scala:516)\n\tat com.databricks.sql.transaction.tahoe.commands.VacuumCommand$.recordOperation(VacuumCommand.scala:81)\n\tat com.databricks.sql.transaction.tahoe.metering.DeltaLogging.recordDeltaOperationInternal(DeltaLogging.scala:176)\n\tat com.databricks.sql.transaction.tahoe.metering.DeltaLogging.recordDeltaOperation(DeltaLogging.scala:166)\n\tat com.databricks.sql.transaction.tahoe.metering.DeltaLogging.recordDeltaOperation$(DeltaLogging.scala:155)\n\tat com.databricks.sql.transaction.tahoe.commands.VacuumCommand$.recordDeltaOperation(VacuumCommand.scala:81)\n\tat com.databricks.sql.transaction.tahoe.commands.VacuumCommand$.$anonfun$gc$1(VacuumCommand.scala:267)\n\tat com.databricks.sql.acl.CheckPermissions$.$anonfun$trusted$1(CheckPermissions.scala:2439)\n\tat com.databricks.sql.util.ThreadLocalTagger.withTag(QueryTagger.scala:63)\n\tat com.databricks.sql.util.ThreadLocalTagger.withTag$(QueryTagger.scala:60)\n\tat com.databricks.sql.util.QueryTagger$.withTag(QueryTagger.scala:220)\n\tat com.databricks.sql.acl.CheckPermissions$.trusted(CheckPermissions.scala:2439)\n\tat com.databricks.sql.transaction.tahoe.commands.VacuumCommand$.gc(VacuumCommand.scala:264)\n\tat com.databricks.sql.transaction.directory.VacuumTableCommand.$anonfun$run$1(VacuumTableCommand.scala:335)\n\tat com.databricks.sql.acl.CheckPermissions$.$anonfun$trusted$2(CheckPermissions.scala:2459)\n\tat com.databricks.sql.util.ThreadLocalTagger.withTag(QueryTagger.scala:63)\n\tat com.databricks.sql.util.ThreadLocalTagger.withTag$(QueryTagger.scala:60)\n\tat com.databricks.sql.util.QueryTagger$.withTag(QueryTagger.scala:220)\n\tat com.databricks.sql.acl.CheckPermissions$.trusted(CheckPermissions.scala:2459)\n\tat com.databricks.sql.transaction.directory.VacuumTableCommand.run(VacuumTableCommand.scala:205)\n\tat org.apache.spark.sql.execution.command.ExecutedCommandExec.$anonfun$sideEffectResult$2(commands.scala:86)\n\tat org.apache.spark.sql.execution.SparkPlan.runCommandInAetherOrSpark(SparkPlan.scala:195)\n\tat org.apache.spark.sql.execution.command.ExecutedCommandExec.$anonfun$sideEffectResult$1(commands.scala:86)\n\tat com.databricks.spark.util.FrameProfiler$.record(FrameProfiler.scala:94)\n\tat org.apache.spark.sql.execution.command.ExecutedCommandExec.sideEffectResult$lzycompute(commands.scala:83)\n\tat org.apache.spark.sql.execution.command.ExecutedCommandExec.sideEffectResult(commands.scala:82)\n\tat org.apache.spark.sql.execution.command.ExecutedCommandExec.executeCollect(commands.scala:96)\n\tat org.apache.spark.sql.execution.QueryExecution.$anonfun$eagerlyExecuteCommands$5(QueryExecution.scala:461)\n\tat com.databricks.util.LexicalThreadLocal$Handle.runWith(LexicalThreadLocal.scala:63)\n\tat org.apache.spark.sql.execution.QueryExecution.$anonfun$eagerlyExecuteCommands$4(QueryExecution.scala:461)\n\tat org.apache.spark.sql.catalyst.QueryPlanningTracker$.withTracker(QueryPlanningTracker.scala:246)\n\tat org.apache.spark.sql.execution.QueryExecution.$anonfun$eagerlyExecuteCommands$3(QueryExecution.scala:460)\n\tat org.apache.spark.sql.execution.SQLExecution$.$anonfun$withNewExecutionId0$13(SQLExecution.scala:523)\n\tat com.databricks.sql.util.MemoryTrackerHelper.withMemoryTracking(MemoryTrackerHelper.scala:111)\n\tat org.apache.spark.sql.execution.SQLExecution$.$anonfun$withNewExecutionId0$12(SQLExecution.scala:443)\n\tat org.apache.spark.sql.execution.SQLExecution$.withSessionTagsApplied(SQLExecution.scala:817)\n\tat org.apache.spark.sql.execution.SQLExecution$.$anonfun$withNewExecutionId0$11(SQLExecution.scala:372)\n\tat org.apache.spark.JobArtifactSet$.withActiveJobArtifactState(JobArtifactSet.scala:97)\n\tat org.apache.spark.sql.artifact.ArtifactManager.$anonfun$withResources$1(ArtifactManager.scala:121)\n\tat org.apache.spark.sql.artifact.ArtifactManager.withClassLoaderIfNeeded(ArtifactManager.scala:115)\n\tat org.apache.spark.sql.artifact.ArtifactManager.withResources(ArtifactManager.scala:120)\n\tat org.apache.spark.sql.execution.SQLExecution$.$anonfun$withNewExecutionId0$10(SQLExecution.scala:372)\n\tat org.apache.spark.sql.execution.SQLExecution$.withSQLConfPropagated(SQLExecution.scala:846)\n\tat org.apache.spark.sql.execution.SQLExecution$.$anonfun$withNewExecutionId0$1(SQLExecution.scala:371)\n\tat org.apache.spark.sql.SparkSession.withActive(SparkSession.scala:860)\n\tat org.apache.spark.sql.execution.SQLExecution$.withNewExecutionId0(SQLExecution.scala:237)\n\tat org.apache.spark.sql.execution.SQLExecution$.withNewExecutionId(SQLExecution.scala:770)\n\tat org.apache.spark.sql.execution.QueryExecution.$anonfun$eagerlyExecuteCommands$2(QueryExecution.scala:456)\n\tat org.apache.spark.sql.execution.QueryExecution$.withInternalError(QueryExecution.scala:1339)\n\tat org.apache.spark.sql.execution.QueryExecution.$anonfun$eagerlyExecuteCommands$1(QueryExecution.scala:452)\n\tat org.apache.spark.sql.execution.QueryExecution.withMVTagsIfNecessary(QueryExecution.scala:381)\n\tat org.apache.spark.sql.execution.QueryExecution.org$apache$spark$sql$execution$QueryExecution$$eagerlyExecute$1(QueryExecution.scala:450)\n\tat org.apache.spark.sql.execution.QueryExecution$$anonfun$$nestedInanonfun$eagerlyExecuteCommands$8$1.applyOrElse(QueryExecution.scala:517)\n\tat org.apache.spark.sql.execution.QueryExecution$$anonfun$$nestedInanonfun$eagerlyExecuteCommands$8$1.applyOrElse(QueryExecution.scala:509)\n\tat org.apache.spark.sql.catalyst.trees.TreeNode.$anonfun$transformDownWithPruning$1(TreeNode.scala:521)\n\tat org.apache.spark.sql.catalyst.trees.CurrentOrigin$.withOrigin(origin.scala:121)\n\tat org.apache.spark.sql.catalyst.trees.TreeNode.transformDownWithPruning(TreeNode.scala:521)\n\tat org.apache.spark.sql.catalyst.plans.logical.LogicalPlan.org$apache$spark$sql$catalyst$plans$logical$AnalysisHelper$$super$transformDownWithPruning(LogicalPlan.scala:42)\n\tat org.apache.spark.sql.catalyst.plans.logical.AnalysisHelper.transformDownWithPruning(AnalysisHelper.scala:361)\n\tat org.apache.spark.sql.catalyst.plans.logical.AnalysisHelper.transformDownWithPruning$(AnalysisHelper.scala:357)\n\tat org.apache.spark.sql.catalyst.plans.logical.LogicalPlan.transformDownWithPruning(LogicalPlan.scala:42)\n\tat org.apache.spark.sql.catalyst.plans.logical.LogicalPlan.transformDownWithPruning(LogicalPlan.scala:42)\n\tat org.apache.spark.sql.catalyst.trees.TreeNode.transformDown(TreeNode.scala:497)\n\tat org.apache.spark.sql.execution.QueryExecution.$anonfun$eagerlyExecuteCommands$8(QueryExecution.scala:509)\n\tat org.apache.spark.sql.catalyst.plans.logical.AnalysisHelper$.allowInvokingTransformsInAnalyzer(AnalysisHelper.scala:418)\n\tat org.apache.spark.sql.execution.QueryExecution.eagerlyExecuteCommands(QueryExecution.scala:509)\n\tat org.apache.spark.sql.execution.QueryExecution.$anonfun$lazyCommandExecuted$1(QueryExecution.scala:337)\n\tat scala.util.Try$.apply(Try.scala:217)\n\tat org.apache.spark.util.Utils$.doTryWithCallerStacktrace(Utils.scala:1687)\n\tat org.apache.spark.util.Utils$.getTryWithCallerStacktrace(Utils.scala:1748)\n\tat org.apache.spark.util.LazyTry.get(LazyTry.scala:58)\n\tat org.apache.spark.sql.execution.QueryExecution.commandExecuted(QueryExecution.scala:342)\n\tat org.apache.spark.sql.classic.Dataset.<init>(Dataset.scala:428)\n\tat org.apache.spark.sql.classic.Dataset$.$anonfun$ofRows$3(Dataset.scala:155)\n\tat org.apache.spark.sql.SparkSession.withActive(SparkSession.scala:860)\n\tat org.apache.spark.sql.classic.SparkSession.$anonfun$withActiveAndFrameProfiler$1(SparkSession.scala:1157)\n\tat com.databricks.spark.util.FrameProfiler$.record(FrameProfiler.scala:94)\n\tat org.apache.spark.sql.classic.SparkSession.withActiveAndFrameProfiler(SparkSession.scala:1157)\n\tat org.apache.spark.sql.classic.Dataset$.ofRows(Dataset.scala:146)\n\tat org.apache.spark.sql.classic.SparkSession.$anonfun$sql$4(SparkSession.scala:936)\n\tat org.apache.spark.sql.SparkSession.withActive(SparkSession.scala:860)\n\tat org.apache.spark.sql.classic.SparkSession.sql(SparkSession.scala:888)\n\tat org.apache.spark.sql.connect.planner.SparkConnectPlanner.executeSQL(SparkConnectPlanner.scala:3382)\n\tat org.apache.spark.sql.connect.planner.SparkConnectPlanner.handleSqlCommand(SparkConnectPlanner.scala:3211)\n\tat org.apache.spark.sql.connect.planner.SparkConnectPlanner.process(SparkConnectPlanner.scala:3089)\n\tat org.apache.spark.sql.connect.execution.ExecuteThreadRunner.handleCommand(ExecuteThreadRunner.scala:419)\n\tat org.apache.spark.sql.connect.execution.ExecuteThreadRunner.$anonfun$executeInternal$1(ExecuteThreadRunner.scala:316)\n\tat org.apache.spark.sql.connect.execution.ExecuteThreadRunner.$anonfun$executeInternal$1$adapted(ExecuteThreadRunner.scala:237)\n\tat org.apache.spark.sql.connect.service.SessionHolder.$anonfun$withSession$2(SessionHolder.scala:466)\n\tat org.apache.spark.sql.SparkSession.withActive(SparkSession.scala:860)\n\tat org.apache.spark.sql.connect.service.SessionHolder.$anonfun$withSession$1(SessionHolder.scala:466)\n\tat org.apache.spark.JobArtifactSet$.withActiveJobArtifactState(JobArtifactSet.scala:97)\n\tat org.apache.spark.sql.artifact.ArtifactManager.$anonfun$withResources$1(ArtifactManager.scala:121)\n\tat org.apache.spark.sql.artifact.ArtifactManager.withClassLoaderIfNeeded(ArtifactManager.scala:115)\n\tat org.apache.spark.sql.artifact.ArtifactManager.withResources(ArtifactManager.scala:120)\n\tat org.apache.spark.sql.connect.service.SessionHolder.withSession(SessionHolder.scala:465)\n\tat org.apache.spark.sql.connect.execution.ExecuteThreadRunner.executeInternal(ExecuteThreadRunner.scala:237)\n\tat org.apache.spark.sql.connect.execution.ExecuteThreadRunner.org$apache$spark$sql$connect$execution$ExecuteThreadRunner$$execute(ExecuteThreadRunner.scala:140)\n\tat org.apache.spark.sql.connect.execution.ExecuteThreadRunner$ExecutionThread.$anonfun$run$2(ExecuteThreadRunner.scala:620)\n\tat scala.runtime.java8.JFunction0$mcV$sp.apply(JFunction0$mcV$sp.scala:18)\n\tat com.databricks.unity.UCSEphemeralState$Handle.runWith(UCSEphemeralState.scala:51)\n\tat com.databricks.unity.HandleImpl.runWith(UCSHandle.scala:104)\n\tat com.databricks.unity.HandleImpl.$anonfun$runWithAndClose$1(UCSHandle.scala:109)\n\tat scala.util.Using$.resource(Using.scala:296)\n\tat com.databricks.unity.HandleImpl.runWithAndClose(UCSHandle.scala:108)\n\tat org.apache.spark.sql.connect.execution.ExecuteThreadRunner$ExecutionThread.run(ExecuteThreadRunner.scala:620)"
       },
       "metadata": {
        "errorSummary": "requirement failed: Are you sure you would like to vacuum files with such a low retention period? If you have\nwriters that are currently writing to this table, there is a risk that you may corrupt the\nstate of your Delta table.\n\nIf you are certain that there are no operations being performed on this table, such as\ninsert/upsert/delete/optimize, then you may turn off this check by setting:\nspark.databricks.delta.retentionDurationCheck.enabled = false\n\nIf you are not sure, please use a value not less than \"168 hours\".\n       \n\nJVM stacktrace:\njava.lang.IllegalArgumentException\n\tat scala.Predef$.require(Predef.scala:337)\n\tat com.databricks.sql.transaction.tahoe.commands.VacuumCommand$.checkRetentionPeriodSafety(VacuumCommand.scala:130)\n\tat com.databricks.sql.transaction.tahoe.commands.VacuumCommand$.getValidFilesFromSnapshot(VacuumCommand.scala:150)\n\tat com.databricks.sql.transaction.tahoe.commands.VacuumCommand$.$anonfun$gc$2(VacuumCommand.scala:374)\n\tat com.databricks.sql.transaction.tahoe.metering.DeltaLogging.withOperationTypeTag(DeltaLogging.scala:325)\n\tat com.databricks.sql.transaction.tahoe.metering.DeltaLogging.withOperationTypeTag$(DeltaLogging.scala:312)\n\tat com.databricks.sql.transaction.tahoe.commands.VacuumCommand$.withOperationTypeTag(VacuumCommand.scala:81)\n\tat com.databricks.sql.transaction.tahoe.metering.DeltaLogging.$anonfun$recordDeltaOperationInternal$2(DeltaLogging.scala:178)\n\tat com.databricks.spark.util.FrameProfiler$.record(FrameProfiler.scala:94)\n\tat com.databricks.sql.transaction.tahoe.metering.DeltaLogging.recordFrameProfile(DeltaLogging.scala:418)\n\tat com.databricks.sql.transaction.tahoe.metering.DeltaLogging.recordFrameProfile$(DeltaLogging.scala:416)\n\tat com.databricks.sql.transaction.tahoe.commands.VacuumCommand$.recordFrameProfile(VacuumCommand.scala:81)\n\tat com.databricks.sql.transaction.tahoe.metering.DeltaLogging.$anonfun$recordDeltaOperationInternal$1(DeltaLogging.scala:177)\n\tat com.databricks.logging.UsageLogging.$anonfun$recordOperation$1(UsageLogging.scala:510)\n\tat com.databricks.logging.UsageLogging.executeThunkAndCaptureResultTags$1(UsageLogging.scala:616)\n\tat com.databricks.logging.UsageLogging.$anonfun$recordOperationWithResultTags$4(UsageLogging.scala:643)\n\tat com.databricks.logging.AttributionContextTracing.$anonfun$withAttributionContext$1(AttributionContextTracing.scala:49)\n\tat com.databricks.logging.AttributionContext$.$anonfun$withValue$1(AttributionContext.scala:293)\n\tat scala.util.DynamicVariable.withValue(DynamicVariable.scala:59)\n\tat com.databricks.logging.AttributionContext$.withValue(AttributionContext.scala:289)\n\tat com.databricks.logging.AttributionContextTracing.withAttributionContext(AttributionContextTracing.scala:47)\n\tat com.databricks.logging.AttributionContextTracing.withAttributionContext$(AttributionContextTracing.scala:44)\n\tat com.databricks.spark.util.PublicDBLogging.withAttributionContext(DatabricksSparkUsageLogger.scala:30)\n\tat com.databricks.logging.AttributionContextTracing.withAttributionTags(AttributionContextTracing.scala:96)\n\tat com.databricks.logging.AttributionContextTracing.withAttributionTags$(AttributionContextTracing.scala:77)\n\tat com.databricks.spark.util.PublicDBLogging.withAttributionTags(DatabricksSparkUsageLogger.scala:30)\n\tat com.databricks.logging.UsageLogging.recordOperationWithResultTags(UsageLogging.scala:611)\n\tat com.databricks.logging.UsageLogging.recordOperationWithResultTags$(UsageLogging.scala:519)\n\tat com.databricks.spark.util.PublicDBLogging.recordOperationWithResultTags(DatabricksSparkUsageLogger.scala:30)\n\tat com.databricks.logging.UsageLogging.recordOperation(UsageLogging.scala:511)\n\tat com.databricks.logging.UsageLogging.recordOperation$(UsageLogging.scala:475)\n\tat com.databricks.spark.util.PublicDBLogging.recordOperation(DatabricksSparkUsageLogger.scala:30)\n\tat com.databricks.spark.util.PublicDBLogging.recordOperation0(DatabricksSparkUsageLogger.scala:120)\n\tat com.databricks.spark.util.DatabricksSparkUsageLogger.recordOperation(DatabricksSparkUsageLogger.scala:210)\n\tat com.databricks.spark.util.UsageLogger.recordOperation(UsageLogger.scala:78)\n\tat com.databricks.spark.util.UsageLogger.recordOperation$(UsageLogger.scala:65)\n\tat com.databricks.spark.util.DatabricksSparkUsageLogger.recordOperation(DatabricksSparkUsageLogger.scala:169)\n\tat com.databricks.spark.util.UsageLogging.recordOperation(UsageLogger.scala:537)\n\tat com.databricks.spark.util.UsageLogging.recordOperation$(UsageLogger.scala:516)\n\tat com.databricks.sql.transaction.tahoe.commands.VacuumCommand$.recordOperation(VacuumCommand.scala:81)\n\tat com.databricks.sql.transaction.tahoe.metering.DeltaLogging.recordDeltaOperationInternal(DeltaLogging.scala:176)\n\tat com.databricks.sql.transaction.tahoe.metering.DeltaLogging.recordDeltaOperation(DeltaLogging.scala:166)\n\tat com.databricks.sql.transaction.tahoe.metering.DeltaLogging.recordDeltaOperation$(DeltaLogging.scala:155)\n\tat com.databricks.sql.transaction.tahoe.commands.VacuumCommand$.recordDeltaOperation(VacuumCommand.scala:81)\n\tat com.databricks.sql.transaction.tahoe.commands.VacuumCommand$.$anonfun$gc$1(VacuumCommand.scala:267)\n\tat com.databricks.sql.acl.CheckPermissions$.$anonfun$trusted$1(CheckPermissions.scala:2439)\n\tat com.databricks.sql.util.ThreadLocalTagger.withTag(QueryTagger.scala:63)\n\tat com.databricks.sql.util.ThreadLocalTagger.withTag$(QueryTagger.scala:60)\n\tat com.databricks.sql.util.QueryTagger$.withTag(QueryTagger.scala:220)\n\tat com.databricks.sql.acl.CheckPermissions$.trusted(CheckPermissions.scala:2439)\n\tat com.databricks.sql.transaction.tahoe.commands.VacuumCommand$.gc(VacuumCommand.scala:264)\n\tat com.databricks.sql.transaction.directory.VacuumTableCommand.$anonfun$run$1(VacuumTableCommand.scala:335)\n\tat com.databricks.sql.acl.CheckPermissions$.$anonfun$trusted$2(CheckPermissions.scala:2459)\n\tat com.databricks.sql.util.ThreadLocalTagger.withTag(QueryTagger.scala:63)\n\tat com.databricks.sql.util.ThreadLocalTagger.withTag$(QueryTagger.scala:60)\n\tat com.databricks.sql.util.QueryTagger$.withTag(QueryTagger.scala:220)\n\tat com.databricks.sql.acl.CheckPermissions$.trusted(CheckPermissions.scala:2459)\n\tat com.databricks.sql.transaction.directory.VacuumTableCommand.run(VacuumTableCommand.scala:205)\n\tat org.apache.spark.sql.execution.command.ExecutedCommandExec.$anonfun$sideEffectResult$2(commands.scala:86)\n\tat org.apache.spark.sql.execution.SparkPlan.runCommandInAetherOrSpark(SparkPlan.scala:195)\n\tat org.apache.spark.sql.execution.command.ExecutedCommandExec.$anonfun$sideEffectResult$1(commands.scala:86)\n\tat com.databricks.spark.util.FrameProfiler$.record(FrameProfiler.scala:94)\n\tat org.apache.spark.sql.execution.command.ExecutedCommandExec.sideEffectResult$lzycompute(commands.scala:83)\n\tat org.apache.spark.sql.execution.command.ExecutedCommandExec.sideEffectResult(commands.scala:82)\n\tat org.apache.spark.sql.execution.command.ExecutedCommandExec.executeCollect(commands.scala:96)\n\tat org.apache.spark.sql.execution.QueryExecution.$anonfun$eagerlyExecuteCommands$5(QueryExecution.scala:461)\n\tat com.databricks.util.LexicalThreadLocal$Handle.runWith(LexicalThreadLocal.scala:63)\n\tat org.apache.spark.sql.execution.QueryExecution.$anonfun$eagerlyExecuteCommands$4(QueryExecution.scala:461)\n\tat org.apache.spark.sql.catalyst.QueryPlanningTracker$.withTracker(QueryPlanningTracker.scala:246)\n\tat org.apache.spark.sql.execution.QueryExecution.$anonfun$eagerlyExecuteCommands$3(QueryExecution.scala:460)\n\tat org.apache.spark.sql.execution.SQLExecution$.$anonfun$withNewExecutionId0$13(SQLExecution.scala:523)\n\tat com.databricks.sql.util.MemoryTrackerHelper.withMemoryTracking(MemoryTrackerHelper.scala:111)\n\tat org.apache.spark.sql.execution.SQLExecution$.$anonfun$withNewExecutionId0$12(SQLExecution.scala:443)\n\tat org.apache.spark.sql.execution.SQLExecution$.withSessionTagsApplied(SQLExecution.scala:817)\n\tat org.apache.spark.sql.execution.SQLExecution$.$anonfun$withNewExecutionId0$11(SQLExecution.scala:372)\n\tat org.apache.spark.JobArtifactSet$.withActiveJobArtifactState(JobArtifactSet.scala:97)\n\tat org.apache.spark.sql.artifact.ArtifactManager.$anonfun$withResources$1(ArtifactManager.scala:121)\n\tat org.apache.spark.sql.artifact.ArtifactManager.withClassLoaderIfNeeded(ArtifactManager.scala:115)\n\tat org.apache.spark.sql.artifact.ArtifactManager.withResources(ArtifactManager.scala:120)\n\tat org.apache.spark.sql.execution.SQLExecution$.$anonfun$withNewExecutionId0$10(SQLExecution.scala:372)\n\tat org.apache.spark.sql.execution.SQLExecution$.withSQLConfPropagated(SQLExecution.scala:846)\n\tat org.apache.spark.sql.execution.SQLExecution$.$anonfun$withNewExecutionId0$1(SQLExecution.scala:371)\n\tat org.apache.spark.sql.SparkSession.withActive(SparkSession.scala:860)\n\tat org.apache.spark.sql.execution.SQLExecution$.withNewExecutionId0(SQLExecution.scala:237)\n\tat org.apache.spark.sql.execution.SQLExecution$.withNewExecutionId(SQLExecution.scala:770)\n\tat org.apache.spark.sql.execution.QueryExecution.$anonfun$eagerlyExecuteCommands$2(QueryExecution.scala:456)\n\tat org.apache.spark.sql.execution.QueryExecution$.withInternalError(QueryExecution.scala:1339)\n\tat org.apache.spark.sql.execution.QueryExecution.$anonfun$eagerlyExecuteCommands$1(QueryExecution.scala:452)\n\tat org.apache.spark.sql.execution.QueryExecution.withMVTagsIfNecessary(QueryExecution.scala:381)\n\tat org.apache.spark.sql.execution.QueryExecution.org$apache$spark$sql$execution$QueryExecution$$eagerlyExecute$1(QueryExecution.scala:450)\n\tat org.apache.spark.sql.execution.QueryExecution$$anonfun$$nestedInanonfun$eagerlyExecuteCommands$8$1.applyOrElse(QueryExecution.scala:517)\n\tat org.apache.spark.sql.execution.QueryExecution$$anonfun$$nestedInanonfun$eagerlyExecuteCommands$8$1.applyOrElse(QueryExecution.scala:509)\n\tat org.apache.spark.sql.catalyst.trees.TreeNode.$anonfun$transformDownWithPruning$1(TreeNode.scala:521)\n\tat org.apache.spark.sql.catalyst.trees.CurrentOrigin$.withOrigin(origin.scala:121)\n\tat org.apache.spark.sql.catalyst.trees.TreeNode.transformDownWithPruning(TreeNode.scala:521)\n\tat org.apache.spark.sql.catalyst.plans.logical.LogicalPlan.org$apache$spark$sql$catalyst$plans$logical$AnalysisHelper$$super$transformDownWithPruning(LogicalPlan.scala:42)\n\tat org.apache.spark.sql.catalyst.plans.logical.AnalysisHelper.transformDownWithPruning(AnalysisHelper.scala:361)\n\tat org.apache.spark.sql.catalyst.plans.logical.AnalysisHelper.transformDownWithPruning$(AnalysisHelper.scala:357)\n\tat org.apache.spark.sql.catalyst.plans.logical.LogicalPlan.transformDownWithPruning(LogicalPlan.scala:42)\n\tat org.apache.spark.sql.catalyst.plans.logical.LogicalPlan.transformDownWithPruning(LogicalPlan.scala:42)\n\tat org.apache.spark.sql.catalyst.trees.TreeNode.transformDown(TreeNode.scala:497)\n\tat org.apache.spark.sql.execution.QueryExecution.$anonfun$eagerlyExecuteCommands$8(QueryExecution.scala:509)\n\tat org.apache.spark.sql.catalyst.plans.logical.AnalysisHelper$.allowInvokingTransformsInAnalyzer(AnalysisHelper.scala:418)\n\tat org.apache.spark.sql.execution.QueryExecution.eagerlyExecuteCommands(QueryExecution.scala:509)\n\tat org.apache.spark.sql.execution.QueryExecution.$anonfun$lazyCommandExecuted$1(QueryExecution.scala:337)\n\tat scala.util.Try$.apply(Try.scala:217)\n\tat org.apache.spark.util.Utils$.doTryWithCallerStacktrace(Utils.scala:1687)\n\tat org.apache.spark.util.Utils$.getTryWithCallerStacktrace(Utils.scala:1748)\n\tat org.apache.spark.util.LazyTry.get(LazyTry.scala:58)\n\tat org.apache.spark.sql.execution.QueryExecution.commandExecuted(QueryExecution.scala:342)\n\tat org.apache.spark.sql.classic.Dataset.<init>(Dataset.scala:428)\n\tat org.apache.spark.sql.classic.Dataset$.$anonfun$ofRows$3(Dataset.scala:155)\n\tat org.apache.spark.sql.SparkSession.withActive(SparkSession.scala:860)\n\tat org.apache.spark.sql.classic.SparkSession.$anonfun$withActiveAndFrameProfiler$1(SparkSession.scala:1157)\n\tat com.databricks.spark.util.FrameProfiler$.record(FrameProfiler.scala:94)\n\tat org.apache.spark.sql.classic.SparkSession.withActiveAndFrameProfiler(SparkSession.scala:1157)\n\tat org.apache.spark.sql.classic.Dataset$.ofRows(Dataset.scala:146)\n\tat org.apache.spark.sql.classic.SparkSession.$anonfun$sql$4(SparkSession.scala:936)\n\tat org.apache.spark.sql.SparkSession.withActive(SparkSession.scala:860)\n\tat org.apache.spark.sql.classic.SparkSession.sql(SparkSession.scala:888)\n\tat org.apache.spark.sql.connect.planner.SparkConnectPlanner.executeSQL(SparkConnectPlanner.scala:3382)\n\tat org.apache.spark.sql.connect.planner.SparkConnectPlanner.handleSqlCommand(SparkConnectPlanner.scala:3211)\n\tat org.apache.spark.sql.connect.planner.SparkConnectPlanner.process(SparkConnectPlanner.scala:3089)\n\tat org.apache.spark.sql.connect.execution.ExecuteThreadRunner.handleCommand(ExecuteThreadRunner.scala:419)\n\tat org.apache.spark.sql.connect.execution.ExecuteThreadRunner.$anonfun$executeInternal$1(ExecuteThreadRunner.scala:316)\n\tat org.apache.spark.sql.connect.execution.ExecuteThreadRunner.$anonfun$executeInternal$1$adapted(ExecuteThreadRunner.scala:237)\n\tat org.apache.spark.sql.connect.service.SessionHolder.$anonfun$withSession$2(SessionHolder.scala:466)\n\tat org.apache.spark.sql.SparkSession.withActive(SparkSession.scala:860)\n\tat org.apache.spark.sql.connect.service.SessionHolder.$anonfun$withSession$1(SessionHolder.scala:466)\n\tat org.apache.spark.JobArtifactSet$.withActiveJobArtifactState(JobArtifactSet.scala:97)\n\tat org.apache.spark.sql.artifact.ArtifactManager.$anonfun$withResources$1(ArtifactManager.scala:121)\n\tat org.apache.spark.sql.artifact.ArtifactManager.withClassLoaderIfNeeded(ArtifactManager.scala:115)\n\tat org.apache.spark.sql.artifact.ArtifactManager.withResources(ArtifactManager.scala:120)\n\tat org.apache.spark.sql.connect.service.SessionHolder.withSession(SessionHolder.scala:465)\n\tat org.apache.spark.sql.connect.execution.ExecuteThreadRunner.executeInternal(ExecuteThreadRunner.scala:237)\n\tat org.apache.spark.sql.connect.execution.ExecuteThreadRunner.org$apache$spark$sql$connect$execution$ExecuteThreadRunner$$execute(ExecuteThreadRunner.scala:140)\n\tat org.apache.spark.sql.connect.execution.ExecuteThreadRunner$ExecutionThread.$anonfun$run$2(ExecuteThreadRunner.scala:620)\n\tat scala.runtime.java8.JFunction0$mcV$sp.apply(JFunction0$mcV$sp.scala:18)\n\tat com.databricks.unity.UCSEphemeralState$Handle.runWith(UCSEphemeralState.scala:51)\n\tat com.databricks.unity.HandleImpl.runWith(UCSHandle.scala:104)\n\tat com.databricks.unity.HandleImpl.$anonfun$runWithAndClose$1(UCSHandle.scala:109)\n\tat scala.util.Using$.resource(Using.scala:296)\n\tat com.databricks.unity.HandleImpl.runWithAndClose(UCSHandle.scala:108)\n\tat org.apache.spark.sql.connect.execution.ExecuteThreadRunner$ExecutionThread.run(ExecuteThreadRunner.scala:620)"
       },
       "removedWidgets": [],
       "sqlProps": {
        "errorClass": "",
        "pysparkCallSite": "",
        "pysparkFragment": "",
        "pysparkSummary": null,
        "sqlState": "XXKCM",
        "stackTrace": "java.lang.IllegalArgumentException\n\tat scala.Predef$.require(Predef.scala:337)\n\tat com.databricks.sql.transaction.tahoe.commands.VacuumCommand$.checkRetentionPeriodSafety(VacuumCommand.scala:130)\n\tat com.databricks.sql.transaction.tahoe.commands.VacuumCommand$.getValidFilesFromSnapshot(VacuumCommand.scala:150)\n\tat com.databricks.sql.transaction.tahoe.commands.VacuumCommand$.$anonfun$gc$2(VacuumCommand.scala:374)\n\tat com.databricks.sql.transaction.tahoe.metering.DeltaLogging.withOperationTypeTag(DeltaLogging.scala:325)\n\tat com.databricks.sql.transaction.tahoe.metering.DeltaLogging.withOperationTypeTag$(DeltaLogging.scala:312)\n\tat com.databricks.sql.transaction.tahoe.commands.VacuumCommand$.withOperationTypeTag(VacuumCommand.scala:81)\n\tat com.databricks.sql.transaction.tahoe.metering.DeltaLogging.$anonfun$recordDeltaOperationInternal$2(DeltaLogging.scala:178)\n\tat com.databricks.spark.util.FrameProfiler$.record(FrameProfiler.scala:94)\n\tat com.databricks.sql.transaction.tahoe.metering.DeltaLogging.recordFrameProfile(DeltaLogging.scala:418)\n\tat com.databricks.sql.transaction.tahoe.metering.DeltaLogging.recordFrameProfile$(DeltaLogging.scala:416)\n\tat com.databricks.sql.transaction.tahoe.commands.VacuumCommand$.recordFrameProfile(VacuumCommand.scala:81)\n\tat com.databricks.sql.transaction.tahoe.metering.DeltaLogging.$anonfun$recordDeltaOperationInternal$1(DeltaLogging.scala:177)\n\tat com.databricks.logging.UsageLogging.$anonfun$recordOperation$1(UsageLogging.scala:510)\n\tat com.databricks.logging.UsageLogging.executeThunkAndCaptureResultTags$1(UsageLogging.scala:616)\n\tat com.databricks.logging.UsageLogging.$anonfun$recordOperationWithResultTags$4(UsageLogging.scala:643)\n\tat com.databricks.logging.AttributionContextTracing.$anonfun$withAttributionContext$1(AttributionContextTracing.scala:49)\n\tat com.databricks.logging.AttributionContext$.$anonfun$withValue$1(AttributionContext.scala:293)\n\tat scala.util.DynamicVariable.withValue(DynamicVariable.scala:59)\n\tat com.databricks.logging.AttributionContext$.withValue(AttributionContext.scala:289)\n\tat com.databricks.logging.AttributionContextTracing.withAttributionContext(AttributionContextTracing.scala:47)\n\tat com.databricks.logging.AttributionContextTracing.withAttributionContext$(AttributionContextTracing.scala:44)\n\tat com.databricks.spark.util.PublicDBLogging.withAttributionContext(DatabricksSparkUsageLogger.scala:30)\n\tat com.databricks.logging.AttributionContextTracing.withAttributionTags(AttributionContextTracing.scala:96)\n\tat com.databricks.logging.AttributionContextTracing.withAttributionTags$(AttributionContextTracing.scala:77)\n\tat com.databricks.spark.util.PublicDBLogging.withAttributionTags(DatabricksSparkUsageLogger.scala:30)\n\tat com.databricks.logging.UsageLogging.recordOperationWithResultTags(UsageLogging.scala:611)\n\tat com.databricks.logging.UsageLogging.recordOperationWithResultTags$(UsageLogging.scala:519)\n\tat com.databricks.spark.util.PublicDBLogging.recordOperationWithResultTags(DatabricksSparkUsageLogger.scala:30)\n\tat com.databricks.logging.UsageLogging.recordOperation(UsageLogging.scala:511)\n\tat com.databricks.logging.UsageLogging.recordOperation$(UsageLogging.scala:475)\n\tat com.databricks.spark.util.PublicDBLogging.recordOperation(DatabricksSparkUsageLogger.scala:30)\n\tat com.databricks.spark.util.PublicDBLogging.recordOperation0(DatabricksSparkUsageLogger.scala:120)\n\tat com.databricks.spark.util.DatabricksSparkUsageLogger.recordOperation(DatabricksSparkUsageLogger.scala:210)\n\tat com.databricks.spark.util.UsageLogger.recordOperation(UsageLogger.scala:78)\n\tat com.databricks.spark.util.UsageLogger.recordOperation$(UsageLogger.scala:65)\n\tat com.databricks.spark.util.DatabricksSparkUsageLogger.recordOperation(DatabricksSparkUsageLogger.scala:169)\n\tat com.databricks.spark.util.UsageLogging.recordOperation(UsageLogger.scala:537)\n\tat com.databricks.spark.util.UsageLogging.recordOperation$(UsageLogger.scala:516)\n\tat com.databricks.sql.transaction.tahoe.commands.VacuumCommand$.recordOperation(VacuumCommand.scala:81)\n\tat com.databricks.sql.transaction.tahoe.metering.DeltaLogging.recordDeltaOperationInternal(DeltaLogging.scala:176)\n\tat com.databricks.sql.transaction.tahoe.metering.DeltaLogging.recordDeltaOperation(DeltaLogging.scala:166)\n\tat com.databricks.sql.transaction.tahoe.metering.DeltaLogging.recordDeltaOperation$(DeltaLogging.scala:155)\n\tat com.databricks.sql.transaction.tahoe.commands.VacuumCommand$.recordDeltaOperation(VacuumCommand.scala:81)\n\tat com.databricks.sql.transaction.tahoe.commands.VacuumCommand$.$anonfun$gc$1(VacuumCommand.scala:267)\n\tat com.databricks.sql.acl.CheckPermissions$.$anonfun$trusted$1(CheckPermissions.scala:2439)\n\tat com.databricks.sql.util.ThreadLocalTagger.withTag(QueryTagger.scala:63)\n\tat com.databricks.sql.util.ThreadLocalTagger.withTag$(QueryTagger.scala:60)\n\tat com.databricks.sql.util.QueryTagger$.withTag(QueryTagger.scala:220)\n\tat com.databricks.sql.acl.CheckPermissions$.trusted(CheckPermissions.scala:2439)\n\tat com.databricks.sql.transaction.tahoe.commands.VacuumCommand$.gc(VacuumCommand.scala:264)\n\tat com.databricks.sql.transaction.directory.VacuumTableCommand.$anonfun$run$1(VacuumTableCommand.scala:335)\n\tat com.databricks.sql.acl.CheckPermissions$.$anonfun$trusted$2(CheckPermissions.scala:2459)\n\tat com.databricks.sql.util.ThreadLocalTagger.withTag(QueryTagger.scala:63)\n\tat com.databricks.sql.util.ThreadLocalTagger.withTag$(QueryTagger.scala:60)\n\tat com.databricks.sql.util.QueryTagger$.withTag(QueryTagger.scala:220)\n\tat com.databricks.sql.acl.CheckPermissions$.trusted(CheckPermissions.scala:2459)\n\tat com.databricks.sql.transaction.directory.VacuumTableCommand.run(VacuumTableCommand.scala:205)\n\tat org.apache.spark.sql.execution.command.ExecutedCommandExec.$anonfun$sideEffectResult$2(commands.scala:86)\n\tat org.apache.spark.sql.execution.SparkPlan.runCommandInAetherOrSpark(SparkPlan.scala:195)\n\tat org.apache.spark.sql.execution.command.ExecutedCommandExec.$anonfun$sideEffectResult$1(commands.scala:86)\n\tat com.databricks.spark.util.FrameProfiler$.record(FrameProfiler.scala:94)\n\tat org.apache.spark.sql.execution.command.ExecutedCommandExec.sideEffectResult$lzycompute(commands.scala:83)\n\tat org.apache.spark.sql.execution.command.ExecutedCommandExec.sideEffectResult(commands.scala:82)\n\tat org.apache.spark.sql.execution.command.ExecutedCommandExec.executeCollect(commands.scala:96)\n\tat org.apache.spark.sql.execution.QueryExecution.$anonfun$eagerlyExecuteCommands$5(QueryExecution.scala:461)\n\tat com.databricks.util.LexicalThreadLocal$Handle.runWith(LexicalThreadLocal.scala:63)\n\tat org.apache.spark.sql.execution.QueryExecution.$anonfun$eagerlyExecuteCommands$4(QueryExecution.scala:461)\n\tat org.apache.spark.sql.catalyst.QueryPlanningTracker$.withTracker(QueryPlanningTracker.scala:246)\n\tat org.apache.spark.sql.execution.QueryExecution.$anonfun$eagerlyExecuteCommands$3(QueryExecution.scala:460)\n\tat org.apache.spark.sql.execution.SQLExecution$.$anonfun$withNewExecutionId0$13(SQLExecution.scala:523)\n\tat com.databricks.sql.util.MemoryTrackerHelper.withMemoryTracking(MemoryTrackerHelper.scala:111)\n\tat org.apache.spark.sql.execution.SQLExecution$.$anonfun$withNewExecutionId0$12(SQLExecution.scala:443)\n\tat org.apache.spark.sql.execution.SQLExecution$.withSessionTagsApplied(SQLExecution.scala:817)\n\tat org.apache.spark.sql.execution.SQLExecution$.$anonfun$withNewExecutionId0$11(SQLExecution.scala:372)\n\tat org.apache.spark.JobArtifactSet$.withActiveJobArtifactState(JobArtifactSet.scala:97)\n\tat org.apache.spark.sql.artifact.ArtifactManager.$anonfun$withResources$1(ArtifactManager.scala:121)\n\tat org.apache.spark.sql.artifact.ArtifactManager.withClassLoaderIfNeeded(ArtifactManager.scala:115)\n\tat org.apache.spark.sql.artifact.ArtifactManager.withResources(ArtifactManager.scala:120)\n\tat org.apache.spark.sql.execution.SQLExecution$.$anonfun$withNewExecutionId0$10(SQLExecution.scala:372)\n\tat org.apache.spark.sql.execution.SQLExecution$.withSQLConfPropagated(SQLExecution.scala:846)\n\tat org.apache.spark.sql.execution.SQLExecution$.$anonfun$withNewExecutionId0$1(SQLExecution.scala:371)\n\tat org.apache.spark.sql.SparkSession.withActive(SparkSession.scala:860)\n\tat org.apache.spark.sql.execution.SQLExecution$.withNewExecutionId0(SQLExecution.scala:237)\n\tat org.apache.spark.sql.execution.SQLExecution$.withNewExecutionId(SQLExecution.scala:770)\n\tat org.apache.spark.sql.execution.QueryExecution.$anonfun$eagerlyExecuteCommands$2(QueryExecution.scala:456)\n\tat org.apache.spark.sql.execution.QueryExecution$.withInternalError(QueryExecution.scala:1339)\n\tat org.apache.spark.sql.execution.QueryExecution.$anonfun$eagerlyExecuteCommands$1(QueryExecution.scala:452)\n\tat org.apache.spark.sql.execution.QueryExecution.withMVTagsIfNecessary(QueryExecution.scala:381)\n\tat org.apache.spark.sql.execution.QueryExecution.org$apache$spark$sql$execution$QueryExecution$$eagerlyExecute$1(QueryExecution.scala:450)\n\tat org.apache.spark.sql.execution.QueryExecution$$anonfun$$nestedInanonfun$eagerlyExecuteCommands$8$1.applyOrElse(QueryExecution.scala:517)\n\tat org.apache.spark.sql.execution.QueryExecution$$anonfun$$nestedInanonfun$eagerlyExecuteCommands$8$1.applyOrElse(QueryExecution.scala:509)\n\tat org.apache.spark.sql.catalyst.trees.TreeNode.$anonfun$transformDownWithPruning$1(TreeNode.scala:521)\n\tat org.apache.spark.sql.catalyst.trees.CurrentOrigin$.withOrigin(origin.scala:121)\n\tat org.apache.spark.sql.catalyst.trees.TreeNode.transformDownWithPruning(TreeNode.scala:521)\n\tat org.apache.spark.sql.catalyst.plans.logical.LogicalPlan.org$apache$spark$sql$catalyst$plans$logical$AnalysisHelper$$super$transformDownWithPruning(LogicalPlan.scala:42)\n\tat org.apache.spark.sql.catalyst.plans.logical.AnalysisHelper.transformDownWithPruning(AnalysisHelper.scala:361)\n\tat org.apache.spark.sql.catalyst.plans.logical.AnalysisHelper.transformDownWithPruning$(AnalysisHelper.scala:357)\n\tat org.apache.spark.sql.catalyst.plans.logical.LogicalPlan.transformDownWithPruning(LogicalPlan.scala:42)\n\tat org.apache.spark.sql.catalyst.plans.logical.LogicalPlan.transformDownWithPruning(LogicalPlan.scala:42)\n\tat org.apache.spark.sql.catalyst.trees.TreeNode.transformDown(TreeNode.scala:497)\n\tat org.apache.spark.sql.execution.QueryExecution.$anonfun$eagerlyExecuteCommands$8(QueryExecution.scala:509)\n\tat org.apache.spark.sql.catalyst.plans.logical.AnalysisHelper$.allowInvokingTransformsInAnalyzer(AnalysisHelper.scala:418)\n\tat org.apache.spark.sql.execution.QueryExecution.eagerlyExecuteCommands(QueryExecution.scala:509)\n\tat org.apache.spark.sql.execution.QueryExecution.$anonfun$lazyCommandExecuted$1(QueryExecution.scala:337)\n\tat scala.util.Try$.apply(Try.scala:217)\n\tat org.apache.spark.util.Utils$.doTryWithCallerStacktrace(Utils.scala:1687)\n\tat org.apache.spark.util.Utils$.getTryWithCallerStacktrace(Utils.scala:1748)\n\tat org.apache.spark.util.LazyTry.get(LazyTry.scala:58)\n\tat org.apache.spark.sql.execution.QueryExecution.commandExecuted(QueryExecution.scala:342)\n\tat org.apache.spark.sql.classic.Dataset.<init>(Dataset.scala:428)\n\tat org.apache.spark.sql.classic.Dataset$.$anonfun$ofRows$3(Dataset.scala:155)\n\tat org.apache.spark.sql.SparkSession.withActive(SparkSession.scala:860)\n\tat org.apache.spark.sql.classic.SparkSession.$anonfun$withActiveAndFrameProfiler$1(SparkSession.scala:1157)\n\tat com.databricks.spark.util.FrameProfiler$.record(FrameProfiler.scala:94)\n\tat org.apache.spark.sql.classic.SparkSession.withActiveAndFrameProfiler(SparkSession.scala:1157)\n\tat org.apache.spark.sql.classic.Dataset$.ofRows(Dataset.scala:146)\n\tat org.apache.spark.sql.classic.SparkSession.$anonfun$sql$4(SparkSession.scala:936)\n\tat org.apache.spark.sql.SparkSession.withActive(SparkSession.scala:860)\n\tat org.apache.spark.sql.classic.SparkSession.sql(SparkSession.scala:888)\n\tat org.apache.spark.sql.connect.planner.SparkConnectPlanner.executeSQL(SparkConnectPlanner.scala:3382)\n\tat org.apache.spark.sql.connect.planner.SparkConnectPlanner.handleSqlCommand(SparkConnectPlanner.scala:3211)\n\tat org.apache.spark.sql.connect.planner.SparkConnectPlanner.process(SparkConnectPlanner.scala:3089)\n\tat org.apache.spark.sql.connect.execution.ExecuteThreadRunner.handleCommand(ExecuteThreadRunner.scala:419)\n\tat org.apache.spark.sql.connect.execution.ExecuteThreadRunner.$anonfun$executeInternal$1(ExecuteThreadRunner.scala:316)\n\tat org.apache.spark.sql.connect.execution.ExecuteThreadRunner.$anonfun$executeInternal$1$adapted(ExecuteThreadRunner.scala:237)\n\tat org.apache.spark.sql.connect.service.SessionHolder.$anonfun$withSession$2(SessionHolder.scala:466)\n\tat org.apache.spark.sql.SparkSession.withActive(SparkSession.scala:860)\n\tat org.apache.spark.sql.connect.service.SessionHolder.$anonfun$withSession$1(SessionHolder.scala:466)\n\tat org.apache.spark.JobArtifactSet$.withActiveJobArtifactState(JobArtifactSet.scala:97)\n\tat org.apache.spark.sql.artifact.ArtifactManager.$anonfun$withResources$1(ArtifactManager.scala:121)\n\tat org.apache.spark.sql.artifact.ArtifactManager.withClassLoaderIfNeeded(ArtifactManager.scala:115)\n\tat org.apache.spark.sql.artifact.ArtifactManager.withResources(ArtifactManager.scala:120)\n\tat org.apache.spark.sql.connect.service.SessionHolder.withSession(SessionHolder.scala:465)\n\tat org.apache.spark.sql.connect.execution.ExecuteThreadRunner.executeInternal(ExecuteThreadRunner.scala:237)\n\tat org.apache.spark.sql.connect.execution.ExecuteThreadRunner.org$apache$spark$sql$connect$execution$ExecuteThreadRunner$$execute(ExecuteThreadRunner.scala:140)\n\tat org.apache.spark.sql.connect.execution.ExecuteThreadRunner$ExecutionThread.$anonfun$run$2(ExecuteThreadRunner.scala:620)\n\tat scala.runtime.java8.JFunction0$mcV$sp.apply(JFunction0$mcV$sp.scala:18)\n\tat com.databricks.unity.UCSEphemeralState$Handle.runWith(UCSEphemeralState.scala:51)\n\tat com.databricks.unity.HandleImpl.runWith(UCSHandle.scala:104)\n\tat com.databricks.unity.HandleImpl.$anonfun$runWithAndClose$1(UCSHandle.scala:109)\n\tat scala.util.Using$.resource(Using.scala:296)\n\tat com.databricks.unity.HandleImpl.runWithAndClose(UCSHandle.scala:108)\n\tat org.apache.spark.sql.connect.execution.ExecuteThreadRunner$ExecutionThread.run(ExecuteThreadRunner.scala:620)",
        "startIndex": null,
        "stopIndex": null
       },
       "stackFrames": [
        "\u001B[0;31m---------------------------------------------------------------------------\u001B[0m",
        "\u001B[0;31mIllegalArgumentException\u001B[0m                  Traceback (most recent call last)",
        "File \u001B[0;32m<command-6168990761602673>, line 1\u001B[0m\n\u001B[0;32m----> 1\u001B[0m get_ipython()\u001B[38;5;241m.\u001B[39mrun_cell_magic(\u001B[38;5;124m'\u001B[39m\u001B[38;5;124msql\u001B[39m\u001B[38;5;124m'\u001B[39m, \u001B[38;5;124m'\u001B[39m\u001B[38;5;124m'\u001B[39m, \u001B[38;5;124m'\u001B[39m\u001B[38;5;124mvacuum delta.`/Volumes/workspace/my_delta/filestore/sink_data/my_1st_delta` retain 0 hours;\u001B[39m\u001B[38;5;130;01m\\n\u001B[39;00m\u001B[38;5;124m'\u001B[39m)\n",
        "File \u001B[0;32m/databricks/python/lib/python3.11/site-packages/IPython/core/interactiveshell.py:2541\u001B[0m, in \u001B[0;36mInteractiveShell.run_cell_magic\u001B[0;34m(self, magic_name, line, cell)\u001B[0m\n\u001B[1;32m   2539\u001B[0m \u001B[38;5;28;01mwith\u001B[39;00m \u001B[38;5;28mself\u001B[39m\u001B[38;5;241m.\u001B[39mbuiltin_trap:\n\u001B[1;32m   2540\u001B[0m     args \u001B[38;5;241m=\u001B[39m (magic_arg_s, cell)\n\u001B[0;32m-> 2541\u001B[0m     result \u001B[38;5;241m=\u001B[39m fn(\u001B[38;5;241m*\u001B[39margs, \u001B[38;5;241m*\u001B[39m\u001B[38;5;241m*\u001B[39mkwargs)\n\u001B[1;32m   2543\u001B[0m \u001B[38;5;66;03m# The code below prevents the output from being displayed\u001B[39;00m\n\u001B[1;32m   2544\u001B[0m \u001B[38;5;66;03m# when using magics with decorator @output_can_be_silenced\u001B[39;00m\n\u001B[1;32m   2545\u001B[0m \u001B[38;5;66;03m# when the last Python token in the expression is a ';'.\u001B[39;00m\n\u001B[1;32m   2546\u001B[0m \u001B[38;5;28;01mif\u001B[39;00m \u001B[38;5;28mgetattr\u001B[39m(fn, magic\u001B[38;5;241m.\u001B[39mMAGIC_OUTPUT_CAN_BE_SILENCED, \u001B[38;5;28;01mFalse\u001B[39;00m):\n",
        "File \u001B[0;32m/databricks/python_shell/lib/dbruntime/sql_magic/sql_magic.py:147\u001B[0m, in \u001B[0;36mSqlMagic.sql\u001B[0;34m(self, line, cell)\u001B[0m\n\u001B[1;32m    143\u001B[0m     \u001B[38;5;28;01mraise\u001B[39;00m \u001B[38;5;167;01mException\u001B[39;00m(\n\u001B[1;32m    144\u001B[0m         \u001B[38;5;124m\"\u001B[39m\u001B[38;5;124mCannot run \u001B[39m\u001B[38;5;132;01m%s\u001B[39;00m\u001B[38;5;124mql command because spark connect initialization failed and no stacktrace was available.\u001B[39m\u001B[38;5;124m\"\u001B[39m\n\u001B[1;32m    145\u001B[0m     )\n\u001B[1;32m    146\u001B[0m \u001B[38;5;28;01mif\u001B[39;00m \u001B[38;5;28mself\u001B[39m\u001B[38;5;241m.\u001B[39muse_py4j:\n\u001B[0;32m--> 147\u001B[0m     \u001B[38;5;28;01mreturn\u001B[39;00m \u001B[38;5;28mself\u001B[39m\u001B[38;5;241m.\u001B[39mexecute_via_py4j(cell)\n\u001B[1;32m    149\u001B[0m \u001B[38;5;28;01mreturn\u001B[39;00m \u001B[38;5;28mself\u001B[39m\u001B[38;5;241m.\u001B[39mexecute_via_sql_comm_handler(cell)\n",
        "File \u001B[0;32m/databricks/python_shell/lib/dbruntime/sql_magic/sql_magic.py:231\u001B[0m, in \u001B[0;36mSqlMagic.execute_via_py4j\u001B[0;34m(self, cell)\u001B[0m\n\u001B[1;32m    228\u001B[0m \u001B[38;5;28;01mexcept\u001B[39;00m \u001B[38;5;167;01mBaseException\u001B[39;00m \u001B[38;5;28;01mas\u001B[39;00m e:\n\u001B[1;32m    229\u001B[0m     \u001B[38;5;28mself\u001B[39m\u001B[38;5;241m.\u001B[39mdriver_activity_logger\u001B[38;5;241m.\u001B[39mlogExecuteCommandEvent(\u001B[38;5;124m\"\u001B[39m\u001B[38;5;124mSQL_MAGIC_PY4J_FAILED\u001B[39m\u001B[38;5;124m\"\u001B[39m,\n\u001B[1;32m    230\u001B[0m                                                        json\u001B[38;5;241m.\u001B[39mdumps(get_debug_info(e)))\n\u001B[0;32m--> 231\u001B[0m     \u001B[38;5;28;01mraise\u001B[39;00m e\n\u001B[1;32m    232\u001B[0m \u001B[38;5;28mself\u001B[39m\u001B[38;5;241m.\u001B[39mdriver_activity_logger\u001B[38;5;241m.\u001B[39mlogExecuteCommandEvent(\u001B[38;5;124m\"\u001B[39m\u001B[38;5;124mSQL_MAGIC_PY4J_SUCCEEDED\u001B[39m\u001B[38;5;124m\"\u001B[39m)\n\u001B[1;32m    233\u001B[0m \u001B[38;5;28;01mreturn\u001B[39;00m result\n",
        "File \u001B[0;32m/databricks/python_shell/lib/dbruntime/sql_magic/sql_magic.py:227\u001B[0m, in \u001B[0;36mSqlMagic.execute_via_py4j\u001B[0;34m(self, cell)\u001B[0m\n\u001B[1;32m    225\u001B[0m         \u001B[38;5;28mprint\u001B[39m(\u001B[38;5;124mf\u001B[39m\u001B[38;5;124m\"\u001B[39m\u001B[38;5;124mExecuting subquery: \u001B[39m\u001B[38;5;132;01m{\u001B[39;00mquery_text\u001B[38;5;132;01m}\u001B[39;00m\u001B[38;5;124m.\u001B[39m\u001B[38;5;124m\"\u001B[39m, file\u001B[38;5;241m=\u001B[39msys\u001B[38;5;241m.\u001B[39m__stdout__)  \u001B[38;5;66;03m# type: ignore\u001B[39;00m\n\u001B[1;32m    226\u001B[0m         sql_directive \u001B[38;5;241m=\u001B[39m \u001B[38;5;28mself\u001B[39m\u001B[38;5;241m.\u001B[39mentry_point\u001B[38;5;241m.\u001B[39mgetSqlDirective(query_text)\n\u001B[0;32m--> 227\u001B[0m         result \u001B[38;5;241m=\u001B[39m \u001B[38;5;28mself\u001B[39m\u001B[38;5;241m.\u001B[39mhandle_sql_directive(sql_directive, i \u001B[38;5;241m==\u001B[39m number_of_sub_queries \u001B[38;5;241m-\u001B[39m \u001B[38;5;241m1\u001B[39m)\n\u001B[1;32m    228\u001B[0m \u001B[38;5;28;01mexcept\u001B[39;00m \u001B[38;5;167;01mBaseException\u001B[39;00m \u001B[38;5;28;01mas\u001B[39;00m e:\n\u001B[1;32m    229\u001B[0m     \u001B[38;5;28mself\u001B[39m\u001B[38;5;241m.\u001B[39mdriver_activity_logger\u001B[38;5;241m.\u001B[39mlogExecuteCommandEvent(\u001B[38;5;124m\"\u001B[39m\u001B[38;5;124mSQL_MAGIC_PY4J_FAILED\u001B[39m\u001B[38;5;124m\"\u001B[39m,\n\u001B[1;32m    230\u001B[0m                                                        json\u001B[38;5;241m.\u001B[39mdumps(get_debug_info(e)))\n",
        "File \u001B[0;32m/databricks/python_shell/lib/dbruntime/sql_magic/sql_magic.py:249\u001B[0m, in \u001B[0;36mSqlMagic.handle_sql_directive\u001B[0;34m(self, sql_directive, is_last_query)\u001B[0m\n\u001B[1;32m    247\u001B[0m     df \u001B[38;5;241m=\u001B[39m \u001B[38;5;28mself\u001B[39m\u001B[38;5;241m.\u001B[39mget_query_request_result(\u001B[38;5;124mf\u001B[39m\u001B[38;5;124m\"\u001B[39m\u001B[38;5;124mSELECT * FROM \u001B[39m\u001B[38;5;132;01m{\u001B[39;00mtable_name\u001B[38;5;132;01m}\u001B[39;00m\u001B[38;5;124m\"\u001B[39m)\n\u001B[1;32m    248\u001B[0m \u001B[38;5;28;01melif\u001B[39;00m directive_name \u001B[38;5;241m==\u001B[39m \u001B[38;5;124m\"\u001B[39m\u001B[38;5;124mNoDirective\u001B[39m\u001B[38;5;124m\"\u001B[39m:\n\u001B[0;32m--> 249\u001B[0m     df \u001B[38;5;241m=\u001B[39m \u001B[38;5;28mself\u001B[39m\u001B[38;5;241m.\u001B[39mget_query_request_result(sql_directive\u001B[38;5;241m.\u001B[39msql())\n\u001B[1;32m    250\u001B[0m     \u001B[38;5;28;01mif\u001B[39;00m df \u001B[38;5;129;01mis\u001B[39;00m \u001B[38;5;28;01mNone\u001B[39;00m \u001B[38;5;129;01mor\u001B[39;00m \u001B[38;5;28mlen\u001B[39m(df\u001B[38;5;241m.\u001B[39mschema) \u001B[38;5;241m==\u001B[39m \u001B[38;5;241m0\u001B[39m:\n\u001B[1;32m    251\u001B[0m         \u001B[38;5;66;03m# E.g. \"create or replace temp view abc as select 1\" gets us here and we should not return a result in this case.\u001B[39;00m\n\u001B[1;32m    252\u001B[0m         \u001B[38;5;28;01mreturn\u001B[39;00m \u001B[38;5;28;01mNone\u001B[39;00m\n",
        "File \u001B[0;32m/databricks/python_shell/lib/dbruntime/sql_magic/sql_magic.py:124\u001B[0m, in \u001B[0;36mSqlMagic.get_query_request_result\u001B[0;34m(self, query)\u001B[0m\n\u001B[1;32m    122\u001B[0m \u001B[38;5;28;01mif\u001B[39;00m \u001B[38;5;28mlen\u001B[39m(widget_bindings \u001B[38;5;241m:=\u001B[39m \u001B[38;5;28mself\u001B[39m\u001B[38;5;241m.\u001B[39mdbutils\u001B[38;5;241m.\u001B[39mwidgets\u001B[38;5;241m.\u001B[39mgetAll()) \u001B[38;5;241m>\u001B[39m \u001B[38;5;241m0\u001B[39m:\n\u001B[1;32m    123\u001B[0m     \u001B[38;5;28mself\u001B[39m\u001B[38;5;241m.\u001B[39mdriver_activity_logger\u001B[38;5;241m.\u001B[39mlogExecuteCommandEvent(\u001B[38;5;124m\"\u001B[39m\u001B[38;5;124mPARAM_SYNTAX_USAGE\u001B[39m\u001B[38;5;124m\"\u001B[39m)\n\u001B[0;32m--> 124\u001B[0m df \u001B[38;5;241m=\u001B[39m \u001B[38;5;28mself\u001B[39m\u001B[38;5;241m.\u001B[39masserting_spark\u001B[38;5;241m.\u001B[39msql(query, widget_bindings)\n\u001B[1;32m    125\u001B[0m \u001B[38;5;28;01mreturn\u001B[39;00m df\n",
        "File \u001B[0;32m/databricks/python/lib/python3.11/site-packages/pyspark/sql/connect/session.py:736\u001B[0m, in \u001B[0;36mSparkSession.sql\u001B[0;34m(self, sqlQuery, args, **kwargs)\u001B[0m\n\u001B[1;32m    733\u001B[0m         _views\u001B[38;5;241m.\u001B[39mappend(SubqueryAlias(df\u001B[38;5;241m.\u001B[39m_plan, name))\n\u001B[1;32m    735\u001B[0m cmd \u001B[38;5;241m=\u001B[39m SQL(sqlQuery, _args, _named_args, _views)\n\u001B[0;32m--> 736\u001B[0m data, properties, ei \u001B[38;5;241m=\u001B[39m \u001B[38;5;28mself\u001B[39m\u001B[38;5;241m.\u001B[39mclient\u001B[38;5;241m.\u001B[39mexecute_command(cmd\u001B[38;5;241m.\u001B[39mcommand(\u001B[38;5;28mself\u001B[39m\u001B[38;5;241m.\u001B[39m_client))\n\u001B[1;32m    737\u001B[0m \u001B[38;5;28;01mif\u001B[39;00m \u001B[38;5;124m\"\u001B[39m\u001B[38;5;124msql_command_result\u001B[39m\u001B[38;5;124m\"\u001B[39m \u001B[38;5;129;01min\u001B[39;00m properties:\n\u001B[1;32m    738\u001B[0m     df \u001B[38;5;241m=\u001B[39m DataFrame(CachedRelation(properties[\u001B[38;5;124m\"\u001B[39m\u001B[38;5;124msql_command_result\u001B[39m\u001B[38;5;124m\"\u001B[39m]), \u001B[38;5;28mself\u001B[39m)\n",
        "File \u001B[0;32m/databricks/python/lib/python3.11/site-packages/pyspark/sql/connect/client/core.py:1303\u001B[0m, in \u001B[0;36mSparkConnectClient.execute_command\u001B[0;34m(self, command, observations, extra_request_metadata)\u001B[0m\n\u001B[1;32m   1301\u001B[0m     req\u001B[38;5;241m.\u001B[39muser_context\u001B[38;5;241m.\u001B[39muser_id \u001B[38;5;241m=\u001B[39m \u001B[38;5;28mself\u001B[39m\u001B[38;5;241m.\u001B[39m_user_id\n\u001B[1;32m   1302\u001B[0m req\u001B[38;5;241m.\u001B[39mplan\u001B[38;5;241m.\u001B[39mcommand\u001B[38;5;241m.\u001B[39mCopyFrom(command)\n\u001B[0;32m-> 1303\u001B[0m data, _, metrics, observed_metrics, properties \u001B[38;5;241m=\u001B[39m \u001B[38;5;28mself\u001B[39m\u001B[38;5;241m.\u001B[39m_execute_and_fetch(\n\u001B[1;32m   1304\u001B[0m     req, observations \u001B[38;5;129;01mor\u001B[39;00m {}, extra_request_metadata\n\u001B[1;32m   1305\u001B[0m )\n\u001B[1;32m   1306\u001B[0m \u001B[38;5;66;03m# Create a query execution object.\u001B[39;00m\n\u001B[1;32m   1307\u001B[0m ei \u001B[38;5;241m=\u001B[39m ExecutionInfo(metrics, observed_metrics)\n",
        "File \u001B[0;32m/databricks/python/lib/python3.11/site-packages/pyspark/sql/connect/client/core.py:1761\u001B[0m, in \u001B[0;36mSparkConnectClient._execute_and_fetch\u001B[0;34m(self, req, observations, extra_request_metadata, self_destruct)\u001B[0m\n\u001B[1;32m   1758\u001B[0m properties: Dict[\u001B[38;5;28mstr\u001B[39m, Any] \u001B[38;5;241m=\u001B[39m {}\n\u001B[1;32m   1760\u001B[0m \u001B[38;5;28;01mwith\u001B[39;00m Progress(handlers\u001B[38;5;241m=\u001B[39m\u001B[38;5;28mself\u001B[39m\u001B[38;5;241m.\u001B[39m_progress_handlers, operation_id\u001B[38;5;241m=\u001B[39mreq\u001B[38;5;241m.\u001B[39moperation_id) \u001B[38;5;28;01mas\u001B[39;00m progress:\n\u001B[0;32m-> 1761\u001B[0m     \u001B[38;5;28;01mfor\u001B[39;00m response \u001B[38;5;129;01min\u001B[39;00m \u001B[38;5;28mself\u001B[39m\u001B[38;5;241m.\u001B[39m_execute_and_fetch_as_iterator(\n\u001B[1;32m   1762\u001B[0m         req, observations, extra_request_metadata \u001B[38;5;129;01mor\u001B[39;00m [], progress\u001B[38;5;241m=\u001B[39mprogress\n\u001B[1;32m   1763\u001B[0m     ):\n\u001B[1;32m   1764\u001B[0m         \u001B[38;5;28;01mif\u001B[39;00m \u001B[38;5;28misinstance\u001B[39m(response, StructType):\n\u001B[1;32m   1765\u001B[0m             schema \u001B[38;5;241m=\u001B[39m response\n",
        "File \u001B[0;32m/databricks/python/lib/python3.11/site-packages/pyspark/sql/connect/client/core.py:1737\u001B[0m, in \u001B[0;36mSparkConnectClient._execute_and_fetch_as_iterator\u001B[0;34m(self, req, observations, extra_request_metadata, progress)\u001B[0m\n\u001B[1;32m   1735\u001B[0m     \u001B[38;5;28;01mraise\u001B[39;00m kb\n\u001B[1;32m   1736\u001B[0m \u001B[38;5;28;01mexcept\u001B[39;00m \u001B[38;5;167;01mException\u001B[39;00m \u001B[38;5;28;01mas\u001B[39;00m error:\n\u001B[0;32m-> 1737\u001B[0m     \u001B[38;5;28mself\u001B[39m\u001B[38;5;241m.\u001B[39m_handle_error(error)\n",
        "File \u001B[0;32m/databricks/python/lib/python3.11/site-packages/pyspark/sql/connect/client/core.py:2053\u001B[0m, in \u001B[0;36mSparkConnectClient._handle_error\u001B[0;34m(self, error)\u001B[0m\n\u001B[1;32m   2051\u001B[0m \u001B[38;5;28mself\u001B[39m\u001B[38;5;241m.\u001B[39mthread_local\u001B[38;5;241m.\u001B[39minside_error_handling \u001B[38;5;241m=\u001B[39m \u001B[38;5;28;01mTrue\u001B[39;00m\n\u001B[1;32m   2052\u001B[0m \u001B[38;5;28;01mif\u001B[39;00m \u001B[38;5;28misinstance\u001B[39m(error, grpc\u001B[38;5;241m.\u001B[39mRpcError):\n\u001B[0;32m-> 2053\u001B[0m     \u001B[38;5;28mself\u001B[39m\u001B[38;5;241m.\u001B[39m_handle_rpc_error(error)\n\u001B[1;32m   2054\u001B[0m \u001B[38;5;28;01melif\u001B[39;00m \u001B[38;5;28misinstance\u001B[39m(error, \u001B[38;5;167;01mValueError\u001B[39;00m):\n\u001B[1;32m   2055\u001B[0m     \u001B[38;5;28;01mif\u001B[39;00m \u001B[38;5;124m\"\u001B[39m\u001B[38;5;124mCannot invoke RPC\u001B[39m\u001B[38;5;124m\"\u001B[39m \u001B[38;5;129;01min\u001B[39;00m \u001B[38;5;28mstr\u001B[39m(error) \u001B[38;5;129;01mand\u001B[39;00m \u001B[38;5;124m\"\u001B[39m\u001B[38;5;124mclosed\u001B[39m\u001B[38;5;124m\"\u001B[39m \u001B[38;5;129;01min\u001B[39;00m \u001B[38;5;28mstr\u001B[39m(error):\n",
        "File \u001B[0;32m/databricks/python/lib/python3.11/site-packages/pyspark/sql/connect/client/core.py:2132\u001B[0m, in \u001B[0;36mSparkConnectClient._handle_rpc_error\u001B[0;34m(self, rpc_error)\u001B[0m\n\u001B[1;32m   2128\u001B[0m             d\u001B[38;5;241m.\u001B[39mUnpack(info)\n\u001B[1;32m   2130\u001B[0m             \u001B[38;5;28mself\u001B[39m\u001B[38;5;241m.\u001B[39m_handle_rpc_error_with_error_info(status, info)  \u001B[38;5;66;03m# EDGE\u001B[39;00m\n\u001B[0;32m-> 2132\u001B[0m             \u001B[38;5;28;01mraise\u001B[39;00m convert_exception(\n\u001B[1;32m   2133\u001B[0m                 info,\n\u001B[1;32m   2134\u001B[0m                 status\u001B[38;5;241m.\u001B[39mmessage,\n\u001B[1;32m   2135\u001B[0m                 \u001B[38;5;28mself\u001B[39m\u001B[38;5;241m.\u001B[39m_fetch_enriched_error(info),\n\u001B[1;32m   2136\u001B[0m                 \u001B[38;5;28mself\u001B[39m\u001B[38;5;241m.\u001B[39m_display_server_stack_trace(),\n\u001B[1;32m   2137\u001B[0m             ) \u001B[38;5;28;01mfrom\u001B[39;00m \u001B[38;5;28;01mNone\u001B[39;00m\n\u001B[1;32m   2139\u001B[0m     \u001B[38;5;28;01mraise\u001B[39;00m SparkConnectGrpcException(\n\u001B[1;32m   2140\u001B[0m         message\u001B[38;5;241m=\u001B[39mstatus\u001B[38;5;241m.\u001B[39mmessage,\n\u001B[1;32m   2141\u001B[0m         sql_state\u001B[38;5;241m=\u001B[39mSparkConnectGrpcException\u001B[38;5;241m.\u001B[39mCLIENT_UNEXPECTED_MISSING_SQL_STATE,  \u001B[38;5;66;03m# EDGE\u001B[39;00m\n\u001B[1;32m   2142\u001B[0m     ) \u001B[38;5;28;01mfrom\u001B[39;00m \u001B[38;5;28;01mNone\u001B[39;00m\n\u001B[1;32m   2143\u001B[0m \u001B[38;5;28;01melse\u001B[39;00m:\n",
        "\u001B[0;31mIllegalArgumentException\u001B[0m: requirement failed: Are you sure you would like to vacuum files with such a low retention period? If you have\nwriters that are currently writing to this table, there is a risk that you may corrupt the\nstate of your Delta table.\n\nIf you are certain that there are no operations being performed on this table, such as\ninsert/upsert/delete/optimize, then you may turn off this check by setting:\nspark.databricks.delta.retentionDurationCheck.enabled = false\n\nIf you are not sure, please use a value not less than \"168 hours\".\n       \n\nJVM stacktrace:\njava.lang.IllegalArgumentException\n\tat scala.Predef$.require(Predef.scala:337)\n\tat com.databricks.sql.transaction.tahoe.commands.VacuumCommand$.checkRetentionPeriodSafety(VacuumCommand.scala:130)\n\tat com.databricks.sql.transaction.tahoe.commands.VacuumCommand$.getValidFilesFromSnapshot(VacuumCommand.scala:150)\n\tat com.databricks.sql.transaction.tahoe.commands.VacuumCommand$.$anonfun$gc$2(VacuumCommand.scala:374)\n\tat com.databricks.sql.transaction.tahoe.metering.DeltaLogging.withOperationTypeTag(DeltaLogging.scala:325)\n\tat com.databricks.sql.transaction.tahoe.metering.DeltaLogging.withOperationTypeTag$(DeltaLogging.scala:312)\n\tat com.databricks.sql.transaction.tahoe.commands.VacuumCommand$.withOperationTypeTag(VacuumCommand.scala:81)\n\tat com.databricks.sql.transaction.tahoe.metering.DeltaLogging.$anonfun$recordDeltaOperationInternal$2(DeltaLogging.scala:178)\n\tat com.databricks.spark.util.FrameProfiler$.record(FrameProfiler.scala:94)\n\tat com.databricks.sql.transaction.tahoe.metering.DeltaLogging.recordFrameProfile(DeltaLogging.scala:418)\n\tat com.databricks.sql.transaction.tahoe.metering.DeltaLogging.recordFrameProfile$(DeltaLogging.scala:416)\n\tat com.databricks.sql.transaction.tahoe.commands.VacuumCommand$.recordFrameProfile(VacuumCommand.scala:81)\n\tat com.databricks.sql.transaction.tahoe.metering.DeltaLogging.$anonfun$recordDeltaOperationInternal$1(DeltaLogging.scala:177)\n\tat com.databricks.logging.UsageLogging.$anonfun$recordOperation$1(UsageLogging.scala:510)\n\tat com.databricks.logging.UsageLogging.executeThunkAndCaptureResultTags$1(UsageLogging.scala:616)\n\tat com.databricks.logging.UsageLogging.$anonfun$recordOperationWithResultTags$4(UsageLogging.scala:643)\n\tat com.databricks.logging.AttributionContextTracing.$anonfun$withAttributionContext$1(AttributionContextTracing.scala:49)\n\tat com.databricks.logging.AttributionContext$.$anonfun$withValue$1(AttributionContext.scala:293)\n\tat scala.util.DynamicVariable.withValue(DynamicVariable.scala:59)\n\tat com.databricks.logging.AttributionContext$.withValue(AttributionContext.scala:289)\n\tat com.databricks.logging.AttributionContextTracing.withAttributionContext(AttributionContextTracing.scala:47)\n\tat com.databricks.logging.AttributionContextTracing.withAttributionContext$(AttributionContextTracing.scala:44)\n\tat com.databricks.spark.util.PublicDBLogging.withAttributionContext(DatabricksSparkUsageLogger.scala:30)\n\tat com.databricks.logging.AttributionContextTracing.withAttributionTags(AttributionContextTracing.scala:96)\n\tat com.databricks.logging.AttributionContextTracing.withAttributionTags$(AttributionContextTracing.scala:77)\n\tat com.databricks.spark.util.PublicDBLogging.withAttributionTags(DatabricksSparkUsageLogger.scala:30)\n\tat com.databricks.logging.UsageLogging.recordOperationWithResultTags(UsageLogging.scala:611)\n\tat com.databricks.logging.UsageLogging.recordOperationWithResultTags$(UsageLogging.scala:519)\n\tat com.databricks.spark.util.PublicDBLogging.recordOperationWithResultTags(DatabricksSparkUsageLogger.scala:30)\n\tat com.databricks.logging.UsageLogging.recordOperation(UsageLogging.scala:511)\n\tat com.databricks.logging.UsageLogging.recordOperation$(UsageLogging.scala:475)\n\tat com.databricks.spark.util.PublicDBLogging.recordOperation(DatabricksSparkUsageLogger.scala:30)\n\tat com.databricks.spark.util.PublicDBLogging.recordOperation0(DatabricksSparkUsageLogger.scala:120)\n\tat com.databricks.spark.util.DatabricksSparkUsageLogger.recordOperation(DatabricksSparkUsageLogger.scala:210)\n\tat com.databricks.spark.util.UsageLogger.recordOperation(UsageLogger.scala:78)\n\tat com.databricks.spark.util.UsageLogger.recordOperation$(UsageLogger.scala:65)\n\tat com.databricks.spark.util.DatabricksSparkUsageLogger.recordOperation(DatabricksSparkUsageLogger.scala:169)\n\tat com.databricks.spark.util.UsageLogging.recordOperation(UsageLogger.scala:537)\n\tat com.databricks.spark.util.UsageLogging.recordOperation$(UsageLogger.scala:516)\n\tat com.databricks.sql.transaction.tahoe.commands.VacuumCommand$.recordOperation(VacuumCommand.scala:81)\n\tat com.databricks.sql.transaction.tahoe.metering.DeltaLogging.recordDeltaOperationInternal(DeltaLogging.scala:176)\n\tat com.databricks.sql.transaction.tahoe.metering.DeltaLogging.recordDeltaOperation(DeltaLogging.scala:166)\n\tat com.databricks.sql.transaction.tahoe.metering.DeltaLogging.recordDeltaOperation$(DeltaLogging.scala:155)\n\tat com.databricks.sql.transaction.tahoe.commands.VacuumCommand$.recordDeltaOperation(VacuumCommand.scala:81)\n\tat com.databricks.sql.transaction.tahoe.commands.VacuumCommand$.$anonfun$gc$1(VacuumCommand.scala:267)\n\tat com.databricks.sql.acl.CheckPermissions$.$anonfun$trusted$1(CheckPermissions.scala:2439)\n\tat com.databricks.sql.util.ThreadLocalTagger.withTag(QueryTagger.scala:63)\n\tat com.databricks.sql.util.ThreadLocalTagger.withTag$(QueryTagger.scala:60)\n\tat com.databricks.sql.util.QueryTagger$.withTag(QueryTagger.scala:220)\n\tat com.databricks.sql.acl.CheckPermissions$.trusted(CheckPermissions.scala:2439)\n\tat com.databricks.sql.transaction.tahoe.commands.VacuumCommand$.gc(VacuumCommand.scala:264)\n\tat com.databricks.sql.transaction.directory.VacuumTableCommand.$anonfun$run$1(VacuumTableCommand.scala:335)\n\tat com.databricks.sql.acl.CheckPermissions$.$anonfun$trusted$2(CheckPermissions.scala:2459)\n\tat com.databricks.sql.util.ThreadLocalTagger.withTag(QueryTagger.scala:63)\n\tat com.databricks.sql.util.ThreadLocalTagger.withTag$(QueryTagger.scala:60)\n\tat com.databricks.sql.util.QueryTagger$.withTag(QueryTagger.scala:220)\n\tat com.databricks.sql.acl.CheckPermissions$.trusted(CheckPermissions.scala:2459)\n\tat com.databricks.sql.transaction.directory.VacuumTableCommand.run(VacuumTableCommand.scala:205)\n\tat org.apache.spark.sql.execution.command.ExecutedCommandExec.$anonfun$sideEffectResult$2(commands.scala:86)\n\tat org.apache.spark.sql.execution.SparkPlan.runCommandInAetherOrSpark(SparkPlan.scala:195)\n\tat org.apache.spark.sql.execution.command.ExecutedCommandExec.$anonfun$sideEffectResult$1(commands.scala:86)\n\tat com.databricks.spark.util.FrameProfiler$.record(FrameProfiler.scala:94)\n\tat org.apache.spark.sql.execution.command.ExecutedCommandExec.sideEffectResult$lzycompute(commands.scala:83)\n\tat org.apache.spark.sql.execution.command.ExecutedCommandExec.sideEffectResult(commands.scala:82)\n\tat org.apache.spark.sql.execution.command.ExecutedCommandExec.executeCollect(commands.scala:96)\n\tat org.apache.spark.sql.execution.QueryExecution.$anonfun$eagerlyExecuteCommands$5(QueryExecution.scala:461)\n\tat com.databricks.util.LexicalThreadLocal$Handle.runWith(LexicalThreadLocal.scala:63)\n\tat org.apache.spark.sql.execution.QueryExecution.$anonfun$eagerlyExecuteCommands$4(QueryExecution.scala:461)\n\tat org.apache.spark.sql.catalyst.QueryPlanningTracker$.withTracker(QueryPlanningTracker.scala:246)\n\tat org.apache.spark.sql.execution.QueryExecution.$anonfun$eagerlyExecuteCommands$3(QueryExecution.scala:460)\n\tat org.apache.spark.sql.execution.SQLExecution$.$anonfun$withNewExecutionId0$13(SQLExecution.scala:523)\n\tat com.databricks.sql.util.MemoryTrackerHelper.withMemoryTracking(MemoryTrackerHelper.scala:111)\n\tat org.apache.spark.sql.execution.SQLExecution$.$anonfun$withNewExecutionId0$12(SQLExecution.scala:443)\n\tat org.apache.spark.sql.execution.SQLExecution$.withSessionTagsApplied(SQLExecution.scala:817)\n\tat org.apache.spark.sql.execution.SQLExecution$.$anonfun$withNewExecutionId0$11(SQLExecution.scala:372)\n\tat org.apache.spark.JobArtifactSet$.withActiveJobArtifactState(JobArtifactSet.scala:97)\n\tat org.apache.spark.sql.artifact.ArtifactManager.$anonfun$withResources$1(ArtifactManager.scala:121)\n\tat org.apache.spark.sql.artifact.ArtifactManager.withClassLoaderIfNeeded(ArtifactManager.scala:115)\n\tat org.apache.spark.sql.artifact.ArtifactManager.withResources(ArtifactManager.scala:120)\n\tat org.apache.spark.sql.execution.SQLExecution$.$anonfun$withNewExecutionId0$10(SQLExecution.scala:372)\n\tat org.apache.spark.sql.execution.SQLExecution$.withSQLConfPropagated(SQLExecution.scala:846)\n\tat org.apache.spark.sql.execution.SQLExecution$.$anonfun$withNewExecutionId0$1(SQLExecution.scala:371)\n\tat org.apache.spark.sql.SparkSession.withActive(SparkSession.scala:860)\n\tat org.apache.spark.sql.execution.SQLExecution$.withNewExecutionId0(SQLExecution.scala:237)\n\tat org.apache.spark.sql.execution.SQLExecution$.withNewExecutionId(SQLExecution.scala:770)\n\tat org.apache.spark.sql.execution.QueryExecution.$anonfun$eagerlyExecuteCommands$2(QueryExecution.scala:456)\n\tat org.apache.spark.sql.execution.QueryExecution$.withInternalError(QueryExecution.scala:1339)\n\tat org.apache.spark.sql.execution.QueryExecution.$anonfun$eagerlyExecuteCommands$1(QueryExecution.scala:452)\n\tat org.apache.spark.sql.execution.QueryExecution.withMVTagsIfNecessary(QueryExecution.scala:381)\n\tat org.apache.spark.sql.execution.QueryExecution.org$apache$spark$sql$execution$QueryExecution$$eagerlyExecute$1(QueryExecution.scala:450)\n\tat org.apache.spark.sql.execution.QueryExecution$$anonfun$$nestedInanonfun$eagerlyExecuteCommands$8$1.applyOrElse(QueryExecution.scala:517)\n\tat org.apache.spark.sql.execution.QueryExecution$$anonfun$$nestedInanonfun$eagerlyExecuteCommands$8$1.applyOrElse(QueryExecution.scala:509)\n\tat org.apache.spark.sql.catalyst.trees.TreeNode.$anonfun$transformDownWithPruning$1(TreeNode.scala:521)\n\tat org.apache.spark.sql.catalyst.trees.CurrentOrigin$.withOrigin(origin.scala:121)\n\tat org.apache.spark.sql.catalyst.trees.TreeNode.transformDownWithPruning(TreeNode.scala:521)\n\tat org.apache.spark.sql.catalyst.plans.logical.LogicalPlan.org$apache$spark$sql$catalyst$plans$logical$AnalysisHelper$$super$transformDownWithPruning(LogicalPlan.scala:42)\n\tat org.apache.spark.sql.catalyst.plans.logical.AnalysisHelper.transformDownWithPruning(AnalysisHelper.scala:361)\n\tat org.apache.spark.sql.catalyst.plans.logical.AnalysisHelper.transformDownWithPruning$(AnalysisHelper.scala:357)\n\tat org.apache.spark.sql.catalyst.plans.logical.LogicalPlan.transformDownWithPruning(LogicalPlan.scala:42)\n\tat org.apache.spark.sql.catalyst.plans.logical.LogicalPlan.transformDownWithPruning(LogicalPlan.scala:42)\n\tat org.apache.spark.sql.catalyst.trees.TreeNode.transformDown(TreeNode.scala:497)\n\tat org.apache.spark.sql.execution.QueryExecution.$anonfun$eagerlyExecuteCommands$8(QueryExecution.scala:509)\n\tat org.apache.spark.sql.catalyst.plans.logical.AnalysisHelper$.allowInvokingTransformsInAnalyzer(AnalysisHelper.scala:418)\n\tat org.apache.spark.sql.execution.QueryExecution.eagerlyExecuteCommands(QueryExecution.scala:509)\n\tat org.apache.spark.sql.execution.QueryExecution.$anonfun$lazyCommandExecuted$1(QueryExecution.scala:337)\n\tat scala.util.Try$.apply(Try.scala:217)\n\tat org.apache.spark.util.Utils$.doTryWithCallerStacktrace(Utils.scala:1687)\n\tat org.apache.spark.util.Utils$.getTryWithCallerStacktrace(Utils.scala:1748)\n\tat org.apache.spark.util.LazyTry.get(LazyTry.scala:58)\n\tat org.apache.spark.sql.execution.QueryExecution.commandExecuted(QueryExecution.scala:342)\n\tat org.apache.spark.sql.classic.Dataset.<init>(Dataset.scala:428)\n\tat org.apache.spark.sql.classic.Dataset$.$anonfun$ofRows$3(Dataset.scala:155)\n\tat org.apache.spark.sql.SparkSession.withActive(SparkSession.scala:860)\n\tat org.apache.spark.sql.classic.SparkSession.$anonfun$withActiveAndFrameProfiler$1(SparkSession.scala:1157)\n\tat com.databricks.spark.util.FrameProfiler$.record(FrameProfiler.scala:94)\n\tat org.apache.spark.sql.classic.SparkSession.withActiveAndFrameProfiler(SparkSession.scala:1157)\n\tat org.apache.spark.sql.classic.Dataset$.ofRows(Dataset.scala:146)\n\tat org.apache.spark.sql.classic.SparkSession.$anonfun$sql$4(SparkSession.scala:936)\n\tat org.apache.spark.sql.SparkSession.withActive(SparkSession.scala:860)\n\tat org.apache.spark.sql.classic.SparkSession.sql(SparkSession.scala:888)\n\tat org.apache.spark.sql.connect.planner.SparkConnectPlanner.executeSQL(SparkConnectPlanner.scala:3382)\n\tat org.apache.spark.sql.connect.planner.SparkConnectPlanner.handleSqlCommand(SparkConnectPlanner.scala:3211)\n\tat org.apache.spark.sql.connect.planner.SparkConnectPlanner.process(SparkConnectPlanner.scala:3089)\n\tat org.apache.spark.sql.connect.execution.ExecuteThreadRunner.handleCommand(ExecuteThreadRunner.scala:419)\n\tat org.apache.spark.sql.connect.execution.ExecuteThreadRunner.$anonfun$executeInternal$1(ExecuteThreadRunner.scala:316)\n\tat org.apache.spark.sql.connect.execution.ExecuteThreadRunner.$anonfun$executeInternal$1$adapted(ExecuteThreadRunner.scala:237)\n\tat org.apache.spark.sql.connect.service.SessionHolder.$anonfun$withSession$2(SessionHolder.scala:466)\n\tat org.apache.spark.sql.SparkSession.withActive(SparkSession.scala:860)\n\tat org.apache.spark.sql.connect.service.SessionHolder.$anonfun$withSession$1(SessionHolder.scala:466)\n\tat org.apache.spark.JobArtifactSet$.withActiveJobArtifactState(JobArtifactSet.scala:97)\n\tat org.apache.spark.sql.artifact.ArtifactManager.$anonfun$withResources$1(ArtifactManager.scala:121)\n\tat org.apache.spark.sql.artifact.ArtifactManager.withClassLoaderIfNeeded(ArtifactManager.scala:115)\n\tat org.apache.spark.sql.artifact.ArtifactManager.withResources(ArtifactManager.scala:120)\n\tat org.apache.spark.sql.connect.service.SessionHolder.withSession(SessionHolder.scala:465)\n\tat org.apache.spark.sql.connect.execution.ExecuteThreadRunner.executeInternal(ExecuteThreadRunner.scala:237)\n\tat org.apache.spark.sql.connect.execution.ExecuteThreadRunner.org$apache$spark$sql$connect$execution$ExecuteThreadRunner$$execute(ExecuteThreadRunner.scala:140)\n\tat org.apache.spark.sql.connect.execution.ExecuteThreadRunner$ExecutionThread.$anonfun$run$2(ExecuteThreadRunner.scala:620)\n\tat scala.runtime.java8.JFunction0$mcV$sp.apply(JFunction0$mcV$sp.scala:18)\n\tat com.databricks.unity.UCSEphemeralState$Handle.runWith(UCSEphemeralState.scala:51)\n\tat com.databricks.unity.HandleImpl.runWith(UCSHandle.scala:104)\n\tat com.databricks.unity.HandleImpl.$anonfun$runWithAndClose$1(UCSHandle.scala:109)\n\tat scala.util.Using$.resource(Using.scala:296)\n\tat com.databricks.unity.HandleImpl.runWithAndClose(UCSHandle.scala:108)\n\tat org.apache.spark.sql.connect.execution.ExecuteThreadRunner$ExecutionThread.run(ExecuteThreadRunner.scala:620)"
       ],
       "type": "baseError"
      }
     },
     "output_type": "display_data"
    }
   ],
   "source": [
    "%sql\n",
    "vacuum delta.`/Volumes/workspace/my_delta/filestore/sink_data/my_1st_delta` retain 0 hours;"
   ]
  },
  {
   "cell_type": "markdown",
   "metadata": {
    "application/vnd.databricks.v1+cell": {
     "cellMetadata": {},
     "inputWidgets": {},
     "nuid": "7ddce348-e4be-4fb9-a9c1-2a80e268495d",
     "showTitle": false,
     "tableResultSettingsMap": {},
     "title": ""
    }
   },
   "source": [
    "#### Schema Changes"
   ]
  },
  {
   "cell_type": "code",
   "execution_count": 0,
   "metadata": {
    "application/vnd.databricks.v1+cell": {
     "cellMetadata": {
      "byteLimit": 2048000,
      "implicitDf": true,
      "rowLimit": 10000
     },
     "inputWidgets": {},
     "nuid": "f2a16ac2-ae88-4b26-a03e-dbf5caeb49f9",
     "showTitle": false,
     "tableResultSettingsMap": {},
     "title": ""
    }
   },
   "outputs": [],
   "source": [
    "%sql\n",
    "create volume my_catalog.my_schema.my_volume;"
   ]
  },
  {
   "cell_type": "code",
   "execution_count": 0,
   "metadata": {
    "application/vnd.databricks.v1+cell": {
     "cellMetadata": {
      "byteLimit": 2048000,
      "rowLimit": 10000
     },
     "inputWidgets": {},
     "nuid": "d99df311-afee-43bf-96a9-02e0a6175631",
     "showTitle": false,
     "tableResultSettingsMap": {
      "0": {
       "dataGridStateBlob": "{\"version\":1,\"tableState\":{\"columnPinning\":{\"left\":[\"#row_number#\"],\"right\":[]},\"columnSizing\":{},\"columnVisibility\":{}},\"settings\":{\"columns\":{}},\"syncTimestamp\":1755183740239}",
       "filterBlob": null,
       "queryPlanFiltersBlob": null,
       "tableResultIndex": 0
      }
     },
     "title": ""
    }
   },
   "outputs": [
    {
     "output_type": "display_data",
     "data": {
      "text/html": [
       "<style scoped>\n",
       "  .table-result-container {\n",
       "    max-height: 300px;\n",
       "    overflow: auto;\n",
       "  }\n",
       "  table, th, td {\n",
       "    border: 1px solid black;\n",
       "    border-collapse: collapse;\n",
       "  }\n",
       "  th, td {\n",
       "    padding: 5px;\n",
       "  }\n",
       "  th {\n",
       "    text-align: left;\n",
       "  }\n",
       "</style><div class='table-result-container'><table class='table-result'><thead style='background-color: white'><tr><th>id</th><th>name</th><th>salary</th><th>flag</th></tr></thead><tbody><tr><td>4</td><td>aa</td><td>100</td><td>true</td></tr><tr><td>5</td><td>bb</td><td>200</td><td>false</td></tr><tr><td>6</td><td>cc</td><td>300</td><td>false</td></tr></tbody></table></div>"
      ]
     },
     "metadata": {
      "application/vnd.databricks.v1+output": {
       "addedWidgets": {},
       "aggData": [],
       "aggError": "",
       "aggOverflow": false,
       "aggSchema": [],
       "aggSeriesLimitReached": false,
       "aggType": "",
       "arguments": {},
       "columnCustomDisplayInfos": {},
       "data": [
        [
         4,
         "aa",
         100,
         true
        ],
        [
         5,
         "bb",
         200,
         false
        ],
        [
         6,
         "cc",
         300,
         false
        ]
       ],
       "datasetInfos": [],
       "dbfsResultPath": null,
       "isJsonSchema": true,
       "metadata": {},
       "overflow": false,
       "plotOptions": {
        "customPlotOptions": {},
        "displayType": "table",
        "pivotAggregation": null,
        "pivotColumns": null,
        "xColumns": null,
        "yColumns": null
       },
       "removedWidgets": [],
       "schema": [
        {
         "metadata": "{}",
         "name": "id",
         "type": "\"long\""
        },
        {
         "metadata": "{}",
         "name": "name",
         "type": "\"string\""
        },
        {
         "metadata": "{}",
         "name": "salary",
         "type": "\"long\""
        },
        {
         "metadata": "{}",
         "name": "flag",
         "type": "\"boolean\""
        }
       ],
       "type": "table"
      }
     },
     "output_type": "display_data"
    }
   ],
   "source": [
    "data = [\n",
    "  (4, \"aa\", 100, True),\n",
    "  (5, \"bb\", 200, False),\n",
    "  (6, \"cc\", 300, False)\n",
    "]\n",
    "df = spark.createDataFrame(data, ['id', 'name', 'salary', 'flag'])\n",
    "df.display()"
   ]
  },
  {
   "cell_type": "code",
   "execution_count": 0,
   "metadata": {
    "application/vnd.databricks.v1+cell": {
     "cellMetadata": {
      "byteLimit": 2048000,
      "rowLimit": 10000
     },
     "inputWidgets": {},
     "nuid": "1eee4c82-57d0-40da-9502-bb08a2675b42",
     "showTitle": false,
     "tableResultSettingsMap": {},
     "title": ""
    }
   },
   "outputs": [],
   "source": [
    "df.write.format(\"delta\")\\\n",
    "    .mode(\"append\")\\\n",
    "    .save(\"/Volumes/my_catalog/my_schema/my_volume/delta_one/\")"
   ]
  },
  {
   "cell_type": "code",
   "execution_count": 0,
   "metadata": {
    "application/vnd.databricks.v1+cell": {
     "cellMetadata": {
      "byteLimit": 2048000,
      "rowLimit": 10000
     },
     "inputWidgets": {},
     "nuid": "37549449-f4a0-46dc-9d80-d7ba5044ecdd",
     "showTitle": false,
     "tableResultSettingsMap": {},
     "title": ""
    }
   },
   "outputs": [
    {
     "output_type": "display_data",
     "data": {
      "text/html": [
       "<style scoped>\n",
       "  .table-result-container {\n",
       "    max-height: 300px;\n",
       "    overflow: auto;\n",
       "  }\n",
       "  table, th, td {\n",
       "    border: 1px solid black;\n",
       "    border-collapse: collapse;\n",
       "  }\n",
       "  th, td {\n",
       "    padding: 5px;\n",
       "  }\n",
       "  th {\n",
       "    text-align: left;\n",
       "  }\n",
       "</style><div class='table-result-container'><table class='table-result'><thead style='background-color: white'><tr><th>commitInfo</th><th>metaData</th></tr></thead><tbody><tr><td>List(0814-143756-j2nfu1ia-v2n, Databricks-Runtime/17.0.x-aarch64-photon-scala2.13, true, WriteSerializable, RENAME COLUMN, List(employee_id, id), 5, 1755183348978, c6c52705-1ebe-4f74-9627-9a6823fab35a, 78362573187593, phyominnthwin@gmail.com)</td><td>null</td></tr><tr><td>null</td><td>List(List(4, name, true), 1755182711305, List(parquet), e8a516f8-743a-45cf-9798-d9bd3e7a2960, List(), {\"type\":\"struct\",\"fields\":[{\"name\":\"employee_id\",\"type\":\"long\",\"nullable\":true,\"metadata\":{\"delta.columnMapping.id\":1,\"delta.columnMapping.physicalName\":\"id\"}},{\"name\":\"name\",\"type\":\"string\",\"nullable\":true,\"metadata\":{\"delta.columnMapping.id\":2,\"delta.columnMapping.physicalName\":\"name\"}},{\"name\":\"salary\",\"type\":\"long\",\"nullable\":true,\"metadata\":{\"delta.columnMapping.id\":4,\"delta.columnMapping.physicalName\":\"salary\"}}]})</td></tr></tbody></table></div>"
      ]
     },
     "metadata": {
      "application/vnd.databricks.v1+output": {
       "addedWidgets": {},
       "aggData": [],
       "aggError": "",
       "aggOverflow": false,
       "aggSchema": [],
       "aggSeriesLimitReached": false,
       "aggType": "",
       "arguments": {},
       "columnCustomDisplayInfos": {},
       "data": [
        [
         [
          "0814-143756-j2nfu1ia-v2n",
          "Databricks-Runtime/17.0.x-aarch64-photon-scala2.13",
          true,
          "WriteSerializable",
          "RENAME COLUMN",
          [
           "employee_id",
           "id"
          ],
          5,
          1755183348978,
          "c6c52705-1ebe-4f74-9627-9a6823fab35a",
          "78362573187593",
          "phyominnthwin@gmail.com"
         ],
         null
        ],
        [
         null,
         [
          [
           "4",
           "name",
           "true"
          ],
          1755182711305,
          [
           "parquet"
          ],
          "e8a516f8-743a-45cf-9798-d9bd3e7a2960",
          [],
          "{\"type\":\"struct\",\"fields\":[{\"name\":\"employee_id\",\"type\":\"long\",\"nullable\":true,\"metadata\":{\"delta.columnMapping.id\":1,\"delta.columnMapping.physicalName\":\"id\"}},{\"name\":\"name\",\"type\":\"string\",\"nullable\":true,\"metadata\":{\"delta.columnMapping.id\":2,\"delta.columnMapping.physicalName\":\"name\"}},{\"name\":\"salary\",\"type\":\"long\",\"nullable\":true,\"metadata\":{\"delta.columnMapping.id\":4,\"delta.columnMapping.physicalName\":\"salary\"}}]}"
         ]
        ]
       ],
       "datasetInfos": [],
       "dbfsResultPath": null,
       "isJsonSchema": true,
       "metadata": {},
       "overflow": false,
       "plotOptions": {
        "customPlotOptions": {},
        "displayType": "table",
        "pivotAggregation": null,
        "pivotColumns": null,
        "xColumns": null,
        "yColumns": null
       },
       "removedWidgets": [],
       "schema": [
        {
         "metadata": "{}",
         "name": "commitInfo",
         "type": "{\"fields\":[{\"metadata\":{},\"name\":\"clusterId\",\"nullable\":true,\"type\":\"string\"},{\"metadata\":{},\"name\":\"engineInfo\",\"nullable\":true,\"type\":\"string\"},{\"metadata\":{},\"name\":\"isBlindAppend\",\"nullable\":true,\"type\":\"boolean\"},{\"metadata\":{},\"name\":\"isolationLevel\",\"nullable\":true,\"type\":\"string\"},{\"metadata\":{},\"name\":\"operation\",\"nullable\":true,\"type\":\"string\"},{\"metadata\":{},\"name\":\"operationParameters\",\"nullable\":true,\"type\":{\"fields\":[{\"metadata\":{},\"name\":\"newColumnPath\",\"nullable\":true,\"type\":\"string\"},{\"metadata\":{},\"name\":\"oldColumnPath\",\"nullable\":true,\"type\":\"string\"}],\"type\":\"struct\"}},{\"metadata\":{},\"name\":\"readVersion\",\"nullable\":true,\"type\":\"long\"},{\"metadata\":{},\"name\":\"timestamp\",\"nullable\":true,\"type\":\"long\"},{\"metadata\":{},\"name\":\"txnId\",\"nullable\":true,\"type\":\"string\"},{\"metadata\":{},\"name\":\"userId\",\"nullable\":true,\"type\":\"string\"},{\"metadata\":{},\"name\":\"userName\",\"nullable\":true,\"type\":\"string\"}],\"type\":\"struct\"}"
        },
        {
         "metadata": "{}",
         "name": "metaData",
         "type": "{\"fields\":[{\"metadata\":{},\"name\":\"configuration\",\"nullable\":true,\"type\":{\"fields\":[{\"metadata\":{},\"name\":\"delta.columnMapping.maxColumnId\",\"nullable\":true,\"type\":\"string\"},{\"metadata\":{},\"name\":\"delta.columnMapping.mode\",\"nullable\":true,\"type\":\"string\"},{\"metadata\":{},\"name\":\"delta.enableDeletionVectors\",\"nullable\":true,\"type\":\"string\"}],\"type\":\"struct\"}},{\"metadata\":{},\"name\":\"createdTime\",\"nullable\":true,\"type\":\"long\"},{\"metadata\":{},\"name\":\"format\",\"nullable\":true,\"type\":{\"fields\":[{\"metadata\":{},\"name\":\"provider\",\"nullable\":true,\"type\":\"string\"}],\"type\":\"struct\"}},{\"metadata\":{},\"name\":\"id\",\"nullable\":true,\"type\":\"string\"},{\"metadata\":{},\"name\":\"partitionColumns\",\"nullable\":true,\"type\":{\"containsNull\":true,\"elementType\":\"string\",\"type\":\"array\"}},{\"metadata\":{},\"name\":\"schemaString\",\"nullable\":true,\"type\":\"string\"}],\"type\":\"struct\"}"
        }
       ],
       "type": "table"
      }
     },
     "output_type": "display_data"
    }
   ],
   "source": [
    "spark.read.format(\"json\")\\\n",
    "    .load(\"/Volumes/my_catalog/my_schema/my_volume/delta_one/_delta_log/00000000000000000006.json\")\\\n",
    "    .display()"
   ]
  },
  {
   "cell_type": "code",
   "execution_count": 0,
   "metadata": {
    "application/vnd.databricks.v1+cell": {
     "cellMetadata": {
      "byteLimit": 2048000,
      "implicitDf": true,
      "rowLimit": 10000
     },
     "inputWidgets": {},
     "nuid": "779dbe6b-bedd-4825-b380-b54e519ecd78",
     "showTitle": false,
     "tableResultSettingsMap": {},
     "title": ""
    }
   },
   "outputs": [],
   "source": [
    "%sql\n",
    "alter table delta.`/Volumes/my_catalog/my_schema/my_volume/delta_one/`\n",
    "add column new_flag boolean;"
   ]
  },
  {
   "cell_type": "code",
   "execution_count": 0,
   "metadata": {
    "application/vnd.databricks.v1+cell": {
     "cellMetadata": {
      "byteLimit": 2048000,
      "implicitDf": true,
      "rowLimit": 10000
     },
     "inputWidgets": {},
     "nuid": "68b0956a-3ba2-4686-8005-a33d2cbba16a",
     "showTitle": false,
     "tableResultSettingsMap": {},
     "title": ""
    }
   },
   "outputs": [],
   "source": [
    "%sql\n",
    "alter table delta.`/Volumes/my_catalog/my_schema/my_volume/delta_one/`\n",
    "alter column new_flag after name;"
   ]
  },
  {
   "cell_type": "code",
   "execution_count": 0,
   "metadata": {
    "application/vnd.databricks.v1+cell": {
     "cellMetadata": {
      "byteLimit": 2048000,
      "implicitDf": true,
      "rowLimit": 10000
     },
     "inputWidgets": {},
     "nuid": "6326279b-2653-4125-a127-79a32276922f",
     "showTitle": false,
     "tableResultSettingsMap": {},
     "title": ""
    }
   },
   "outputs": [],
   "source": [
    "%sql\n",
    "ALTER TABLE delta.`/Volumes/my_catalog/my_schema/my_volume/delta_one/` \n",
    "SET TBLPROPERTIES ('delta.columnMapping.mode' = 'name');"
   ]
  },
  {
   "cell_type": "code",
   "execution_count": 0,
   "metadata": {
    "application/vnd.databricks.v1+cell": {
     "cellMetadata": {
      "byteLimit": 2048000,
      "implicitDf": true,
      "rowLimit": 10000
     },
     "inputWidgets": {},
     "nuid": "ad03ce2f-4d09-421f-91a2-9861c2425af8",
     "showTitle": false,
     "tableResultSettingsMap": {},
     "title": ""
    }
   },
   "outputs": [],
   "source": [
    "%sql\n",
    "alter table delta.`/Volumes/my_catalog/my_schema/my_volume/delta_one/`\n",
    "drop column new_flag;"
   ]
  },
  {
   "cell_type": "code",
   "execution_count": 0,
   "metadata": {
    "application/vnd.databricks.v1+cell": {
     "cellMetadata": {
      "byteLimit": 2048000,
      "implicitDf": true,
      "rowLimit": 10000
     },
     "inputWidgets": {},
     "nuid": "01ceccb4-578f-46e4-9261-a82a2cffbcef",
     "showTitle": false,
     "tableResultSettingsMap": {},
     "title": ""
    }
   },
   "outputs": [],
   "source": [
    "%sql\n",
    "alter table delta.`/Volumes/my_catalog/my_schema/my_volume/delta_one/`\n",
    "rename column id to employee_id;"
   ]
  },
  {
   "cell_type": "code",
   "execution_count": 0,
   "metadata": {
    "application/vnd.databricks.v1+cell": {
     "cellMetadata": {
      "byteLimit": 2048000,
      "implicitDf": true,
      "rowLimit": 10000
     },
     "inputWidgets": {},
     "nuid": "50e54f15-e3d1-45e1-97b6-b42cc995b984",
     "showTitle": false,
     "tableResultSettingsMap": {},
     "title": ""
    }
   },
   "outputs": [
    {
     "output_type": "display_data",
     "data": {
      "text/html": [
       "<style scoped>\n",
       "  .table-result-container {\n",
       "    max-height: 300px;\n",
       "    overflow: auto;\n",
       "  }\n",
       "  table, th, td {\n",
       "    border: 1px solid black;\n",
       "    border-collapse: collapse;\n",
       "  }\n",
       "  th, td {\n",
       "    padding: 5px;\n",
       "  }\n",
       "  th {\n",
       "    text-align: left;\n",
       "  }\n",
       "</style><div class='table-result-container'><table class='table-result'><thead style='background-color: white'><tr><th>id</th><th>name</th><th>new_flag</th><th>salary</th></tr></thead><tbody><tr><td>4</td><td>aa</td><td>null</td><td>100</td></tr><tr><td>5</td><td>bb</td><td>null</td><td>200</td></tr><tr><td>6</td><td>cc</td><td>null</td><td>300</td></tr><tr><td>1</td><td>a</td><td>null</td><td>100</td></tr><tr><td>2</td><td>b</td><td>null</td><td>200</td></tr><tr><td>3</td><td>c</td><td>null</td><td>300</td></tr></tbody></table></div>"
      ]
     },
     "metadata": {
      "application/vnd.databricks.v1+output": {
       "addedWidgets": {},
       "aggData": [],
       "aggError": "",
       "aggOverflow": false,
       "aggSchema": [],
       "aggSeriesLimitReached": false,
       "aggType": "",
       "arguments": {},
       "columnCustomDisplayInfos": {},
       "data": [
        [
         4,
         "aa",
         null,
         100
        ],
        [
         5,
         "bb",
         null,
         200
        ],
        [
         6,
         "cc",
         null,
         300
        ],
        [
         1,
         "a",
         null,
         100
        ],
        [
         2,
         "b",
         null,
         200
        ],
        [
         3,
         "c",
         null,
         300
        ]
       ],
       "datasetInfos": [
        {
         "name": "_sqldf",
         "schema": {
          "fields": [
           {
            "metadata": {},
            "name": "id",
            "nullable": true,
            "type": "long"
           },
           {
            "metadata": {},
            "name": "name",
            "nullable": true,
            "type": "string"
           },
           {
            "metadata": {},
            "name": "new_flag",
            "nullable": true,
            "type": "boolean"
           },
           {
            "metadata": {},
            "name": "salary",
            "nullable": true,
            "type": "long"
           }
          ],
          "type": "struct"
         },
         "tableIdentifier": null,
         "typeStr": "pyspark.sql.connect.dataframe.DataFrame"
        }
       ],
       "dbfsResultPath": null,
       "isJsonSchema": true,
       "metadata": {
        "createTempViewForImplicitDf": true,
        "dataframeName": "_sqldf",
        "executionCount": 23
       },
       "overflow": false,
       "plotOptions": {
        "customPlotOptions": {},
        "displayType": "table",
        "pivotAggregation": null,
        "pivotColumns": null,
        "xColumns": null,
        "yColumns": null
       },
       "removedWidgets": [],
       "schema": [
        {
         "metadata": "{}",
         "name": "id",
         "type": "\"long\""
        },
        {
         "metadata": "{}",
         "name": "name",
         "type": "\"string\""
        },
        {
         "metadata": "{}",
         "name": "new_flag",
         "type": "\"boolean\""
        },
        {
         "metadata": "{}",
         "name": "salary",
         "type": "\"long\""
        }
       ],
       "type": "table"
      }
     },
     "output_type": "display_data"
    }
   ],
   "source": [
    "%sql\n",
    "select * from delta.`/Volumes/my_catalog/my_schema/my_volume/delta_one/`;"
   ]
  },
  {
   "cell_type": "markdown",
   "metadata": {
    "application/vnd.databricks.v1+cell": {
     "cellMetadata": {},
     "inputWidgets": {},
     "nuid": "aadda492-2b34-4532-83e7-486d6c4dfc05",
     "showTitle": false,
     "tableResultSettingsMap": {},
     "title": ""
    }
   },
   "source": [
    "#### Optimization"
   ]
  },
  {
   "cell_type": "code",
   "execution_count": 0,
   "metadata": {
    "application/vnd.databricks.v1+cell": {
     "cellMetadata": {
      "byteLimit": 2048000,
      "implicitDf": true,
      "rowLimit": 10000
     },
     "inputWidgets": {},
     "nuid": "b5f03b4c-2955-4564-b818-9e05cb503b53",
     "showTitle": false,
     "tableResultSettingsMap": {},
     "title": ""
    }
   },
   "outputs": [
    {
     "output_type": "display_data",
     "data": {
      "text/html": [
       "<style scoped>\n",
       "  .table-result-container {\n",
       "    max-height: 300px;\n",
       "    overflow: auto;\n",
       "  }\n",
       "  table, th, td {\n",
       "    border: 1px solid black;\n",
       "    border-collapse: collapse;\n",
       "  }\n",
       "  th, td {\n",
       "    padding: 5px;\n",
       "  }\n",
       "  th {\n",
       "    text-align: left;\n",
       "  }\n",
       "</style><div class='table-result-container'><table class='table-result'><thead style='background-color: white'><tr><th>path</th><th>metrics</th></tr></thead><tbody><tr><td>dbfs:/Volumes/my_catalog/my_schema/my_volume/delta_one</td><td>List(1, 2, List(1376, 1376, 1376.0, 1, 1376), List(1042, 1050, 1046.0, 2, 2092), 0, List(minCubeSize(107374182400), List(0, 0), List(2, 2092), 0, List(2, 2092), 1, null), null, 0, 1, 2, 0, false, 0, 0, 1755183469135, 1755183474296, 8, 1, null, List(0, 0), null, 3, 3, 358, 0, null)</td></tr></tbody></table></div>"
      ]
     },
     "metadata": {
      "application/vnd.databricks.v1+output": {
       "addedWidgets": {},
       "aggData": [],
       "aggError": "",
       "aggOverflow": false,
       "aggSchema": [],
       "aggSeriesLimitReached": false,
       "aggType": "",
       "arguments": {},
       "columnCustomDisplayInfos": {},
       "data": [
        [
         "dbfs:/Volumes/my_catalog/my_schema/my_volume/delta_one",
         [
          1,
          2,
          [
           1376,
           1376,
           1376.0,
           1,
           1376
          ],
          [
           1042,
           1050,
           1046.0,
           2,
           2092
          ],
          0,
          [
           "minCubeSize(107374182400)",
           [
            0,
            0
           ],
           [
            2,
            2092
           ],
           0,
           [
            2,
            2092
           ],
           1,
           null
          ],
          null,
          0,
          1,
          2,
          0,
          false,
          0,
          0,
          1755183469135,
          1755183474296,
          8,
          1,
          null,
          [
           0,
           0
          ],
          null,
          3,
          3,
          358,
          0,
          null
         ]
        ]
       ],
       "datasetInfos": [
        {
         "name": "_sqldf",
         "schema": {
          "fields": [
           {
            "metadata": {},
            "name": "path",
            "nullable": true,
            "type": "string"
           },
           {
            "metadata": {},
            "name": "metrics",
            "nullable": true,
            "type": {
             "fields": [
              {
               "metadata": {},
               "name": "numFilesAdded",
               "nullable": false,
               "type": "long"
              },
              {
               "metadata": {},
               "name": "numFilesRemoved",
               "nullable": false,
               "type": "long"
              },
              {
               "metadata": {},
               "name": "filesAdded",
               "nullable": true,
               "type": {
                "fields": [
                 {
                  "metadata": {},
                  "name": "min",
                  "nullable": true,
                  "type": "long"
                 },
                 {
                  "metadata": {},
                  "name": "max",
                  "nullable": true,
                  "type": "long"
                 },
                 {
                  "metadata": {},
                  "name": "avg",
                  "nullable": false,
                  "type": "double"
                 },
                 {
                  "metadata": {},
                  "name": "totalFiles",
                  "nullable": false,
                  "type": "long"
                 },
                 {
                  "metadata": {},
                  "name": "totalSize",
                  "nullable": false,
                  "type": "long"
                 }
                ],
                "type": "struct"
               }
              },
              {
               "metadata": {},
               "name": "filesRemoved",
               "nullable": true,
               "type": {
                "fields": [
                 {
                  "metadata": {},
                  "name": "min",
                  "nullable": true,
                  "type": "long"
                 },
                 {
                  "metadata": {},
                  "name": "max",
                  "nullable": true,
                  "type": "long"
                 },
                 {
                  "metadata": {},
                  "name": "avg",
                  "nullable": false,
                  "type": "double"
                 },
                 {
                  "metadata": {},
                  "name": "totalFiles",
                  "nullable": false,
                  "type": "long"
                 },
                 {
                  "metadata": {},
                  "name": "totalSize",
                  "nullable": false,
                  "type": "long"
                 }
                ],
                "type": "struct"
               }
              },
              {
               "metadata": {},
               "name": "partitionsOptimized",
               "nullable": false,
               "type": "long"
              },
              {
               "metadata": {},
               "name": "zOrderStats",
               "nullable": true,
               "type": {
                "fields": [
                 {
                  "metadata": {},
                  "name": "strategyName",
                  "nullable": true,
                  "type": "string"
                 },
                 {
                  "metadata": {},
                  "name": "inputCubeFiles",
                  "nullable": true,
                  "type": {
                   "fields": [
                    {
                     "metadata": {},
                     "name": "num",
                     "nullable": false,
                     "type": "long"
                    },
                    {
                     "metadata": {},
                     "name": "size",
                     "nullable": false,
                     "type": "long"
                    }
                   ],
                   "type": "struct"
                  }
                 },
                 {
                  "metadata": {},
                  "name": "inputOtherFiles",
                  "nullable": true,
                  "type": {
                   "fields": [
                    {
                     "metadata": {},
                     "name": "num",
                     "nullable": false,
                     "type": "long"
                    },
                    {
                     "metadata": {},
                     "name": "size",
                     "nullable": false,
                     "type": "long"
                    }
                   ],
                   "type": "struct"
                  }
                 },
                 {
                  "metadata": {},
                  "name": "inputNumCubes",
                  "nullable": false,
                  "type": "long"
                 },
                 {
                  "metadata": {},
                  "name": "mergedFiles",
                  "nullable": true,
                  "type": {
                   "fields": [
                    {
                     "metadata": {},
                     "name": "num",
                     "nullable": false,
                     "type": "long"
                    },
                    {
                     "metadata": {},
                     "name": "size",
                     "nullable": false,
                     "type": "long"
                    }
                   ],
                   "type": "struct"
                  }
                 },
                 {
                  "metadata": {},
                  "name": "numOutputCubes",
                  "nullable": false,
                  "type": "long"
                 },
                 {
                  "metadata": {},
                  "name": "mergedNumCubes",
                  "nullable": true,
                  "type": "long"
                 }
                ],
                "type": "struct"
               }
              },
              {
               "metadata": {},
               "name": "clusteringStats",
               "nullable": true,
               "type": {
                "fields": [
                 {
                  "metadata": {},
                  "name": "inputZCubeFiles",
                  "nullable": true,
                  "type": {
                   "fields": [
                    {
                     "metadata": {},
                     "name": "numFiles",
                     "nullable": false,
                     "type": "long"
                    },
                    {
                     "metadata": {},
                     "name": "size",
                     "nullable": false,
                     "type": "long"
                    }
                   ],
                   "type": "struct"
                  }
                 },
                 {
                  "metadata": {},
                  "name": "inputOtherFiles",
                  "nullable": true,
                  "type": {
                   "fields": [
                    {
                     "metadata": {},
                     "name": "numFiles",
                     "nullable": false,
                     "type": "long"
                    },
                    {
                     "metadata": {},
                     "name": "size",
                     "nullable": false,
                     "type": "long"
                    }
                   ],
                   "type": "struct"
                  }
                 },
                 {
                  "metadata": {},
                  "name": "inputNumZCubes",
                  "nullable": false,
                  "type": "long"
                 },
                 {
                  "metadata": {},
                  "name": "mergedFiles",
                  "nullable": true,
                  "type": {
                   "fields": [
                    {
                     "metadata": {},
                     "name": "numFiles",
                     "nullable": false,
                     "type": "long"
                    },
                    {
                     "metadata": {},
                     "name": "size",
                     "nullable": false,
                     "type": "long"
                    }
                   ],
                   "type": "struct"
                  }
                 },
                 {
                  "metadata": {},
                  "name": "numOutputZCubes",
                  "nullable": false,
                  "type": "long"
                 }
                ],
                "type": "struct"
               }
              },
              {
               "metadata": {},
               "name": "numBins",
               "nullable": false,
               "type": "long"
              },
              {
               "metadata": {},
               "name": "numBatches",
               "nullable": false,
               "type": "long"
              },
              {
               "metadata": {},
               "name": "totalConsideredFiles",
               "nullable": false,
               "type": "long"
              },
              {
               "metadata": {},
               "name": "totalFilesSkipped",
               "nullable": false,
               "type": "long"
              },
              {
               "metadata": {},
               "name": "preserveInsertionOrder",
               "nullable": false,
               "type": "boolean"
              },
              {
               "metadata": {},
               "name": "numFilesSkippedToReduceWriteAmplification",
               "nullable": false,
               "type": "long"
              },
              {
               "metadata": {},
               "name": "numBytesSkippedToReduceWriteAmplification",
               "nullable": false,
               "type": "long"
              },
              {
               "metadata": {},
               "name": "startTimeMs",
               "nullable": false,
               "type": "long"
              },
              {
               "metadata": {},
               "name": "endTimeMs",
               "nullable": false,
               "type": "long"
              },
              {
               "metadata": {},
               "name": "totalClusterParallelism",
               "nullable": false,
               "type": "long"
              },
              {
               "metadata": {},
               "name": "totalScheduledTasks",
               "nullable": false,
               "type": "long"
              },
              {
               "metadata": {},
               "name": "autoCompactParallelismStats",
               "nullable": true,
               "type": {
                "fields": [
                 {
                  "metadata": {},
                  "name": "maxClusterActiveParallelism",
                  "nullable": true,
                  "type": "long"
                 },
                 {
                  "metadata": {},
                  "name": "minClusterActiveParallelism",
                  "nullable": true,
                  "type": "long"
                 },
                 {
                  "metadata": {},
                  "name": "maxSessionActiveParallelism",
                  "nullable": true,
                  "type": "long"
                 },
                 {
                  "metadata": {},
                  "name": "minSessionActiveParallelism",
                  "nullable": true,
                  "type": "long"
                 }
                ],
                "type": "struct"
               }
              },
              {
               "metadata": {},
               "name": "deletionVectorStats",
               "nullable": true,
               "type": {
                "fields": [
                 {
                  "metadata": {},
                  "name": "numDeletionVectorsRemoved",
                  "nullable": false,
                  "type": "long"
                 },
                 {
                  "metadata": {},
                  "name": "numDeletionVectorRowsRemoved",
                  "nullable": false,
                  "type": "long"
                 }
                ],
                "type": "struct"
               }
              },
              {
               "metadata": {},
               "name": "recompressionCodec",
               "nullable": true,
               "type": "string"
              },
              {
               "metadata": {},
               "name": "numTableColumns",
               "nullable": false,
               "type": "long"
              },
              {
               "metadata": {},
               "name": "numTableColumnsWithStats",
               "nullable": false,
               "type": "long"
              },
              {
               "metadata": {},
               "name": "totalTaskExecutionTimeMs",
               "nullable": false,
               "type": "long"
              },
              {
               "metadata": {},
               "name": "skippedArchivedFiles",
               "nullable": false,
               "type": "long"
              },
              {
               "metadata": {},
               "name": "clusteringMetrics",
               "nullable": true,
               "type": {
                "fields": [
                 {
                  "metadata": {},
                  "name": "sizeOfTableInBytesBeforeLazyClustering",
                  "nullable": false,
                  "type": "long"
                 },
                 {
                  "metadata": {},
                  "name": "isNewMetadataCreated",
                  "nullable": false,
                  "type": "boolean"
                 },
                 {
                  "metadata": {},
                  "name": "isPOTriggered",
                  "nullable": false,
                  "type": "boolean"
                 },
                 {
                  "metadata": {},
                  "name": "isFull",
                  "nullable": false,
                  "type": "boolean"
                 },
                 {
                  "metadata": {},
                  "name": "approxClusteringQuality",
                  "nullable": true,
                  "type": "double"
                 },
                 {
                  "metadata": {},
                  "name": "approxClusteringQualityPerColumn",
                  "nullable": true,
                  "type": {
                   "containsNull": false,
                   "elementType": "double",
                   "type": "array"
                  }
                 },
                 {
                  "metadata": {},
                  "name": "approxClusteringCoverage",
                  "nullable": true,
                  "type": "double"
                 },
                 {
                  "metadata": {},
                  "name": "compactionType",
                  "nullable": true,
                  "type": "string"
                 },
                 {
                  "metadata": {},
                  "name": "numFilesSkippedWithoutStats",
                  "nullable": false,
                  "type": "long"
                 },
                 {
                  "metadata": {},
                  "name": "numFilesClassifiedToIntermediateNodes",
                  "nullable": false,
                  "type": "long"
                 },
                 {
                  "metadata": {},
                  "name": "sizeOfFilesClassifiedToIntermediateNodesInBytes",
                  "nullable": false,
                  "type": "long"
                 },
                 {
                  "metadata": {},
                  "name": "logicalSizeOfFilesClassifiedToIntermediateNodesInBytes",
                  "nullable": false,
                  "type": "long"
                 },
                 {
                  "metadata": {},
                  "name": "numFilesClassifiedToLeafNodes",
                  "nullable": false,
                  "type": "long"
                 },
                 {
                  "metadata": {},
                  "name": "sizeOfFilesClassifiedToLeafNodesInBytes",
                  "nullable": false,
                  "type": "long"
                 },
                 {
                  "metadata": {},
                  "name": "logicalSizeOfFilesClassifiedToLeafNodesInBytes",
                  "nullable": false,
                  "type": "long"
                 },
                 {
                  "metadata": {},
                  "name": "numThreadsForClassifier",
                  "nullable": true,
                  "type": "integer"
                 },
                 {
                  "metadata": {},
                  "name": "clusterThresholdStrategy",
                  "nullable": true,
                  "type": "string"
                 },
                 {
                  "metadata": {},
                  "name": "minFileSize",
                  "nullable": false,
                  "type": "long"
                 },
                 {
                  "metadata": {},
                  "name": "maxFileSize",
                  "nullable": false,
                  "type": "long"
                 },
                 {
                  "metadata": {},
                  "name": "nodeMinNumFilesToCompact",
                  "nullable": false,
                  "type": "long"
                 },
                 {
                  "metadata": {},
                  "name": "numIdealFiles",
                  "nullable": false,
                  "type": "long"
                 },
                 {
                  "metadata": {},
                  "name": "numIdealFilesWithTrimmedStringMaxValue",
                  "nullable": false,
                  "type": "long"
                 },
                 {
                  "metadata": {},
                  "name": "numAddedFilesWithSameMinMaxOnClusteringColumns",
                  "nullable": true,
                  "type": {
                   "containsNull": false,
                   "elementType": "long",
                   "type": "array"
                  }
                 },
                 {
                  "metadata": {},
                  "name": "numClusteringTasksPlanned",
                  "nullable": false,
                  "type": "integer"
                 },
                 {
                  "metadata": {},
                  "name": "numClusteringTasksNotPlannedDueToPO",
                  "nullable": false,
                  "type": "integer"
                 },
                 {
                  "metadata": {},
                  "name": "numCompactionTasksPlanned",
                  "nullable": false,
                  "type": "integer"
                 },
                 {
                  "metadata": {},
                  "name": "numCompactionTasksPlannedUndoneDueToPO",
                  "nullable": false,
                  "type": "integer"
                 },
                 {
                  "metadata": {},
                  "name": "numOptimizeBatchesPlanned",
                  "nullable": false,
                  "type": "integer"
                 },
                 {
                  "metadata": {},
                  "name": "numLeafNodesExpanded",
                  "nullable": false,
                  "type": "long"
                 },
                 {
                  "metadata": {},
                  "name": "numLeafNodesClustered",
                  "nullable": false,
                  "type": "long"
                 },
                 {
                  "metadata": {},
                  "name": "numGetFilesForNodeCalls",
                  "nullable": false,
                  "type": "long"
                 },
                 {
                  "metadata": {},
                  "name": "numSamplingJobs",
                  "nullable": false,
                  "type": "long"
                 },
                 {
                  "metadata": {},
                  "name": "numLeafNodesCompacted",
                  "nullable": false,
                  "type": "long"
                 },
                 {
                  "metadata": {},
                  "name": "numLeafNodesCompactedUndoneDueToPO",
                  "nullable": false,
                  "type": "long"
                 },
                 {
                  "metadata": {},
                  "name": "numIntermediateNodesCompacted",
                  "nullable": false,
                  "type": "long"
                 },
                 {
                  "metadata": {},
                  "name": "numIntermediateNodesCompactedUndoneDueToPO",
                  "nullable": false,
                  "type": "long"
                 },
                 {
                  "metadata": {},
                  "name": "totalSizeOfDataToCompactInBytes",
                  "nullable": false,
                  "type": "long"
                 },
                 {
                  "metadata": {},
                  "name": "totalSizeOfDataToCompactInBytesUndoneDueToPO",
                  "nullable": false,
                  "type": "long"
                 },
                 {
                  "metadata": {},
                  "name": "totalLogicalSizeOfDataToCompactInBytes",
                  "nullable": false,
                  "type": "long"
                 },
                 {
                  "metadata": {},
                  "name": "totalLogicalSizeOfDataToCompactInBytesUndoneDueToPO",
                  "nullable": false,
                  "type": "long"
                 },
                 {
                  "metadata": {},
                  "name": "numIntermediateNodesClustered",
                  "nullable": false,
                  "type": "long"
                 },
                 {
                  "metadata": {},
                  "name": "numFilesSkippedAfterExpansion",
                  "nullable": false,
                  "type": "long"
                 },
                 {
                  "metadata": {},
                  "name": "totalSizeOfFilesSkippedAfterExpansionInBytes",
                  "nullable": false,
                  "type": "long"
                 },
                 {
                  "metadata": {},
                  "name": "totalLogicalSizeOfFilesSkippedAfterExpansionInBytes",
                  "nullable": false,
                  "type": "long"
                 },
                 {
                  "metadata": {},
                  "name": "totalSizeOfDataToRewriteInBytes",
                  "nullable": false,
                  "type": "long"
                 },
                 {
                  "metadata": {},
                  "name": "totalLogicalSizeOfDataToRewriteInBytes",
                  "nullable": false,
                  "type": "long"
                 },
                 {
                  "metadata": {},
                  "name": "timeMetrics",
                  "nullable": true,
                  "type": {
                   "fields": [
                    {
                     "metadata": {},
                     "name": "classifierTimeMs",
                     "nullable": false,
                     "type": "long"
                    },
                    {
                     "metadata": {},
                     "name": "optimizerTimeMs",
                     "nullable": false,
                     "type": "long"
                    },
                    {
                     "metadata": {},
                     "name": "metadataLoadTimeMs",
                     "nullable": false,
                     "type": "long"
                    },
                    {
                     "metadata": {},
                     "name": "totalGetFilesForNodeCallsTimeMs",
                     "nullable": false,
                     "type": "long"
                    },
                    {
                     "metadata": {},
                     "name": "totalSamplingTimeMs",
                     "nullable": false,
                     "type": "long"
                    },
                    {
                     "metadata": {},
                     "name": "metadataCreationTimeMs",
                     "nullable": false,
                     "type": "long"
                    }
                   ],
                   "type": "struct"
                  }
                 },
                 {
                  "metadata": {},
                  "name": "maxOptimizeBatchesInParallel",
                  "nullable": false,
                  "type": "long"
                 },
                 {
                  "metadata": {},
                  "name": "currentIteration",
                  "nullable": false,
                  "type": "integer"
                 },
                 {
                  "metadata": {},
                  "name": "maxIterations",
                  "nullable": false,
                  "type": "integer"
                 },
                 {
                  "metadata": {},
                  "name": "clusteringStrategy",
                  "nullable": true,
                  "type": "string"
                 }
                ],
                "type": "struct"
               }
              }
             ],
             "type": "struct"
            }
           }
          ],
          "type": "struct"
         },
         "tableIdentifier": null,
         "typeStr": "pyspark.sql.connect.dataframe.DataFrame"
        }
       ],
       "dbfsResultPath": null,
       "isJsonSchema": true,
       "metadata": {
        "createTempViewForImplicitDf": true,
        "dataframeName": "_sqldf",
        "executionCount": 35
       },
       "overflow": false,
       "plotOptions": {
        "customPlotOptions": {},
        "displayType": "table",
        "pivotAggregation": null,
        "pivotColumns": null,
        "xColumns": null,
        "yColumns": null
       },
       "removedWidgets": [],
       "schema": [
        {
         "metadata": "{}",
         "name": "path",
         "type": "\"string\""
        },
        {
         "metadata": "{}",
         "name": "metrics",
         "type": "{\"fields\":[{\"metadata\":{},\"name\":\"numFilesAdded\",\"nullable\":false,\"type\":\"long\"},{\"metadata\":{},\"name\":\"numFilesRemoved\",\"nullable\":false,\"type\":\"long\"},{\"metadata\":{},\"name\":\"filesAdded\",\"nullable\":true,\"type\":{\"fields\":[{\"metadata\":{},\"name\":\"min\",\"nullable\":true,\"type\":\"long\"},{\"metadata\":{},\"name\":\"max\",\"nullable\":true,\"type\":\"long\"},{\"metadata\":{},\"name\":\"avg\",\"nullable\":false,\"type\":\"double\"},{\"metadata\":{},\"name\":\"totalFiles\",\"nullable\":false,\"type\":\"long\"},{\"metadata\":{},\"name\":\"totalSize\",\"nullable\":false,\"type\":\"long\"}],\"type\":\"struct\"}},{\"metadata\":{},\"name\":\"filesRemoved\",\"nullable\":true,\"type\":{\"fields\":[{\"metadata\":{},\"name\":\"min\",\"nullable\":true,\"type\":\"long\"},{\"metadata\":{},\"name\":\"max\",\"nullable\":true,\"type\":\"long\"},{\"metadata\":{},\"name\":\"avg\",\"nullable\":false,\"type\":\"double\"},{\"metadata\":{},\"name\":\"totalFiles\",\"nullable\":false,\"type\":\"long\"},{\"metadata\":{},\"name\":\"totalSize\",\"nullable\":false,\"type\":\"long\"}],\"type\":\"struct\"}},{\"metadata\":{},\"name\":\"partitionsOptimized\",\"nullable\":false,\"type\":\"long\"},{\"metadata\":{},\"name\":\"zOrderStats\",\"nullable\":true,\"type\":{\"fields\":[{\"metadata\":{},\"name\":\"strategyName\",\"nullable\":true,\"type\":\"string\"},{\"metadata\":{},\"name\":\"inputCubeFiles\",\"nullable\":true,\"type\":{\"fields\":[{\"metadata\":{},\"name\":\"num\",\"nullable\":false,\"type\":\"long\"},{\"metadata\":{},\"name\":\"size\",\"nullable\":false,\"type\":\"long\"}],\"type\":\"struct\"}},{\"metadata\":{},\"name\":\"inputOtherFiles\",\"nullable\":true,\"type\":{\"fields\":[{\"metadata\":{},\"name\":\"num\",\"nullable\":false,\"type\":\"long\"},{\"metadata\":{},\"name\":\"size\",\"nullable\":false,\"type\":\"long\"}],\"type\":\"struct\"}},{\"metadata\":{},\"name\":\"inputNumCubes\",\"nullable\":false,\"type\":\"long\"},{\"metadata\":{},\"name\":\"mergedFiles\",\"nullable\":true,\"type\":{\"fields\":[{\"metadata\":{},\"name\":\"num\",\"nullable\":false,\"type\":\"long\"},{\"metadata\":{},\"name\":\"size\",\"nullable\":false,\"type\":\"long\"}],\"type\":\"struct\"}},{\"metadata\":{},\"name\":\"numOutputCubes\",\"nullable\":false,\"type\":\"long\"},{\"metadata\":{},\"name\":\"mergedNumCubes\",\"nullable\":true,\"type\":\"long\"}],\"type\":\"struct\"}},{\"metadata\":{},\"name\":\"clusteringStats\",\"nullable\":true,\"type\":{\"fields\":[{\"metadata\":{},\"name\":\"inputZCubeFiles\",\"nullable\":true,\"type\":{\"fields\":[{\"metadata\":{},\"name\":\"numFiles\",\"nullable\":false,\"type\":\"long\"},{\"metadata\":{},\"name\":\"size\",\"nullable\":false,\"type\":\"long\"}],\"type\":\"struct\"}},{\"metadata\":{},\"name\":\"inputOtherFiles\",\"nullable\":true,\"type\":{\"fields\":[{\"metadata\":{},\"name\":\"numFiles\",\"nullable\":false,\"type\":\"long\"},{\"metadata\":{},\"name\":\"size\",\"nullable\":false,\"type\":\"long\"}],\"type\":\"struct\"}},{\"metadata\":{},\"name\":\"inputNumZCubes\",\"nullable\":false,\"type\":\"long\"},{\"metadata\":{},\"name\":\"mergedFiles\",\"nullable\":true,\"type\":{\"fields\":[{\"metadata\":{},\"name\":\"numFiles\",\"nullable\":false,\"type\":\"long\"},{\"metadata\":{},\"name\":\"size\",\"nullable\":false,\"type\":\"long\"}],\"type\":\"struct\"}},{\"metadata\":{},\"name\":\"numOutputZCubes\",\"nullable\":false,\"type\":\"long\"}],\"type\":\"struct\"}},{\"metadata\":{},\"name\":\"numBins\",\"nullable\":false,\"type\":\"long\"},{\"metadata\":{},\"name\":\"numBatches\",\"nullable\":false,\"type\":\"long\"},{\"metadata\":{},\"name\":\"totalConsideredFiles\",\"nullable\":false,\"type\":\"long\"},{\"metadata\":{},\"name\":\"totalFilesSkipped\",\"nullable\":false,\"type\":\"long\"},{\"metadata\":{},\"name\":\"preserveInsertionOrder\",\"nullable\":false,\"type\":\"boolean\"},{\"metadata\":{},\"name\":\"numFilesSkippedToReduceWriteAmplification\",\"nullable\":false,\"type\":\"long\"},{\"metadata\":{},\"name\":\"numBytesSkippedToReduceWriteAmplification\",\"nullable\":false,\"type\":\"long\"},{\"metadata\":{},\"name\":\"startTimeMs\",\"nullable\":false,\"type\":\"long\"},{\"metadata\":{},\"name\":\"endTimeMs\",\"nullable\":false,\"type\":\"long\"},{\"metadata\":{},\"name\":\"totalClusterParallelism\",\"nullable\":false,\"type\":\"long\"},{\"metadata\":{},\"name\":\"totalScheduledTasks\",\"nullable\":false,\"type\":\"long\"},{\"metadata\":{},\"name\":\"autoCompactParallelismStats\",\"nullable\":true,\"type\":{\"fields\":[{\"metadata\":{},\"name\":\"maxClusterActiveParallelism\",\"nullable\":true,\"type\":\"long\"},{\"metadata\":{},\"name\":\"minClusterActiveParallelism\",\"nullable\":true,\"type\":\"long\"},{\"metadata\":{},\"name\":\"maxSessionActiveParallelism\",\"nullable\":true,\"type\":\"long\"},{\"metadata\":{},\"name\":\"minSessionActiveParallelism\",\"nullable\":true,\"type\":\"long\"}],\"type\":\"struct\"}},{\"metadata\":{},\"name\":\"deletionVectorStats\",\"nullable\":true,\"type\":{\"fields\":[{\"metadata\":{},\"name\":\"numDeletionVectorsRemoved\",\"nullable\":false,\"type\":\"long\"},{\"metadata\":{},\"name\":\"numDeletionVectorRowsRemoved\",\"nullable\":false,\"type\":\"long\"}],\"type\":\"struct\"}},{\"metadata\":{},\"name\":\"recompressionCodec\",\"nullable\":true,\"type\":\"string\"},{\"metadata\":{},\"name\":\"numTableColumns\",\"nullable\":false,\"type\":\"long\"},{\"metadata\":{},\"name\":\"numTableColumnsWithStats\",\"nullable\":false,\"type\":\"long\"},{\"metadata\":{},\"name\":\"totalTaskExecutionTimeMs\",\"nullable\":false,\"type\":\"long\"},{\"metadata\":{},\"name\":\"skippedArchivedFiles\",\"nullable\":false,\"type\":\"long\"},{\"metadata\":{},\"name\":\"clusteringMetrics\",\"nullable\":true,\"type\":{\"fields\":[{\"metadata\":{},\"name\":\"sizeOfTableInBytesBeforeLazyClustering\",\"nullable\":false,\"type\":\"long\"},{\"metadata\":{},\"name\":\"isNewMetadataCreated\",\"nullable\":false,\"type\":\"boolean\"},{\"metadata\":{},\"name\":\"isPOTriggered\",\"nullable\":false,\"type\":\"boolean\"},{\"metadata\":{},\"name\":\"isFull\",\"nullable\":false,\"type\":\"boolean\"},{\"metadata\":{},\"name\":\"approxClusteringQuality\",\"nullable\":true,\"type\":\"double\"},{\"metadata\":{},\"name\":\"approxClusteringQualityPerColumn\",\"nullable\":true,\"type\":{\"containsNull\":false,\"elementType\":\"double\",\"type\":\"array\"}},{\"metadata\":{},\"name\":\"approxClusteringCoverage\",\"nullable\":true,\"type\":\"double\"},{\"metadata\":{},\"name\":\"compactionType\",\"nullable\":true,\"type\":\"string\"},{\"metadata\":{},\"name\":\"numFilesSkippedWithoutStats\",\"nullable\":false,\"type\":\"long\"},{\"metadata\":{},\"name\":\"numFilesClassifiedToIntermediateNodes\",\"nullable\":false,\"type\":\"long\"},{\"metadata\":{},\"name\":\"sizeOfFilesClassifiedToIntermediateNodesInBytes\",\"nullable\":false,\"type\":\"long\"},{\"metadata\":{},\"name\":\"logicalSizeOfFilesClassifiedToIntermediateNodesInBytes\",\"nullable\":false,\"type\":\"long\"},{\"metadata\":{},\"name\":\"numFilesClassifiedToLeafNodes\",\"nullable\":false,\"type\":\"long\"},{\"metadata\":{},\"name\":\"sizeOfFilesClassifiedToLeafNodesInBytes\",\"nullable\":false,\"type\":\"long\"},{\"metadata\":{},\"name\":\"logicalSizeOfFilesClassifiedToLeafNodesInBytes\",\"nullable\":false,\"type\":\"long\"},{\"metadata\":{},\"name\":\"numThreadsForClassifier\",\"nullable\":true,\"type\":\"integer\"},{\"metadata\":{},\"name\":\"clusterThresholdStrategy\",\"nullable\":true,\"type\":\"string\"},{\"metadata\":{},\"name\":\"minFileSize\",\"nullable\":false,\"type\":\"long\"},{\"metadata\":{},\"name\":\"maxFileSize\",\"nullable\":false,\"type\":\"long\"},{\"metadata\":{},\"name\":\"nodeMinNumFilesToCompact\",\"nullable\":false,\"type\":\"long\"},{\"metadata\":{},\"name\":\"numIdealFiles\",\"nullable\":false,\"type\":\"long\"},{\"metadata\":{},\"name\":\"numIdealFilesWithTrimmedStringMaxValue\",\"nullable\":false,\"type\":\"long\"},{\"metadata\":{},\"name\":\"numAddedFilesWithSameMinMaxOnClusteringColumns\",\"nullable\":true,\"type\":{\"containsNull\":false,\"elementType\":\"long\",\"type\":\"array\"}},{\"metadata\":{},\"name\":\"numClusteringTasksPlanned\",\"nullable\":false,\"type\":\"integer\"},{\"metadata\":{},\"name\":\"numClusteringTasksNotPlannedDueToPO\",\"nullable\":false,\"type\":\"integer\"},{\"metadata\":{},\"name\":\"numCompactionTasksPlanned\",\"nullable\":false,\"type\":\"integer\"},{\"metadata\":{},\"name\":\"numCompactionTasksPlannedUndoneDueToPO\",\"nullable\":false,\"type\":\"integer\"},{\"metadata\":{},\"name\":\"numOptimizeBatchesPlanned\",\"nullable\":false,\"type\":\"integer\"},{\"metadata\":{},\"name\":\"numLeafNodesExpanded\",\"nullable\":false,\"type\":\"long\"},{\"metadata\":{},\"name\":\"numLeafNodesClustered\",\"nullable\":false,\"type\":\"long\"},{\"metadata\":{},\"name\":\"numGetFilesForNodeCalls\",\"nullable\":false,\"type\":\"long\"},{\"metadata\":{},\"name\":\"numSamplingJobs\",\"nullable\":false,\"type\":\"long\"},{\"metadata\":{},\"name\":\"numLeafNodesCompacted\",\"nullable\":false,\"type\":\"long\"},{\"metadata\":{},\"name\":\"numLeafNodesCompactedUndoneDueToPO\",\"nullable\":false,\"type\":\"long\"},{\"metadata\":{},\"name\":\"numIntermediateNodesCompacted\",\"nullable\":false,\"type\":\"long\"},{\"metadata\":{},\"name\":\"numIntermediateNodesCompactedUndoneDueToPO\",\"nullable\":false,\"type\":\"long\"},{\"metadata\":{},\"name\":\"totalSizeOfDataToCompactInBytes\",\"nullable\":false,\"type\":\"long\"},{\"metadata\":{},\"name\":\"totalSizeOfDataToCompactInBytesUndoneDueToPO\",\"nullable\":false,\"type\":\"long\"},{\"metadata\":{},\"name\":\"totalLogicalSizeOfDataToCompactInBytes\",\"nullable\":false,\"type\":\"long\"},{\"metadata\":{},\"name\":\"totalLogicalSizeOfDataToCompactInBytesUndoneDueToPO\",\"nullable\":false,\"type\":\"long\"},{\"metadata\":{},\"name\":\"numIntermediateNodesClustered\",\"nullable\":false,\"type\":\"long\"},{\"metadata\":{},\"name\":\"numFilesSkippedAfterExpansion\",\"nullable\":false,\"type\":\"long\"},{\"metadata\":{},\"name\":\"totalSizeOfFilesSkippedAfterExpansionInBytes\",\"nullable\":false,\"type\":\"long\"},{\"metadata\":{},\"name\":\"totalLogicalSizeOfFilesSkippedAfterExpansionInBytes\",\"nullable\":false,\"type\":\"long\"},{\"metadata\":{},\"name\":\"totalSizeOfDataToRewriteInBytes\",\"nullable\":false,\"type\":\"long\"},{\"metadata\":{},\"name\":\"totalLogicalSizeOfDataToRewriteInBytes\",\"nullable\":false,\"type\":\"long\"},{\"metadata\":{},\"name\":\"timeMetrics\",\"nullable\":true,\"type\":{\"fields\":[{\"metadata\":{},\"name\":\"classifierTimeMs\",\"nullable\":false,\"type\":\"long\"},{\"metadata\":{},\"name\":\"optimizerTimeMs\",\"nullable\":false,\"type\":\"long\"},{\"metadata\":{},\"name\":\"metadataLoadTimeMs\",\"nullable\":false,\"type\":\"long\"},{\"metadata\":{},\"name\":\"totalGetFilesForNodeCallsTimeMs\",\"nullable\":false,\"type\":\"long\"},{\"metadata\":{},\"name\":\"totalSamplingTimeMs\",\"nullable\":false,\"type\":\"long\"},{\"metadata\":{},\"name\":\"metadataCreationTimeMs\",\"nullable\":false,\"type\":\"long\"}],\"type\":\"struct\"}},{\"metadata\":{},\"name\":\"maxOptimizeBatchesInParallel\",\"nullable\":false,\"type\":\"long\"},{\"metadata\":{},\"name\":\"currentIteration\",\"nullable\":false,\"type\":\"integer\"},{\"metadata\":{},\"name\":\"maxIterations\",\"nullable\":false,\"type\":\"integer\"},{\"metadata\":{},\"name\":\"clusteringStrategy\",\"nullable\":true,\"type\":\"string\"}],\"type\":\"struct\"}}],\"type\":\"struct\"}"
        }
       ],
       "type": "table"
      }
     },
     "output_type": "display_data"
    }
   ],
   "source": [
    "%sql\n",
    "optimize delta.`/Volumes/my_catalog/my_schema/my_volume/delta_one/`\n",
    "zorder by (employee_id);"
   ]
  },
  {
   "cell_type": "markdown",
   "metadata": {
    "application/vnd.databricks.v1+cell": {
     "cellMetadata": {},
     "inputWidgets": {},
     "nuid": "66e14557-f8a7-4c63-982c-4585c91bdf1c",
     "showTitle": false,
     "tableResultSettingsMap": {},
     "title": ""
    }
   },
   "source": [
    "#### Optimize Write"
   ]
  },
  {
   "cell_type": "code",
   "execution_count": 0,
   "metadata": {
    "application/vnd.databricks.v1+cell": {
     "cellMetadata": {
      "byteLimit": 2048000,
      "rowLimit": 10000
     },
     "inputWidgets": {},
     "nuid": "50d657f0-c83f-426d-bdc7-e5a0facb6cf0",
     "showTitle": false,
     "tableResultSettingsMap": {},
     "title": ""
    }
   },
   "outputs": [],
   "source": [
    "df.write.format(\"delta\")\\\n",
    "    .option(\"path\", \"/Volumes/my_catalog/my_schema/my_volume/delta_write/\")\\\n",
    "    .option(\"optimizeWrite\", \"true\")\\\n",
    "    .mode(\"append\")\\\n",
    "    .save()"
   ]
  },
  {
   "cell_type": "markdown",
   "metadata": {
    "application/vnd.databricks.v1+cell": {
     "cellMetadata": {},
     "inputWidgets": {},
     "nuid": "74acb2f9-0416-407a-b11a-0ae079815e06",
     "showTitle": false,
     "tableResultSettingsMap": {},
     "title": ""
    }
   },
   "source": [
    "#### Overwrite Schema"
   ]
  },
  {
   "cell_type": "code",
   "execution_count": 0,
   "metadata": {
    "application/vnd.databricks.v1+cell": {
     "cellMetadata": {
      "byteLimit": 2048000,
      "rowLimit": 10000
     },
     "inputWidgets": {},
     "nuid": "269c7be4-f52b-4209-a886-aecc98339ba0",
     "showTitle": false,
     "tableResultSettingsMap": {},
     "title": ""
    }
   },
   "outputs": [],
   "source": [
    "df.write.format(\"delta\")\\\n",
    "  .mode(\"overwrite\")\\\n",
    "  .option(\"overwriteSchema\", True)\\\n",
    "  .save(\"/Volumes/my_catalog/my_schema/my_volume/delta_write/\")"
   ]
  },
  {
   "cell_type": "markdown",
   "metadata": {
    "application/vnd.databricks.v1+cell": {
     "cellMetadata": {},
     "inputWidgets": {},
     "nuid": "c94b8294-b933-4851-864f-3125eb336ca6",
     "showTitle": false,
     "tableResultSettingsMap": {},
     "title": ""
    }
   },
   "source": [
    "#### Spark Streaming"
   ]
  },
  {
   "cell_type": "code",
   "execution_count": 0,
   "metadata": {
    "application/vnd.databricks.v1+cell": {
     "cellMetadata": {
      "byteLimit": 2048000,
      "implicitDf": true,
      "rowLimit": 10000
     },
     "inputWidgets": {},
     "nuid": "7fc12d6c-75ef-4f51-ae7c-1e18d5aca7ef",
     "showTitle": false,
     "tableResultSettingsMap": {},
     "title": ""
    }
   },
   "outputs": [
    {
     "output_type": "display_data",
     "data": {
      "text/html": [
       "<style scoped>\n",
       "  .table-result-container {\n",
       "    max-height: 300px;\n",
       "    overflow: auto;\n",
       "  }\n",
       "  table, th, td {\n",
       "    border: 1px solid black;\n",
       "    border-collapse: collapse;\n",
       "  }\n",
       "  th, td {\n",
       "    padding: 5px;\n",
       "  }\n",
       "  th {\n",
       "    text-align: left;\n",
       "  }\n",
       "</style><div class='table-result-container'><table class='table-result'><thead style='background-color: white'><tr><th>num_affected_rows</th><th>num_inserted_rows</th></tr></thead><tbody><tr><td>2</td><td>2</td></tr></tbody></table></div>"
      ]
     },
     "metadata": {
      "application/vnd.databricks.v1+output": {
       "addedWidgets": {},
       "aggData": [],
       "aggError": "",
       "aggOverflow": false,
       "aggSchema": [],
       "aggSeriesLimitReached": false,
       "aggType": "",
       "arguments": {},
       "columnCustomDisplayInfos": {},
       "data": [
        [
         2,
         2
        ]
       ],
       "datasetInfos": [
        {
         "name": "_sqldf",
         "schema": {
          "fields": [
           {
            "metadata": {},
            "name": "num_affected_rows",
            "nullable": true,
            "type": "long"
           },
           {
            "metadata": {},
            "name": "num_inserted_rows",
            "nullable": true,
            "type": "long"
           }
          ],
          "type": "struct"
         },
         "tableIdentifier": null,
         "typeStr": "pyspark.sql.connect.dataframe.DataFrame"
        }
       ],
       "dbfsResultPath": null,
       "isJsonSchema": true,
       "metadata": {
        "createTempViewForImplicitDf": true,
        "dataframeName": "_sqldf",
        "executionCount": 57
       },
       "overflow": false,
       "plotOptions": {
        "customPlotOptions": {},
        "displayType": "table",
        "pivotAggregation": null,
        "pivotColumns": null,
        "xColumns": null,
        "yColumns": null
       },
       "removedWidgets": [],
       "schema": [
        {
         "metadata": "{}",
         "name": "num_affected_rows",
         "type": "\"long\""
        },
        {
         "metadata": "{}",
         "name": "num_inserted_rows",
         "type": "\"long\""
        }
       ],
       "type": "table"
      }
     },
     "output_type": "display_data"
    }
   ],
   "source": [
    "%sql\n",
    "insert into my_catalog.my_schema.my_delta_one\n",
    "values (1, \"aa\", \"100\"), (2, \"bb\", \"200\");"
   ]
  },
  {
   "cell_type": "code",
   "execution_count": 0,
   "metadata": {
    "application/vnd.databricks.v1+cell": {
     "cellMetadata": {
      "byteLimit": 2048000,
      "implicitDf": true,
      "rowLimit": 10000
     },
     "inputWidgets": {},
     "nuid": "2e2e0ea7-9536-4787-bcaf-1ea9280f1ea9",
     "showTitle": false,
     "tableResultSettingsMap": {},
     "title": ""
    }
   },
   "outputs": [
    {
     "output_type": "display_data",
     "data": {
      "text/html": [
       "<style scoped>\n",
       "  .table-result-container {\n",
       "    max-height: 300px;\n",
       "    overflow: auto;\n",
       "  }\n",
       "  table, th, td {\n",
       "    border: 1px solid black;\n",
       "    border-collapse: collapse;\n",
       "  }\n",
       "  th, td {\n",
       "    padding: 5px;\n",
       "  }\n",
       "  th {\n",
       "    text-align: left;\n",
       "  }\n",
       "</style><div class='table-result-container'><table class='table-result'><thead style='background-color: white'><tr><th>id</th><th>name</th><th>salary</th></tr></thead><tbody><tr><td>1</td><td>aa</td><td>100.0</td></tr><tr><td>2</td><td>bb</td><td>200.0</td></tr></tbody></table></div>"
      ]
     },
     "metadata": {
      "application/vnd.databricks.v1+output": {
       "addedWidgets": {},
       "aggData": [],
       "aggError": "",
       "aggOverflow": false,
       "aggSchema": [],
       "aggSeriesLimitReached": false,
       "aggType": "",
       "arguments": {},
       "columnCustomDisplayInfos": {},
       "data": [
        [
         1,
         "aa",
         100.0
        ],
        [
         2,
         "bb",
         200.0
        ]
       ],
       "datasetInfos": [
        {
         "name": "_sqldf",
         "schema": {
          "fields": [
           {
            "metadata": {},
            "name": "id",
            "nullable": true,
            "type": "integer"
           },
           {
            "metadata": {},
            "name": "name",
            "nullable": true,
            "type": "string"
           },
           {
            "metadata": {},
            "name": "salary",
            "nullable": true,
            "type": "double"
           }
          ],
          "type": "struct"
         },
         "tableIdentifier": null,
         "typeStr": "pyspark.sql.connect.dataframe.DataFrame"
        }
       ],
       "dbfsResultPath": null,
       "isJsonSchema": true,
       "metadata": {
        "createTempViewForImplicitDf": true,
        "dataframeName": "_sqldf",
        "executionCount": 58
       },
       "overflow": false,
       "plotOptions": {
        "customPlotOptions": {},
        "displayType": "table",
        "pivotAggregation": null,
        "pivotColumns": null,
        "xColumns": null,
        "yColumns": null
       },
       "removedWidgets": [],
       "schema": [
        {
         "metadata": "{}",
         "name": "id",
         "type": "\"integer\""
        },
        {
         "metadata": "{}",
         "name": "name",
         "type": "\"string\""
        },
        {
         "metadata": "{}",
         "name": "salary",
         "type": "\"double\""
        }
       ],
       "type": "table"
      }
     },
     "output_type": "display_data"
    }
   ],
   "source": [
    "%sql\n",
    "select * from my_catalog.my_schema.my_delta_one;"
   ]
  },
  {
   "cell_type": "code",
   "execution_count": 0,
   "metadata": {
    "application/vnd.databricks.v1+cell": {
     "cellMetadata": {
      "byteLimit": 2048000,
      "implicitDf": true,
      "rowLimit": 10000
     },
     "inputWidgets": {},
     "nuid": "c655b5b5-bb77-4660-aadb-ecbfb041dac6",
     "showTitle": false,
     "tableResultSettingsMap": {},
     "title": ""
    }
   },
   "outputs": [],
   "source": [
    "%sql\n",
    "create table my_catalog.my_schema.my_delta_two;"
   ]
  },
  {
   "cell_type": "code",
   "execution_count": 0,
   "metadata": {
    "application/vnd.databricks.v1+cell": {
     "cellMetadata": {
      "byteLimit": 2048000,
      "rowLimit": 10000
     },
     "inputWidgets": {},
     "nuid": "fa417e5b-eb66-43f9-bece-a941d743282b",
     "showTitle": false,
     "tableResultSettingsMap": {},
     "title": ""
    }
   },
   "outputs": [
    {
     "output_type": "execute_result",
     "data": {
      "text/plain": [
       "<pyspark.sql.connect.streaming.query.StreamingQuery at 0xff4e68447850>"
      ]
     },
     "execution_count": 62,
     "metadata": {},
     "output_type": "execute_result"
    }
   ],
   "source": [
    "df = spark.readStream.table(\"my_catalog.my_schema.my_delta_one\")\n",
    "df.writeStream.format(\"delta\")\\\n",
    "    .option(\"checkpointLocation\", \"/Volumes/my_catalog/my_schema/my_volume/delta_write/_checkpoints/\")\\\n",
    "    .option(\"mergeSchema\", \"true\")\\\n",
    "    .trigger(availableNow=True)\\\n",
    "    .toTable(\"my_catalog.my_schema.my_delta_two\")"
   ]
  },
  {
   "cell_type": "code",
   "execution_count": 0,
   "metadata": {
    "application/vnd.databricks.v1+cell": {
     "cellMetadata": {
      "byteLimit": 2048000,
      "implicitDf": true,
      "rowLimit": 10000
     },
     "inputWidgets": {},
     "nuid": "51a48938-3286-466b-bd3e-797dcf02165f",
     "showTitle": false,
     "tableResultSettingsMap": {},
     "title": ""
    }
   },
   "outputs": [
    {
     "output_type": "display_data",
     "data": {
      "text/html": [
       "<style scoped>\n",
       "  .table-result-container {\n",
       "    max-height: 300px;\n",
       "    overflow: auto;\n",
       "  }\n",
       "  table, th, td {\n",
       "    border: 1px solid black;\n",
       "    border-collapse: collapse;\n",
       "  }\n",
       "  th, td {\n",
       "    padding: 5px;\n",
       "  }\n",
       "  th {\n",
       "    text-align: left;\n",
       "  }\n",
       "</style><div class='table-result-container'><table class='table-result'><thead style='background-color: white'><tr><th>id</th><th>name</th><th>salary</th></tr></thead><tbody><tr><td>1</td><td>aa</td><td>100.0</td></tr><tr><td>2</td><td>bb</td><td>200.0</td></tr></tbody></table></div>"
      ]
     },
     "metadata": {
      "application/vnd.databricks.v1+output": {
       "addedWidgets": {},
       "aggData": [],
       "aggError": "",
       "aggOverflow": false,
       "aggSchema": [],
       "aggSeriesLimitReached": false,
       "aggType": "",
       "arguments": {},
       "columnCustomDisplayInfos": {},
       "data": [
        [
         1,
         "aa",
         100.0
        ],
        [
         2,
         "bb",
         200.0
        ]
       ],
       "datasetInfos": [
        {
         "name": "_sqldf",
         "schema": {
          "fields": [
           {
            "metadata": {},
            "name": "id",
            "nullable": true,
            "type": "integer"
           },
           {
            "metadata": {},
            "name": "name",
            "nullable": true,
            "type": "string"
           },
           {
            "metadata": {},
            "name": "salary",
            "nullable": true,
            "type": "double"
           }
          ],
          "type": "struct"
         },
         "tableIdentifier": null,
         "typeStr": "pyspark.sql.connect.dataframe.DataFrame"
        }
       ],
       "dbfsResultPath": null,
       "isJsonSchema": true,
       "metadata": {
        "createTempViewForImplicitDf": true,
        "dataframeName": "_sqldf",
        "executionCount": 63
       },
       "overflow": false,
       "plotOptions": {
        "customPlotOptions": {},
        "displayType": "table",
        "pivotAggregation": null,
        "pivotColumns": null,
        "xColumns": null,
        "yColumns": null
       },
       "removedWidgets": [],
       "schema": [
        {
         "metadata": "{}",
         "name": "id",
         "type": "\"integer\""
        },
        {
         "metadata": "{}",
         "name": "name",
         "type": "\"string\""
        },
        {
         "metadata": "{}",
         "name": "salary",
         "type": "\"double\""
        }
       ],
       "type": "table"
      }
     },
     "output_type": "display_data"
    }
   ],
   "source": [
    "%sql\n",
    "select * from my_catalog.my_schema.my_delta_two;"
   ]
  },
  {
   "cell_type": "code",
   "execution_count": 0,
   "metadata": {
    "application/vnd.databricks.v1+cell": {
     "cellMetadata": {},
     "inputWidgets": {},
     "nuid": "fac05b48-0e14-4b9a-a37d-58039d364b81",
     "showTitle": false,
     "tableResultSettingsMap": {},
     "title": ""
    }
   },
   "outputs": [],
   "source": []
  }
 ],
 "metadata": {
  "application/vnd.databricks.v1+notebook": {
   "computePreferences": null,
   "dashboards": [],
   "environmentMetadata": {
    "base_environment": "",
    "environment_version": "2"
   },
   "inputWidgetPreferences": null,
   "language": "python",
   "notebookMetadata": {
    "mostRecentlyExecutedCommandWithImplicitDF": {
     "commandId": 7700461156897092,
     "dataframes": [
      "_sqldf"
     ]
    },
    "pythonIndentUnit": 4
   },
   "notebookName": "DeltaExploration",
   "widgets": {}
  },
  "language_info": {
   "name": "python"
  }
 },
 "nbformat": 4,
 "nbformat_minor": 0
}